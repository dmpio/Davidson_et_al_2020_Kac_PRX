{
 "cells": [
  {
   "cell_type": "code",
   "execution_count": 1,
   "metadata": {},
   "outputs": [],
   "source": [
    "# Initialize\n",
    "import numpy as np\n",
    "import pandas as pd\n",
    "import re"
   ]
  },
  {
   "cell_type": "code",
   "execution_count": 2,
   "metadata": {},
   "outputs": [],
   "source": [
    "peptides_file = 'pd22_exports/pd22_export_exp2_Heart_DKO-TACMI-Comparison_PeptideGroups.txt'\n",
    "proteins_file = 'pd22_exports/pd22_export_exp2_Heart_DKO-TACMI-Comparison_Proteins.txt'\n",
    "pep = pd.read_csv(peptides_file, sep='\\t', low_memory=False)\n",
    "pro = pd.read_csv(proteins_file, sep='\\t', low_memory=False)"
   ]
  },
  {
   "cell_type": "markdown",
   "metadata": {},
   "source": [
    "# Import data from proteome discoverer"
   ]
  },
  {
   "cell_type": "markdown",
   "metadata": {},
   "source": [
    "For the peptides dataframe, use the first listed Master Protein Accession ID as the primary identifier. This identifier will be matched in the Proteins dataframe and used to pull additional information about the peptide. "
   ]
  },
  {
   "cell_type": "code",
   "execution_count": 3,
   "metadata": {},
   "outputs": [],
   "source": [
    "pep['Accession'] = pep['Master Protein Accessions'].str.split('; ', expand=True)[0]\n",
    "pro['Entrez'] = pro['Entrez Gene ID'].str.split('; ', expand=True)[0]\n",
    "pro['Ensembl'] = pro['Ensembl Gene ID'].str.split('; ', expand=True)[0]\n",
    "\n",
    "pep = pep.merge(pro[['Accession', 'Description', 'Entrez', 'Gene Symbol']], on='Accession')"
   ]
  },
  {
   "cell_type": "markdown",
   "metadata": {},
   "source": [
    "Next, import a pre-generated dataframe (stored as a pickled binary format). The information is based on the MitoCarta2 database, pulled from MitoMiner (http://mitominer.mrc-mbu.cam.ac.uk/release-4.0/begin.do) with additional, manually curated information about the particular location within the mitochondria. This will be used to identify peptides and proteins as mitochondrial.\n",
    "\n",
    "IMS = intermembrane space\n",
    "\n",
    "matrix = mitochondrial matrix"
   ]
  },
  {
   "cell_type": "code",
   "execution_count": 4,
   "metadata": {},
   "outputs": [],
   "source": [
    "mitocarta_df = pd.read_csv('mitocarta.csv')\n",
    "\n",
    "pep['MitoCarta2_List'] = pep.Entrez.isin(mitocarta_df.MouseGeneID.astype(str))\n",
    "pep['Matrix'] = pep.Entrez.isin(mitocarta_df.MouseGeneID[mitocarta_df.Matrix].astype(str))\n",
    "pep['IMS'] = pep.Entrez.isin(mitocarta_df.MouseGeneID[mitocarta_df.IMS].astype(str))\n",
    "\n",
    "pro['MitoCarta2_List'] = pro.Entrez.isin(mitocarta_df.MouseGeneID.astype(str))\n",
    "pro['Matrix'] = pro.Entrez.isin(mitocarta_df.MouseGeneID[mitocarta_df.Matrix].astype(str))\n",
    "pro['IMS'] = pro.Entrez.isin(mitocarta_df.MouseGeneID[mitocarta_df.IMS].astype(str))"
   ]
  },
  {
   "cell_type": "markdown",
   "metadata": {},
   "source": [
    "Next, we will identify columns that we want to store in a \"Master Index\". This will contian key information we want to retain from the proteome discoverer 2.2 exported file"
   ]
  },
  {
   "cell_type": "code",
   "execution_count": 5,
   "metadata": {
    "code_folding": [
     0,
     1,
     19
    ]
   },
   "outputs": [],
   "source": [
    "# a list to of columns to make a master index\n",
    "protein_mi_list = ['Accession', \n",
    "                   'Description',\n",
    "                   'Entrez',\n",
    "                   'Gene Symbol',\n",
    "                   'Ensembl',\n",
    "                   'MitoCarta2_List',\n",
    "                   'Matrix', \n",
    "                   'IMS',\n",
    "                   'Coverage [%]',\n",
    "                   '# Peptides',\n",
    "                   '# PSMs',\n",
    "                   '# Protein Unique Peptides',\n",
    "                   '# Unique Peptides', \n",
    "                   'Chromosome',\n",
    "                   'Modifications',\n",
    "                   'Acetyl (K) Count',\n",
    "                   'Acetyl (K) Positions']\n",
    "\n",
    "peptide_mi_list = ['Accession', \n",
    "                   'Description',\n",
    "                   'Entrez',\n",
    "                   'Gene Symbol',\n",
    "                   'Modifications', \n",
    "                   'MitoCarta2_List',\n",
    "                   'Matrix', \n",
    "                   'IMS', \n",
    "                   'Modifications in Proteins',\n",
    "                   'Modifications in Proteins (all Sites)',\n",
    "                   'Positions in Proteins',]"
   ]
  },
  {
   "cell_type": "markdown",
   "metadata": {},
   "source": [
    "Now, we identify the abundance columns from the experiment. These contain the quantification data for each TMT channel. There are 2 fractions that are mentioned:\n",
    "\n",
    "- F1 = \"Input\", the unenriched, pooled TMT-labeled peptides for all 10 samples. \n",
    "- F2 = \"Acetyl\", the Acetyl-lysine IP-enriched fraction \n",
    "\n",
    "The numbers (126, 130C) indicate the specific TMT tag associated with the column. \n",
    "\n",
    "Categorical Variables:\n",
    "- DFC = Dual flox control (Sirt3 and Crat floxed)\n",
    "- DKO = Dual Knock-out (Sirt3 and Crat knockout via MCK-Cre)\n",
    "- Sham = Surgical Controls for TACMI\n",
    "- TACMI = Trans-aortic constriction + small apical myocardial infarction, a model of heart failure"
   ]
  },
  {
   "cell_type": "code",
   "execution_count": 6,
   "metadata": {
    "code_folding": [
     0,
     12
    ]
   },
   "outputs": [],
   "source": [
    "input_abundance_list = ['Abundance: F1: 126, Sample, TAC-MI [Group], Input [Fraction]',\n",
    "                        'Abundance: F1: 127N, Sample, DKO [Group], Input [Fraction]',\n",
    "                        'Abundance: F1: 127C, Sample, Sham [Group], Input [Fraction]',\n",
    "                        'Abundance: F1: 128N, Sample, DKO [Group], Input [Fraction]',\n",
    "                        'Abundance: F1: 128C, Sample, DFC [Group], Input [Fraction]',\n",
    "                        'Abundance: F1: 129N, Sample, Sham [Group], Input [Fraction]',\n",
    "                        'Abundance: F1: 129C, Sample, DKO [Group], Input [Fraction]',\n",
    "                        'Abundance: F1: 130N, Sample, TAC-MI [Group], Input [Fraction]',\n",
    "                        'Abundance: F1: 130C, Sample, Sham [Group], Input [Fraction]',\n",
    "                        'Abundance: F1: 131N, Sample, DFC [Group], Input [Fraction]',\n",
    "                        'Abundance: F1: 131C, Sample, TAC-MI [Group], Input [Fraction]',]\n",
    "\n",
    "acetyl_abundance_list = ['Abundance: F2: 126, Sample, TAC-MI [Group], Acetyl [Fraction]',\n",
    "                         'Abundance: F2: 127N, Sample, DKO [Group], Acetyl [Fraction]',\n",
    "                         'Abundance: F2: 127C, Sample, Sham [Group], Acetyl [Fraction]',\n",
    "                         'Abundance: F2: 128N, Sample, DKO [Group], Acetyl [Fraction]',\n",
    "                         'Abundance: F2: 128C, Sample, DFC [Group], Acetyl [Fraction]',\n",
    "                         'Abundance: F2: 129N, Sample, Sham [Group], Acetyl [Fraction]',\n",
    "                         'Abundance: F2: 129C, Sample, DKO [Group], Acetyl [Fraction]',\n",
    "                         'Abundance: F2: 130N, Sample, TAC-MI [Group], Acetyl [Fraction]',\n",
    "                         'Abundance: F2: 130C, Sample, Sham [Group], Acetyl [Fraction]',\n",
    "                         'Abundance: F2: 131N, Sample, DFC [Group], Acetyl [Fraction]',\n",
    "                         'Abundance: F2: 131C, Sample, TAC-MI [Group], Acetyl [Fraction]',]\n"
   ]
  },
  {
   "cell_type": "markdown",
   "metadata": {},
   "source": [
    "These are shorter, more friendly versions of those identifier that will be used to rename the columns"
   ]
  },
  {
   "cell_type": "code",
   "execution_count": 7,
   "metadata": {
    "code_folding": [
     0,
     12
    ]
   },
   "outputs": [],
   "source": [
    "input_consolidated_list = ['TAC-MI,126,Input',\n",
    "                           'DKO,127N,Input',\n",
    "                           'Sham,127C,Input',\n",
    "                           'DKO,128N,Input',\n",
    "                           'DFC,128C,Input',\n",
    "                           'Sham,129N,Input',\n",
    "                           'DKO,129C,Input',\n",
    "                           'TAC-MI,130N,Input',\n",
    "                           'Sham,130C,Input',\n",
    "                           'DFC,131N,Input',\n",
    "                           'TAC-MI,131C,Input']\n",
    "\n",
    "acetyl_consolidated_list = ['TAC-MI,126,Acetyl',\n",
    "                            'DKO,127N,Acetyl',\n",
    "                            'Sham,127C,Acetyl',\n",
    "                            'DKO,128N,Acetyl',\n",
    "                            'DFC,128C,Acetyl',\n",
    "                            'Sham,129N,Acetyl',\n",
    "                            'DKO,129C,Acetyl',\n",
    "                            'TAC-MI,130N,Acetyl',\n",
    "                            'Sham,130C,Acetyl',\n",
    "                            'DFC,131N,Acetyl',\n",
    "                            'TAC-MI,131C,Acetyl']"
   ]
  },
  {
   "cell_type": "code",
   "execution_count": 8,
   "metadata": {
    "code_folding": [
     0,
     3
    ]
   },
   "outputs": [],
   "source": [
    "acetyl_columns_df = pd.DataFrame.from_records([col.split(',') for col in acetyl_consolidated_list], \n",
    "                                              columns=['Category', 'Channel', 'Fraction'])\n",
    "\n",
    "input_columns_df = pd.DataFrame.from_records([col.split(',') for col in input_consolidated_list], \n",
    "                                              columns=['Category', 'Channel', 'Fraction'])\n",
    "\n",
    "acetyl_columns_df.set_index(acetyl_columns_df.columns.tolist(), inplace=True)\n",
    "input_columns_df.set_index(input_columns_df.columns.tolist(), inplace=True)"
   ]
  },
  {
   "cell_type": "markdown",
   "metadata": {},
   "source": [
    "## Locate the Acetyl Peptides (Kac)"
   ]
  },
  {
   "cell_type": "markdown",
   "metadata": {},
   "source": [
    "We look for peptides that were quantified from the Acetyl fraction AND contain an identified actyl-lysine residue present. While the acetyl fraction is enriched for acetylated lysine residues, not all identified peptides within this fraction contain this post-translational modification. "
   ]
  },
  {
   "cell_type": "code",
   "execution_count": 9,
   "metadata": {},
   "outputs": [],
   "source": [
    "acetyl_df = pep[pep['Modifications'].str.contains('Acetyl')][acetyl_abundance_list].dropna()\n",
    "acetyl_df.columns = acetyl_columns_df.index\n",
    "\n",
    "# Flatten the column headers for working in R\n",
    "acetyl_df.columns = ['_'.join(col).strip() for col in acetyl_df.columns.values]"
   ]
  },
  {
   "cell_type": "code",
   "execution_count": 10,
   "metadata": {},
   "outputs": [],
   "source": [
    "# Define the input - i.e., everything identified in the non-enriched fraction\n",
    "input_df = pep[input_abundance_list].dropna()\n",
    "input_df.columns = input_columns_df.index\n",
    "\n",
    "# Flatten the column headers for symmetry with acetyl\n",
    "input_df.columns = ['_'.join(col).strip() for col in input_df.columns.values]"
   ]
  },
  {
   "cell_type": "markdown",
   "metadata": {},
   "source": [
    "## Locate the protein abundances\n",
    "- Use values obtained from the input fraction - these represent the total proteome\n",
    "- Only select proteins that are called \"Master Proteins\" by proteome discoverer 2.2 wiht a FDR < 0.01"
   ]
  },
  {
   "cell_type": "code",
   "execution_count": 11,
   "metadata": {},
   "outputs": [],
   "source": [
    "protein_df = (pro[(pro.Master=='IsMasterProtein')\n",
    "                  &(pro['Exp. q-value: Combined']<=0.01)]\n",
    "              [input_abundance_list]\n",
    "              .dropna(how='all')\n",
    "              .copy())\n",
    "\n",
    "# copy the input headers and rename for proteins\n",
    "protein_df.columns = input_df.columns\n",
    "protein_df.rename(columns=lambda x: x.replace('Input', 'Proteins'), inplace=True)\n"
   ]
  },
  {
   "cell_type": "markdown",
   "metadata": {},
   "source": [
    "# Normalize Data\n",
    "- Correct for variations in total protein loading per kit\n",
    "- use the mean of the sums of total peptide loading (input fraction) to generate a correction factor\n",
    "- apply this correction factor to the acetyl peptides, 'input fraction', and proteins"
   ]
  },
  {
   "cell_type": "markdown",
   "metadata": {},
   "source": [
    "## Calculate the scaling factor for each plex "
   ]
  },
  {
   "cell_type": "code",
   "execution_count": 12,
   "metadata": {},
   "outputs": [],
   "source": [
    "channel_sums = input_df.sum(axis=0)"
   ]
  },
  {
   "cell_type": "code",
   "execution_count": 13,
   "metadata": {},
   "outputs": [
    {
     "name": "stdout",
     "output_type": "stream",
     "text": [
      "Individual Channel, Loading relative to the mean\n"
     ]
    },
    {
     "data": {
      "text/plain": [
       "TAC-MI_126_Input     0.978148\n",
       "DKO_127N_Input       1.127574\n",
       "Sham_127C_Input      0.908191\n",
       "DKO_128N_Input       0.819679\n",
       "DFC_128C_Input       1.145598\n",
       "Sham_129N_Input      0.845967\n",
       "DKO_129C_Input       1.011915\n",
       "TAC-MI_130N_Input    1.053473\n",
       "Sham_130C_Input      0.899799\n",
       "DFC_131N_Input       1.206911\n",
       "TAC-MI_131C_Input    1.002746\n",
       "dtype: float64"
      ]
     },
     "execution_count": 13,
     "metadata": {},
     "output_type": "execute_result"
    }
   ],
   "source": [
    "print('Individual Channel, Loading relative to the mean')\n",
    "\n",
    "channel_sums.divide(channel_sums.mean())"
   ]
  },
  {
   "cell_type": "code",
   "execution_count": 14,
   "metadata": {},
   "outputs": [
    {
     "name": "stdout",
     "output_type": "stream",
     "text": [
      "Scaling factor to adjust relative loading to 1\n"
     ]
    },
    {
     "data": {
      "text/plain": [
       "TAC-MI_126_Input     1.022340\n",
       "DKO_127N_Input       0.886860\n",
       "Sham_127C_Input      1.101090\n",
       "DKO_128N_Input       1.219990\n",
       "DFC_128C_Input       0.872906\n",
       "Sham_129N_Input      1.182079\n",
       "DKO_129C_Input       0.988225\n",
       "TAC-MI_130N_Input    0.949242\n",
       "Sham_130C_Input      1.111359\n",
       "DFC_131N_Input       0.828562\n",
       "TAC-MI_131C_Input    0.997262\n",
       "dtype: float64"
      ]
     },
     "execution_count": 14,
     "metadata": {},
     "output_type": "execute_result"
    }
   ],
   "source": [
    "print('Scaling factor to adjust relative loading to 1')\n",
    "\n",
    "scaling_factor = 1/channel_sums.divide(channel_sums.mean())\n",
    "scaling_factor"
   ]
  },
  {
   "cell_type": "markdown",
   "metadata": {},
   "source": [
    "## Apply the Scaling Factor"
   ]
  },
  {
   "cell_type": "code",
   "execution_count": 15,
   "metadata": {},
   "outputs": [
    {
     "data": {
      "text/plain": [
       "TAC-MI_126_Input_norm     6.110504e+06\n",
       "DKO_127N_Input_norm       6.110504e+06\n",
       "Sham_127C_Input_norm      6.110504e+06\n",
       "DKO_128N_Input_norm       6.110504e+06\n",
       "DFC_128C_Input_norm       6.110504e+06\n",
       "Sham_129N_Input_norm      6.110504e+06\n",
       "DKO_129C_Input_norm       6.110504e+06\n",
       "TAC-MI_130N_Input_norm    6.110504e+06\n",
       "Sham_130C_Input_norm      6.110504e+06\n",
       "DFC_131N_Input_norm       6.110504e+06\n",
       "TAC-MI_131C_Input_norm    6.110504e+06\n",
       "dtype: float64"
      ]
     },
     "execution_count": 15,
     "metadata": {},
     "output_type": "execute_result"
    }
   ],
   "source": [
    "input_norm = (input_df * scaling_factor)\n",
    "input_norm.columns = [str(col) + '_norm' for col in input_norm.columns]\n",
    "input_norm.sum()"
   ]
  },
  {
   "cell_type": "code",
   "execution_count": 16,
   "metadata": {},
   "outputs": [
    {
     "data": {
      "text/plain": [
       "TAC-MI_126_Proteins_norm     4.573472e+06\n",
       "DKO_127N_Proteins_norm       4.610046e+06\n",
       "Sham_127C_Proteins_norm      4.650007e+06\n",
       "DKO_128N_Proteins_norm       4.616737e+06\n",
       "DFC_128C_Proteins_norm       4.576719e+06\n",
       "Sham_129N_Proteins_norm      4.640093e+06\n",
       "DKO_129C_Proteins_norm       4.635026e+06\n",
       "TAC-MI_130N_Proteins_norm    4.572340e+06\n",
       "Sham_130C_Proteins_norm      4.643309e+06\n",
       "DFC_131N_Proteins_norm       4.620132e+06\n",
       "TAC-MI_131C_Proteins_norm    4.606403e+06\n",
       "dtype: float64"
      ]
     },
     "execution_count": 16,
     "metadata": {},
     "output_type": "execute_result"
    }
   ],
   "source": [
    "protein_norm = (protein_df * scaling_factor.rename(lambda x: x.replace('Input', 'Proteins')))\n",
    "protein_norm.columns = [str(col) + '_norm' for col in protein_norm.columns]\n",
    "protein_norm.sum()"
   ]
  },
  {
   "cell_type": "code",
   "execution_count": 17,
   "metadata": {},
   "outputs": [
    {
     "data": {
      "text/plain": [
       "TAC-MI_126_Acetyl_norm      34494.989863\n",
       "DKO_127N_Acetyl_norm       102525.579726\n",
       "Sham_127C_Acetyl_norm       32395.623498\n",
       "DKO_128N_Acetyl_norm       102701.446135\n",
       "DFC_128C_Acetyl_norm        40875.329283\n",
       "Sham_129N_Acetyl_norm       30459.343880\n",
       "DKO_129C_Acetyl_norm        96477.042128\n",
       "TAC-MI_130N_Acetyl_norm     32593.157795\n",
       "Sham_130C_Acetyl_norm       34446.471013\n",
       "DFC_131N_Acetyl_norm        39662.340872\n",
       "TAC-MI_131C_Acetyl_norm     53245.397169\n",
       "dtype: float64"
      ]
     },
     "execution_count": 17,
     "metadata": {},
     "output_type": "execute_result"
    }
   ],
   "source": [
    "acetyl_norm = acetyl_df * scaling_factor.rename(lambda x: x.replace('Input', 'Acetyl'))\n",
    "acetyl_norm.columns = [str(col) + '_norm' for col in acetyl_norm.columns]\n",
    "acetyl_norm.sum()"
   ]
  },
  {
   "cell_type": "markdown",
   "metadata": {},
   "source": [
    "# Calculate the \"relative occupancy\" for each plex\n",
    "- This adjusts the acetyl peptide quantification based on changes in protein quantification. This corrects not for experimental loading, but for genetic changes that may occur between the genetic knock-out and the flox control.\n",
    "- The relative occupancy corrections will be almost un-noticed in these animals, however. "
   ]
  },
  {
   "cell_type": "code",
   "execution_count": 18,
   "metadata": {},
   "outputs": [
    {
     "name": "stderr",
     "output_type": "stream",
     "text": [
      "C:\\Anaconda3\\lib\\site-packages\\ipykernel_launcher.py:3: RuntimeWarning: divide by zero encountered in log2\n",
      "  This is separate from the ipykernel package so we can avoid doing imports until\n",
      "C:\\Anaconda3\\lib\\site-packages\\ipykernel_launcher.py:4: RuntimeWarning: divide by zero encountered in log2\n",
      "  after removing the cwd from sys.path.\n"
     ]
    }
   ],
   "source": [
    "# convert the input-normalized data into the log2 space\n",
    "# subtract the row mean from each column to center each row around 0 (in log 2)\n",
    "acetyl_norm_log2 = np.log2(acetyl_norm).sub(np.log2(acetyl_norm).mean(axis=1), axis='index')\n",
    "input_norm_log2 = np.log2(input_norm).sub(np.log2(input_norm).mean(axis=1), axis='index')\n",
    "protein_norm_log2 = np.log2(protein_norm).sub(np.log2(protein_norm).mean(axis=1), axis='index')\n",
    "\n",
    "\n",
    "# rename columns to save the information\n",
    "acetyl_norm_log2.columns = [str(col) + '_log2' for col in acetyl_norm_log2.columns]\n",
    "input_norm_log2.columns = [str(col) + '_log2' for col in input_norm_log2.columns]\n",
    "protein_norm_log2.columns = [str(col) + '_log2' for col in protein_norm_log2.columns]\n"
   ]
  },
  {
   "cell_type": "markdown",
   "metadata": {},
   "source": [
    "Combine the the \"raw\", load-normalized, and log2-transformed data into a single dataframe"
   ]
  },
  {
   "cell_type": "code",
   "execution_count": 19,
   "metadata": {},
   "outputs": [],
   "source": [
    "acetyl = pd.concat([pep.loc[acetyl_norm.index][peptide_mi_list], \n",
    "                    acetyl_df, \n",
    "                    acetyl_norm, \n",
    "                    acetyl_norm_log2,], \n",
    "                   axis=1)\n",
    "\n",
    "inputs = pd.concat([pep.loc[input_norm.index][peptide_mi_list], \n",
    "                    input_df, \n",
    "                    input_norm, \n",
    "                    input_norm_log2], \n",
    "                   axis=1)\n",
    "\n",
    "protein = pd.concat([pro.loc[protein_df.index][protein_mi_list], \n",
    "                     protein_df, \n",
    "                     protein_norm, \n",
    "                     protein_norm_log2], \n",
    "                    axis=1)\n"
   ]
  },
  {
   "cell_type": "markdown",
   "metadata": {},
   "source": [
    "## Calculate the RO\n",
    "- Merge protein information along with acetyl information into a single dataframe\n",
    "- The protein abundance information will be used to correc the acetyl data (the relative occupancy)"
   ]
  },
  {
   "cell_type": "code",
   "execution_count": 20,
   "metadata": {},
   "outputs": [],
   "source": [
    "protein_merge_cols = protein.filter(regex='_log2').columns.tolist() + ['Accession']"
   ]
  },
  {
   "cell_type": "code",
   "execution_count": 21,
   "metadata": {},
   "outputs": [],
   "source": [
    "merged_acetyl = acetyl.merge(protein[protein_merge_cols], \n",
    "                             on='Accession', \n",
    "                             how='left', \n",
    "                             validate='m:1')"
   ]
  },
  {
   "cell_type": "markdown",
   "metadata": {},
   "source": [
    "The relative occupancy of the post-translational modification is calculated by subtracting changes in the protien abundance from the acetyl-peptide abundance. For example, if a PTM site is found to be increasing by 2 fold, but the protein abundnace is also increasing by 2 fold, then the relative occupancy would be 0. "
   ]
  },
  {
   "cell_type": "code",
   "execution_count": 22,
   "metadata": {},
   "outputs": [
    {
     "data": {
      "text/html": [
       "<div>\n",
       "<style scoped>\n",
       "    .dataframe tbody tr th:only-of-type {\n",
       "        vertical-align: middle;\n",
       "    }\n",
       "\n",
       "    .dataframe tbody tr th {\n",
       "        vertical-align: top;\n",
       "    }\n",
       "\n",
       "    .dataframe thead th {\n",
       "        text-align: right;\n",
       "    }\n",
       "</style>\n",
       "<table border=\"1\" class=\"dataframe\">\n",
       "  <thead>\n",
       "    <tr style=\"text-align: right;\">\n",
       "      <th></th>\n",
       "      <th>TAC-MI_126_Acetyl_norm_log2_ro</th>\n",
       "      <th>DKO_127N_Acetyl_norm_log2_ro</th>\n",
       "      <th>Sham_127C_Acetyl_norm_log2_ro</th>\n",
       "      <th>DKO_128N_Acetyl_norm_log2_ro</th>\n",
       "      <th>DFC_128C_Acetyl_norm_log2_ro</th>\n",
       "      <th>Sham_129N_Acetyl_norm_log2_ro</th>\n",
       "      <th>DKO_129C_Acetyl_norm_log2_ro</th>\n",
       "      <th>TAC-MI_130N_Acetyl_norm_log2_ro</th>\n",
       "      <th>Sham_130C_Acetyl_norm_log2_ro</th>\n",
       "      <th>DFC_131N_Acetyl_norm_log2_ro</th>\n",
       "      <th>TAC-MI_131C_Acetyl_norm_log2_ro</th>\n",
       "    </tr>\n",
       "  </thead>\n",
       "  <tbody>\n",
       "    <tr>\n",
       "      <th>0</th>\n",
       "      <td>-1.171947</td>\n",
       "      <td>-0.054476</td>\n",
       "      <td>-1.313477</td>\n",
       "      <td>1.166741</td>\n",
       "      <td>0.187091</td>\n",
       "      <td>0.029175</td>\n",
       "      <td>0.367887</td>\n",
       "      <td>0.105076</td>\n",
       "      <td>0.139546</td>\n",
       "      <td>0.163542</td>\n",
       "      <td>0.380841</td>\n",
       "    </tr>\n",
       "    <tr>\n",
       "      <th>1</th>\n",
       "      <td>-0.710859</td>\n",
       "      <td>-0.300387</td>\n",
       "      <td>0.014809</td>\n",
       "      <td>-0.241938</td>\n",
       "      <td>0.019017</td>\n",
       "      <td>-0.131007</td>\n",
       "      <td>-0.341640</td>\n",
       "      <td>-0.106746</td>\n",
       "      <td>-0.041327</td>\n",
       "      <td>0.489732</td>\n",
       "      <td>1.350348</td>\n",
       "    </tr>\n",
       "    <tr>\n",
       "      <th>2</th>\n",
       "      <td>0.087216</td>\n",
       "      <td>0.318340</td>\n",
       "      <td>0.003754</td>\n",
       "      <td>0.159937</td>\n",
       "      <td>-0.856471</td>\n",
       "      <td>-0.201116</td>\n",
       "      <td>-0.201439</td>\n",
       "      <td>-0.133182</td>\n",
       "      <td>0.369985</td>\n",
       "      <td>-0.076466</td>\n",
       "      <td>0.529439</td>\n",
       "    </tr>\n",
       "    <tr>\n",
       "      <th>3</th>\n",
       "      <td>-0.043533</td>\n",
       "      <td>0.474801</td>\n",
       "      <td>-0.053923</td>\n",
       "      <td>-0.295965</td>\n",
       "      <td>-0.102156</td>\n",
       "      <td>-0.353691</td>\n",
       "      <td>0.235195</td>\n",
       "      <td>-0.288300</td>\n",
       "      <td>0.122764</td>\n",
       "      <td>0.285267</td>\n",
       "      <td>0.019542</td>\n",
       "    </tr>\n",
       "    <tr>\n",
       "      <th>4</th>\n",
       "      <td>-0.442430</td>\n",
       "      <td>0.960247</td>\n",
       "      <td>-0.889294</td>\n",
       "      <td>0.852892</td>\n",
       "      <td>-0.062233</td>\n",
       "      <td>-0.509688</td>\n",
       "      <td>0.497793</td>\n",
       "      <td>0.093597</td>\n",
       "      <td>-0.400420</td>\n",
       "      <td>-0.463512</td>\n",
       "      <td>0.363047</td>\n",
       "    </tr>\n",
       "  </tbody>\n",
       "</table>\n",
       "</div>"
      ],
      "text/plain": [
       "   TAC-MI_126_Acetyl_norm_log2_ro  DKO_127N_Acetyl_norm_log2_ro  \\\n",
       "0                       -1.171947                     -0.054476   \n",
       "1                       -0.710859                     -0.300387   \n",
       "2                        0.087216                      0.318340   \n",
       "3                       -0.043533                      0.474801   \n",
       "4                       -0.442430                      0.960247   \n",
       "\n",
       "   Sham_127C_Acetyl_norm_log2_ro  DKO_128N_Acetyl_norm_log2_ro  \\\n",
       "0                      -1.313477                      1.166741   \n",
       "1                       0.014809                     -0.241938   \n",
       "2                       0.003754                      0.159937   \n",
       "3                      -0.053923                     -0.295965   \n",
       "4                      -0.889294                      0.852892   \n",
       "\n",
       "   DFC_128C_Acetyl_norm_log2_ro  Sham_129N_Acetyl_norm_log2_ro  \\\n",
       "0                      0.187091                       0.029175   \n",
       "1                      0.019017                      -0.131007   \n",
       "2                     -0.856471                      -0.201116   \n",
       "3                     -0.102156                      -0.353691   \n",
       "4                     -0.062233                      -0.509688   \n",
       "\n",
       "   DKO_129C_Acetyl_norm_log2_ro  TAC-MI_130N_Acetyl_norm_log2_ro  \\\n",
       "0                      0.367887                         0.105076   \n",
       "1                     -0.341640                        -0.106746   \n",
       "2                     -0.201439                        -0.133182   \n",
       "3                      0.235195                        -0.288300   \n",
       "4                      0.497793                         0.093597   \n",
       "\n",
       "   Sham_130C_Acetyl_norm_log2_ro  DFC_131N_Acetyl_norm_log2_ro  \\\n",
       "0                       0.139546                      0.163542   \n",
       "1                      -0.041327                      0.489732   \n",
       "2                       0.369985                     -0.076466   \n",
       "3                       0.122764                      0.285267   \n",
       "4                      -0.400420                     -0.463512   \n",
       "\n",
       "   TAC-MI_131C_Acetyl_norm_log2_ro  \n",
       "0                         0.380841  \n",
       "1                         1.350348  \n",
       "2                         0.529439  \n",
       "3                         0.019542  \n",
       "4                         0.363047  "
      ]
     },
     "execution_count": 22,
     "metadata": {},
     "output_type": "execute_result"
    }
   ],
   "source": [
    "# calculate relative occupancy in acetyl peptides\n",
    "\n",
    "relative_occupancy = (merged_acetyl.filter(regex='Acetyl_norm_log2')\n",
    "                      .sub(merged_acetyl.filter(regex='Proteins_norm_log2')\n",
    "                           # rename the protein column headers to enable easy dataframe subtraction\n",
    "                           .rename(columns=lambda x: x.replace('Proteins', 'Acetyl'))))\n",
    "\n",
    "relative_occupancy.rename(columns=lambda x: x+'_ro', inplace=True)\n",
    "\n",
    "relative_occupancy.head()"
   ]
  },
  {
   "cell_type": "code",
   "execution_count": 23,
   "metadata": {},
   "outputs": [],
   "source": [
    "# stick the relative occupancy data onto the merged data\n",
    "merged_acetyl = pd.concat([merged_acetyl, relative_occupancy], axis=1)\n",
    "\n",
    "# drop the protein columns out of the data\n",
    "merged_acetyl.drop(columns=merged_acetyl.filter(regex='_Protein').columns.tolist(), \n",
    "                   inplace=True)"
   ]
  },
  {
   "cell_type": "markdown",
   "metadata": {},
   "source": [
    "# *limma* analysis"
   ]
  },
  {
   "cell_type": "markdown",
   "metadata": {},
   "source": [
    "## Export Files for *limma* analysis"
   ]
  },
  {
   "cell_type": "markdown",
   "metadata": {},
   "source": [
    "It is probably just as easy to do this entire analysis in R, with the limma component incorporated into the data processing. I'm not very experienced in R, so the disjointed analysis with R and python was faster for me. Exporting the data from Python into a CSV to import into R was the quickest method for my purposes. One could also try the rpy2 library (I tinkered with it, but found it to be too much effort for the payoff) or exporting the dataframes from pandas into a feather/arrow format."
   ]
  },
  {
   "cell_type": "code",
   "execution_count": 24,
   "metadata": {},
   "outputs": [],
   "source": [
    "acetyl_norm.to_csv('limma/limma_export_dko-tacmi_kac.csv')\n",
    "\n",
    "merged_acetyl.filter(regex='_ro$').to_csv('limma/limma_export_dko-tacmi_RO_kac.csv')\n",
    "\n",
    "protein.filter(regex='.+_norm$').to_csv('limma/limma_export_dko-tacmi_proteins.csv')"
   ]
  },
  {
   "cell_type": "markdown",
   "metadata": {},
   "source": [
    "## Read Files from *limma* analysis"
   ]
  },
  {
   "cell_type": "code",
   "execution_count": 25,
   "metadata": {},
   "outputs": [],
   "source": [
    "kac_limma = pd.read_csv('limma/eb_fit_dko-tacmi_kac.tsv', sep='\\t')\n",
    "kac_ro_limma = pd.read_csv('limma/eb_fit_dko-tacmi_RO_kac.tsv', sep='\\t')\n",
    "prot_limma = pd.read_csv('limma/eb_fit_dko-tacmi_proteins.tsv', sep='\\t')"
   ]
  },
  {
   "cell_type": "code",
   "execution_count": 26,
   "metadata": {},
   "outputs": [],
   "source": [
    "# merge back onto data\n",
    "acetyl = pd.concat([acetyl, kac_limma], axis=1)\n",
    "\n",
    "protein = pd.concat([protein, prot_limma], axis=1)\n",
    "\n",
    "merged_acetyl = pd.concat([merged_acetyl, kac_ro_limma], axis=1)\n",
    "\n",
    "# rename to somethign more fitting now\n",
    "ro_acetyl = merged_acetyl"
   ]
  },
  {
   "cell_type": "markdown",
   "metadata": {},
   "source": [
    "Rename the limma results to have more intuitive names\n",
    "\n",
    "- `Coef` = Log2 Fold Change comparison between two groups\n",
    "- `Res` = Significance. \n",
    "    - 0 = not significant\n",
    "    - 1 = significant difference increasing\n",
    "    - -1 = significant difference decreasing"
   ]
  },
  {
   "cell_type": "code",
   "execution_count": 27,
   "metadata": {},
   "outputs": [],
   "source": [
    "limma_match = ['Coef\\.', 'p\\.value\\.', 't\\.', 'Res\\.']\n",
    "limma_replace = ['_Log2FC', '_p_value', '_t', '_significant']\n",
    "\n",
    "for match, replace in zip(limma_match, limma_replace):\n",
    "    acetyl.rename(columns=lambda x: re.sub(match + '(.+)', '\\g<1>' + replace, x), inplace=True)\n",
    "    protein.rename(columns=lambda x: re.sub(match + '(.+)', '\\g<1>' + replace, x), inplace=True)\n",
    "    ro_acetyl.rename(columns=lambda x: re.sub(match + '(.+)', '\\g<1>' + replace, x), inplace=True)"
   ]
  },
  {
   "cell_type": "markdown",
   "metadata": {},
   "source": [
    "Pull out useful information from the Description field into separate columns. Although there is a Gene Symbol field present, it isn't always populated and isn't always the same"
   ]
  },
  {
   "cell_type": "code",
   "execution_count": 28,
   "metadata": {},
   "outputs": [],
   "source": [
    "acetyl['Name'] = acetyl.Description.str.split(' [OSGNPESV]{2}=', expand=True)[0]\n",
    "acetyl['Symbol'] = acetyl.Description.str.split(' [OSGNPESV]{2}=', expand=True)[2]\n",
    "\n",
    "protein['Name'] = protein.Description.str.split(' [OSGNPESV]{2}=', expand=True)[0]\n",
    "protein['Symbol'] = protein.Description.str.split(' [OSGNPESV]{2}=', expand=True)[2]\n",
    "\n",
    "ro_acetyl['Name'] = ro_acetyl.Description.str.split(' [OSGNPESV]{2}=', expand=True)[0]\n",
    "ro_acetyl['Symbol'] = ro_acetyl.Description.str.split(' [OSGNPESV]{2}=', expand=True)[2]\n",
    "\n",
    "# reorder the columns so the information\n",
    "acetyl = acetyl[acetyl.columns.tolist()[-2:] + acetyl.columns.tolist()[:-2]]\n",
    "protein = protein[protein.columns.tolist()[-2:] + protein.columns.tolist()[:-2]]\n",
    "ro_acetyl = ro_acetyl[ro_acetyl.columns.tolist()[-2:] + ro_acetyl.columns.tolist()[:-2]]"
   ]
  },
  {
   "cell_type": "markdown",
   "metadata": {},
   "source": [
    "Sort the data"
   ]
  },
  {
   "cell_type": "code",
   "execution_count": 29,
   "metadata": {},
   "outputs": [],
   "source": [
    "protein.sort_values('Acetyl (K) Count', ascending=False, inplace=True)\n",
    "acetyl.sort_values('DKOvsDFC_Log2FC', ascending=False, inplace=True)\n",
    "ro_acetyl.sort_values('DKOvsDFC_Log2FC', ascending=False, inplace=True)"
   ]
  },
  {
   "cell_type": "markdown",
   "metadata": {},
   "source": [
    "# Export the Data"
   ]
  },
  {
   "cell_type": "code",
   "execution_count": 30,
   "metadata": {},
   "outputs": [],
   "source": [
    "writer = pd.ExcelWriter('processed_files/Exp2_DKOvsTACMI_11plex.xlsx', options={'strings_to_numbers': True})\n",
    "\n",
    "ro_acetyl.to_excel(writer, sheet_name='Exp2_DKOvsTACMI_RO_Kac', index=False)\n",
    "acetyl.to_excel(writer, sheet_name='Exp2_DKOvsTACMI_Kac', index=False)\n",
    "protein.to_excel(writer, sheet_name='Exp2_DKOvsTACMI_Protein', index=False)\n",
    "\n",
    "writer.save()"
   ]
  },
  {
   "cell_type": "code",
   "execution_count": 31,
   "metadata": {},
   "outputs": [],
   "source": [
    "ro_acetyl.to_csv('processed_files/Exp2_DKOvsTACMI_RO_Kac.csv', index=False)\n",
    "acetyl.to_csv('processed_files/Exp2_DKOvsTACMI_Kac.csv', index=False)\n",
    "protein.to_csv('processed_files/Exp2_DKOvsTACMI_Protein.csv', index=False)"
   ]
  },
  {
   "cell_type": "markdown",
   "metadata": {},
   "source": [
    "# Top 25 Fold Changes"
   ]
  },
  {
   "cell_type": "markdown",
   "metadata": {},
   "source": [
    "This is one (simple) method to assess the severity of hyperacetylation. We'll only look at the relative occupancy corrected acetylpeptide abundances for this analysis"
   ]
  },
  {
   "cell_type": "markdown",
   "metadata": {},
   "source": [
    "First, we will limit our analysis to the mitochondria as defined by the mitocarta2 dataset"
   ]
  },
  {
   "cell_type": "code",
   "execution_count": 32,
   "metadata": {},
   "outputs": [],
   "source": [
    "df = ro_acetyl[ro_acetyl.MitoCarta2_List==True].copy()"
   ]
  },
  {
   "cell_type": "markdown",
   "metadata": {},
   "source": [
    "Now, we will move out of the log2 space for more intuitive comparisons"
   ]
  },
  {
   "cell_type": "code",
   "execution_count": 33,
   "metadata": {},
   "outputs": [],
   "source": [
    "df['DKOvsDFC_FC'] = np.exp2(df.DKOvsDFC_Log2FC)\n",
    "df['TACMIvsSham_FC'] = np.exp2(df.TACMIvsSham_Log2FC)"
   ]
  },
  {
   "cell_type": "markdown",
   "metadata": {},
   "source": [
    "Now, we want to pull out the specific lysine residues acetylated on each individual peptide. We want these residue positions related back to the master protein (i.e., not the position within the peptide). This isn't easily achieved in how the PD data is currently exported. Some peptides could correspond to multiple protein accessions, each with different lysine positions. All possible accessions and positions are listed in the peptide output - however, the order is arbitrary. Therefor, we need to iterate though the accessions listed and match them back to the master protein accession. "
   ]
  },
  {
   "cell_type": "code",
   "execution_count": 34,
   "metadata": {},
   "outputs": [
    {
     "data": {
      "text/html": [
       "<div>\n",
       "<style scoped>\n",
       "    .dataframe tbody tr th:only-of-type {\n",
       "        vertical-align: middle;\n",
       "    }\n",
       "\n",
       "    .dataframe tbody tr th {\n",
       "        vertical-align: top;\n",
       "    }\n",
       "\n",
       "    .dataframe thead th {\n",
       "        text-align: right;\n",
       "    }\n",
       "</style>\n",
       "<table border=\"1\" class=\"dataframe\">\n",
       "  <thead>\n",
       "    <tr style=\"text-align: right;\">\n",
       "      <th></th>\n",
       "      <th>0</th>\n",
       "      <th>1</th>\n",
       "      <th>2</th>\n",
       "      <th>3</th>\n",
       "      <th>4</th>\n",
       "      <th>5</th>\n",
       "      <th>6</th>\n",
       "      <th>7</th>\n",
       "      <th>8</th>\n",
       "      <th>9</th>\n",
       "    </tr>\n",
       "  </thead>\n",
       "  <tbody>\n",
       "    <tr>\n",
       "      <th>653</th>\n",
       "      <td>Q9WUR2 1xAcetyl [K60(100)]</td>\n",
       "      <td>E9PUY9 1xAcetyl [K27(100)]</td>\n",
       "      <td>E9PVM6 1xAcetyl [K27(100)]</td>\n",
       "      <td>Q3TCD4 1xAcetyl [K47(100)]</td>\n",
       "      <td>E9PYA9 1xAcetyl [K27(100)]</td>\n",
       "      <td>E9Q858 1xAcetyl [K27(100)]</td>\n",
       "      <td>Q9WUR2-2 1xAcetyl [K27(100)]</td>\n",
       "      <td>E9PYC6 1xAcetyl [K27(100)]</td>\n",
       "      <td>E9Q7A8 1xAcetyl [K27(100)]</td>\n",
       "      <td>None</td>\n",
       "    </tr>\n",
       "    <tr>\n",
       "      <th>266</th>\n",
       "      <td>Q8BMS1 2xAcetyl [K411(100); K413(100)]</td>\n",
       "      <td>None</td>\n",
       "      <td>None</td>\n",
       "      <td>None</td>\n",
       "      <td>None</td>\n",
       "      <td>None</td>\n",
       "      <td>None</td>\n",
       "      <td>None</td>\n",
       "      <td>None</td>\n",
       "      <td>None</td>\n",
       "    </tr>\n",
       "    <tr>\n",
       "      <th>268</th>\n",
       "      <td>Q8BMS1 2xAcetyl [K411(100); K413(100)]</td>\n",
       "      <td>None</td>\n",
       "      <td>None</td>\n",
       "      <td>None</td>\n",
       "      <td>None</td>\n",
       "      <td>None</td>\n",
       "      <td>None</td>\n",
       "      <td>None</td>\n",
       "      <td>None</td>\n",
       "      <td>None</td>\n",
       "    </tr>\n",
       "    <tr>\n",
       "      <th>247</th>\n",
       "      <td>Q8BMS1 1xAcetyl [K350(100)]</td>\n",
       "      <td>None</td>\n",
       "      <td>None</td>\n",
       "      <td>None</td>\n",
       "      <td>None</td>\n",
       "      <td>None</td>\n",
       "      <td>None</td>\n",
       "      <td>None</td>\n",
       "      <td>None</td>\n",
       "      <td>None</td>\n",
       "    </tr>\n",
       "    <tr>\n",
       "      <th>766</th>\n",
       "      <td>Q8BWT1 1xAcetyl [K209(100)]</td>\n",
       "      <td>None</td>\n",
       "      <td>None</td>\n",
       "      <td>None</td>\n",
       "      <td>None</td>\n",
       "      <td>None</td>\n",
       "      <td>None</td>\n",
       "      <td>None</td>\n",
       "      <td>None</td>\n",
       "      <td>None</td>\n",
       "    </tr>\n",
       "  </tbody>\n",
       "</table>\n",
       "</div>"
      ],
      "text/plain": [
       "                                          0                           1  \\\n",
       "653              Q9WUR2 1xAcetyl [K60(100)]  E9PUY9 1xAcetyl [K27(100)]   \n",
       "266  Q8BMS1 2xAcetyl [K411(100); K413(100)]                        None   \n",
       "268  Q8BMS1 2xAcetyl [K411(100); K413(100)]                        None   \n",
       "247             Q8BMS1 1xAcetyl [K350(100)]                        None   \n",
       "766             Q8BWT1 1xAcetyl [K209(100)]                        None   \n",
       "\n",
       "                              2                           3  \\\n",
       "653  E9PVM6 1xAcetyl [K27(100)]  Q3TCD4 1xAcetyl [K47(100)]   \n",
       "266                        None                        None   \n",
       "268                        None                        None   \n",
       "247                        None                        None   \n",
       "766                        None                        None   \n",
       "\n",
       "                              4                           5  \\\n",
       "653  E9PYA9 1xAcetyl [K27(100)]  E9Q858 1xAcetyl [K27(100)]   \n",
       "266                        None                        None   \n",
       "268                        None                        None   \n",
       "247                        None                        None   \n",
       "766                        None                        None   \n",
       "\n",
       "                                6                           7  \\\n",
       "653  Q9WUR2-2 1xAcetyl [K27(100)]  E9PYC6 1xAcetyl [K27(100)]   \n",
       "266                          None                        None   \n",
       "268                          None                        None   \n",
       "247                          None                        None   \n",
       "766                          None                        None   \n",
       "\n",
       "                              8     9  \n",
       "653  E9Q7A8 1xAcetyl [K27(100)]  None  \n",
       "266                        None  None  \n",
       "268                        None  None  \n",
       "247                        None  None  \n",
       "766                        None  None  "
      ]
     },
     "execution_count": 34,
     "metadata": {},
     "output_type": "execute_result"
    }
   ],
   "source": [
    "kac_sites = df['Modifications in Proteins'].str.split('; (?!K)', expand=True, )\n",
    "kac_sites.head()"
   ]
  },
  {
   "cell_type": "markdown",
   "metadata": {},
   "source": [
    "In the above data, the peptide at index 225 is linked to the master protein accession Q99N15, located in column 3. In other rows with multiple accessions, the master protein accession can be found in any of the 10 columns listed. Therefore, we will iterate through the columns of these sites to match them back to the original accession. The matches will be combined into a list, and the list will be transformed into a Series"
   ]
  },
  {
   "cell_type": "code",
   "execution_count": 35,
   "metadata": {},
   "outputs": [],
   "source": [
    "# list to hold the sites associated with the same master protein accession\n",
    "sites = []\n",
    "for i in np.arange(0, kac_sites.columns[-1]+1):\n",
    "    bool_mask = df.Accession == kac_sites[i].str.split(' ', expand=True)[0]\n",
    "    try:\n",
    "        temp_sites = kac_sites[i].loc[bool_mask].str.split('(?<!;)\\s', expand=True)[2]\n",
    "        sites.append(temp_sites)\n",
    "    except:\n",
    "        continue"
   ]
  },
  {
   "cell_type": "code",
   "execution_count": 36,
   "metadata": {
    "scrolled": true
   },
   "outputs": [
    {
     "data": {
      "text/plain": [
       "653           K60\n",
       "266    K411; K413\n",
       "268    K411; K413\n",
       "247          K350\n",
       "766          K209\n",
       "163          K283\n",
       "529          K393\n",
       "767          K209\n",
       "368          K239\n",
       "655           K60\n",
       "Name: Acetylated Residues, dtype: object"
      ]
     },
     "execution_count": 36,
     "metadata": {},
     "output_type": "execute_result"
    }
   ],
   "source": [
    "# convert the list into a pandas series     \n",
    "sites = pd.concat(sites)\n",
    "\n",
    "# remove the percent confidence and brackets \n",
    "sites = sites.str.replace('\\(\\d{1,6}\\)', '').str.replace('\\[(.+)\\]', '\\g<1>')\n",
    "\n",
    "sites.rename('Acetylated Residues', inplace=True)\n",
    "\n",
    "sites.head(10)"
   ]
  },
  {
   "cell_type": "markdown",
   "metadata": {},
   "source": [
    "Now, we add the specific sites back to the dataframe and prepare to export"
   ]
  },
  {
   "cell_type": "code",
   "execution_count": 37,
   "metadata": {},
   "outputs": [],
   "source": [
    "# merge the residues back onto the dataframe\n",
    "df = df.merge(sites.to_frame(), left_index=True, right_index=True)"
   ]
  },
  {
   "cell_type": "code",
   "execution_count": 39,
   "metadata": {
    "collapsed": true
   },
   "outputs": [
    {
     "data": {
      "text/html": [
       "<div>\n",
       "<style scoped>\n",
       "    .dataframe tbody tr th:only-of-type {\n",
       "        vertical-align: middle;\n",
       "    }\n",
       "\n",
       "    .dataframe tbody tr th {\n",
       "        vertical-align: top;\n",
       "    }\n",
       "\n",
       "    .dataframe thead th {\n",
       "        text-align: right;\n",
       "    }\n",
       "</style>\n",
       "<table border=\"1\" class=\"dataframe\">\n",
       "  <thead>\n",
       "    <tr style=\"text-align: right;\">\n",
       "      <th></th>\n",
       "      <th>Accession</th>\n",
       "      <th>Name</th>\n",
       "      <th>Symbol</th>\n",
       "      <th>Gene Symbol</th>\n",
       "      <th>Entrez</th>\n",
       "      <th>Matrix</th>\n",
       "      <th>IMS</th>\n",
       "      <th>Acetylated Residues</th>\n",
       "      <th>DKOvsDFC_FC</th>\n",
       "      <th>TACMIvsSham_FC</th>\n",
       "    </tr>\n",
       "  </thead>\n",
       "  <tbody>\n",
       "    <tr>\n",
       "      <th>653</th>\n",
       "      <td>Q9WUR2</td>\n",
       "      <td>Enoyl-CoA delta isomerase 2, mitochondrial</td>\n",
       "      <td>Eci2</td>\n",
       "      <td>Eci2</td>\n",
       "      <td>23986</td>\n",
       "      <td>True</td>\n",
       "      <td>False</td>\n",
       "      <td>K60</td>\n",
       "      <td>320.570416</td>\n",
       "      <td>2.755732</td>\n",
       "    </tr>\n",
       "    <tr>\n",
       "      <th>266</th>\n",
       "      <td>Q8BMS1</td>\n",
       "      <td>Trifunctional enzyme subunit alpha, mitochondrial</td>\n",
       "      <td>Hadha</td>\n",
       "      <td>Hadha</td>\n",
       "      <td>97212</td>\n",
       "      <td>True</td>\n",
       "      <td>False</td>\n",
       "      <td>K411; K413</td>\n",
       "      <td>148.337257</td>\n",
       "      <td>0.951590</td>\n",
       "    </tr>\n",
       "    <tr>\n",
       "      <th>268</th>\n",
       "      <td>Q8BMS1</td>\n",
       "      <td>Trifunctional enzyme subunit alpha, mitochondrial</td>\n",
       "      <td>Hadha</td>\n",
       "      <td>Hadha</td>\n",
       "      <td>97212</td>\n",
       "      <td>True</td>\n",
       "      <td>False</td>\n",
       "      <td>K411; K413</td>\n",
       "      <td>143.500808</td>\n",
       "      <td>0.570320</td>\n",
       "    </tr>\n",
       "    <tr>\n",
       "      <th>247</th>\n",
       "      <td>Q8BMS1</td>\n",
       "      <td>Trifunctional enzyme subunit alpha, mitochondrial</td>\n",
       "      <td>Hadha</td>\n",
       "      <td>Hadha</td>\n",
       "      <td>97212</td>\n",
       "      <td>True</td>\n",
       "      <td>False</td>\n",
       "      <td>K350</td>\n",
       "      <td>111.949758</td>\n",
       "      <td>1.889892</td>\n",
       "    </tr>\n",
       "    <tr>\n",
       "      <th>766</th>\n",
       "      <td>Q8BWT1</td>\n",
       "      <td>3-ketoacyl-CoA thiolase, mitochondrial</td>\n",
       "      <td>Acaa2</td>\n",
       "      <td>Acaa2</td>\n",
       "      <td>52538</td>\n",
       "      <td>True</td>\n",
       "      <td>False</td>\n",
       "      <td>K209</td>\n",
       "      <td>82.681502</td>\n",
       "      <td>0.834611</td>\n",
       "    </tr>\n",
       "    <tr>\n",
       "      <th>163</th>\n",
       "      <td>P42125</td>\n",
       "      <td>Enoyl-CoA delta isomerase 1, mitochondrial</td>\n",
       "      <td>Eci1</td>\n",
       "      <td>Eci1</td>\n",
       "      <td>13177</td>\n",
       "      <td>True</td>\n",
       "      <td>False</td>\n",
       "      <td>K283</td>\n",
       "      <td>80.867377</td>\n",
       "      <td>0.553635</td>\n",
       "    </tr>\n",
       "    <tr>\n",
       "      <th>529</th>\n",
       "      <td>Q9CZU6</td>\n",
       "      <td>Citrate synthase, mitochondrial</td>\n",
       "      <td>Cs</td>\n",
       "      <td>Cs</td>\n",
       "      <td>12974</td>\n",
       "      <td>True</td>\n",
       "      <td>False</td>\n",
       "      <td>K393</td>\n",
       "      <td>76.327438</td>\n",
       "      <td>1.715205</td>\n",
       "    </tr>\n",
       "    <tr>\n",
       "      <th>767</th>\n",
       "      <td>Q8BWT1</td>\n",
       "      <td>3-ketoacyl-CoA thiolase, mitochondrial</td>\n",
       "      <td>Acaa2</td>\n",
       "      <td>Acaa2</td>\n",
       "      <td>52538</td>\n",
       "      <td>True</td>\n",
       "      <td>False</td>\n",
       "      <td>K209</td>\n",
       "      <td>67.622703</td>\n",
       "      <td>3.476511</td>\n",
       "    </tr>\n",
       "    <tr>\n",
       "      <th>368</th>\n",
       "      <td>P08249</td>\n",
       "      <td>Malate dehydrogenase, mitochondrial</td>\n",
       "      <td>Mdh2</td>\n",
       "      <td>Mdh2</td>\n",
       "      <td>17448</td>\n",
       "      <td>True</td>\n",
       "      <td>False</td>\n",
       "      <td>K239</td>\n",
       "      <td>64.103938</td>\n",
       "      <td>1.778529</td>\n",
       "    </tr>\n",
       "    <tr>\n",
       "      <th>655</th>\n",
       "      <td>Q9WUR2</td>\n",
       "      <td>Enoyl-CoA delta isomerase 2, mitochondrial</td>\n",
       "      <td>Eci2</td>\n",
       "      <td>Eci2</td>\n",
       "      <td>23986</td>\n",
       "      <td>True</td>\n",
       "      <td>False</td>\n",
       "      <td>K60</td>\n",
       "      <td>63.904572</td>\n",
       "      <td>1.659198</td>\n",
       "    </tr>\n",
       "    <tr>\n",
       "      <th>910</th>\n",
       "      <td>Q9D6S7</td>\n",
       "      <td>Ribosome-recycling factor, mitochondrial</td>\n",
       "      <td>Mrrf</td>\n",
       "      <td>Mrrf</td>\n",
       "      <td>67871</td>\n",
       "      <td>True</td>\n",
       "      <td>False</td>\n",
       "      <td>K195</td>\n",
       "      <td>48.211701</td>\n",
       "      <td>1.989690</td>\n",
       "    </tr>\n",
       "    <tr>\n",
       "      <th>953</th>\n",
       "      <td>Q99KR7</td>\n",
       "      <td>Peptidyl-prolyl cis-trans isomerase F, mitocho...</td>\n",
       "      <td>Ppif</td>\n",
       "      <td>Ppif</td>\n",
       "      <td>105675</td>\n",
       "      <td>True</td>\n",
       "      <td>False</td>\n",
       "      <td>K189</td>\n",
       "      <td>47.044786</td>\n",
       "      <td>2.985328</td>\n",
       "    </tr>\n",
       "    <tr>\n",
       "      <th>345</th>\n",
       "      <td>Q9D0K2</td>\n",
       "      <td>Succinyl-CoA:3-ketoacid coenzyme A transferase...</td>\n",
       "      <td>Oxct1</td>\n",
       "      <td>Oxct1</td>\n",
       "      <td>67041</td>\n",
       "      <td>True</td>\n",
       "      <td>False</td>\n",
       "      <td>K446</td>\n",
       "      <td>46.052894</td>\n",
       "      <td>0.613897</td>\n",
       "    </tr>\n",
       "    <tr>\n",
       "      <th>250</th>\n",
       "      <td>Q8BMS1</td>\n",
       "      <td>Trifunctional enzyme subunit alpha, mitochondrial</td>\n",
       "      <td>Hadha</td>\n",
       "      <td>Hadha</td>\n",
       "      <td>97212</td>\n",
       "      <td>True</td>\n",
       "      <td>False</td>\n",
       "      <td>K350; K351</td>\n",
       "      <td>42.880396</td>\n",
       "      <td>2.583666</td>\n",
       "    </tr>\n",
       "    <tr>\n",
       "      <th>254</th>\n",
       "      <td>Q8BMS1</td>\n",
       "      <td>Trifunctional enzyme subunit alpha, mitochondrial</td>\n",
       "      <td>Hadha</td>\n",
       "      <td>Hadha</td>\n",
       "      <td>97212</td>\n",
       "      <td>True</td>\n",
       "      <td>False</td>\n",
       "      <td>K414; K415</td>\n",
       "      <td>40.573541</td>\n",
       "      <td>4.611165</td>\n",
       "    </tr>\n",
       "    <tr>\n",
       "      <th>635</th>\n",
       "      <td>Q8QZT1</td>\n",
       "      <td>Acetyl-CoA acetyltransferase, mitochondrial</td>\n",
       "      <td>Acat1</td>\n",
       "      <td>Acat1</td>\n",
       "      <td>110446</td>\n",
       "      <td>True</td>\n",
       "      <td>False</td>\n",
       "      <td>K240</td>\n",
       "      <td>40.088987</td>\n",
       "      <td>0.541769</td>\n",
       "    </tr>\n",
       "    <tr>\n",
       "      <th>257</th>\n",
       "      <td>Q8BMS1</td>\n",
       "      <td>Trifunctional enzyme subunit alpha, mitochondrial</td>\n",
       "      <td>Hadha</td>\n",
       "      <td>Hadha</td>\n",
       "      <td>97212</td>\n",
       "      <td>True</td>\n",
       "      <td>False</td>\n",
       "      <td>K259</td>\n",
       "      <td>36.723009</td>\n",
       "      <td>6.573859</td>\n",
       "    </tr>\n",
       "    <tr>\n",
       "      <th>262</th>\n",
       "      <td>Q8BMS1</td>\n",
       "      <td>Trifunctional enzyme subunit alpha, mitochondrial</td>\n",
       "      <td>Hadha</td>\n",
       "      <td>Hadha</td>\n",
       "      <td>97212</td>\n",
       "      <td>True</td>\n",
       "      <td>False</td>\n",
       "      <td>K406</td>\n",
       "      <td>36.202807</td>\n",
       "      <td>6.866817</td>\n",
       "    </tr>\n",
       "    <tr>\n",
       "      <th>373</th>\n",
       "      <td>P08249</td>\n",
       "      <td>Malate dehydrogenase, mitochondrial</td>\n",
       "      <td>Mdh2</td>\n",
       "      <td>Mdh2</td>\n",
       "      <td>17448</td>\n",
       "      <td>True</td>\n",
       "      <td>False</td>\n",
       "      <td>K335</td>\n",
       "      <td>36.165744</td>\n",
       "      <td>1.846406</td>\n",
       "    </tr>\n",
       "    <tr>\n",
       "      <th>904</th>\n",
       "      <td>P56382</td>\n",
       "      <td>ATP synthase subunit epsilon, mitochondrial</td>\n",
       "      <td>Atp5e</td>\n",
       "      <td>Atp5e</td>\n",
       "      <td>67126</td>\n",
       "      <td>False</td>\n",
       "      <td>False</td>\n",
       "      <td>K44</td>\n",
       "      <td>33.668000</td>\n",
       "      <td>10.211539</td>\n",
       "    </tr>\n",
       "    <tr>\n",
       "      <th>339</th>\n",
       "      <td>P97807-2</td>\n",
       "      <td>Isoform Cytoplasmic of Fumarate hydratase, mit...</td>\n",
       "      <td>Fh</td>\n",
       "      <td>Fh1</td>\n",
       "      <td>14194</td>\n",
       "      <td>True</td>\n",
       "      <td>False</td>\n",
       "      <td>K430</td>\n",
       "      <td>33.575587</td>\n",
       "      <td>4.504656</td>\n",
       "    </tr>\n",
       "    <tr>\n",
       "      <th>242</th>\n",
       "      <td>Q8BMS1</td>\n",
       "      <td>Trifunctional enzyme subunit alpha, mitochondrial</td>\n",
       "      <td>Hadha</td>\n",
       "      <td>Hadha</td>\n",
       "      <td>97212</td>\n",
       "      <td>True</td>\n",
       "      <td>False</td>\n",
       "      <td>K289</td>\n",
       "      <td>32.216567</td>\n",
       "      <td>1.815106</td>\n",
       "    </tr>\n",
       "    <tr>\n",
       "      <th>886</th>\n",
       "      <td>Q99LC5</td>\n",
       "      <td>Electron transfer flavoprotein subunit alpha, ...</td>\n",
       "      <td>Etfa</td>\n",
       "      <td>Etfa</td>\n",
       "      <td>110842</td>\n",
       "      <td>True</td>\n",
       "      <td>False</td>\n",
       "      <td>K226</td>\n",
       "      <td>32.191333</td>\n",
       "      <td>3.204897</td>\n",
       "    </tr>\n",
       "    <tr>\n",
       "      <th>621</th>\n",
       "      <td>Q8QZT1</td>\n",
       "      <td>Acetyl-CoA acetyltransferase, mitochondrial</td>\n",
       "      <td>Acat1</td>\n",
       "      <td>Acat1</td>\n",
       "      <td>110446</td>\n",
       "      <td>True</td>\n",
       "      <td>False</td>\n",
       "      <td>K265</td>\n",
       "      <td>32.037900</td>\n",
       "      <td>0.159905</td>\n",
       "    </tr>\n",
       "    <tr>\n",
       "      <th>263</th>\n",
       "      <td>Q8BMS1</td>\n",
       "      <td>Trifunctional enzyme subunit alpha, mitochondrial</td>\n",
       "      <td>Hadha</td>\n",
       "      <td>Hadha</td>\n",
       "      <td>97212</td>\n",
       "      <td>True</td>\n",
       "      <td>False</td>\n",
       "      <td>K406; K411</td>\n",
       "      <td>31.144596</td>\n",
       "      <td>14.559895</td>\n",
       "    </tr>\n",
       "  </tbody>\n",
       "</table>\n",
       "</div>"
      ],
      "text/plain": [
       "    Accession                                               Name Symbol  \\\n",
       "653    Q9WUR2         Enoyl-CoA delta isomerase 2, mitochondrial   Eci2   \n",
       "266    Q8BMS1  Trifunctional enzyme subunit alpha, mitochondrial  Hadha   \n",
       "268    Q8BMS1  Trifunctional enzyme subunit alpha, mitochondrial  Hadha   \n",
       "247    Q8BMS1  Trifunctional enzyme subunit alpha, mitochondrial  Hadha   \n",
       "766    Q8BWT1             3-ketoacyl-CoA thiolase, mitochondrial  Acaa2   \n",
       "163    P42125         Enoyl-CoA delta isomerase 1, mitochondrial   Eci1   \n",
       "529    Q9CZU6                    Citrate synthase, mitochondrial     Cs   \n",
       "767    Q8BWT1             3-ketoacyl-CoA thiolase, mitochondrial  Acaa2   \n",
       "368    P08249                Malate dehydrogenase, mitochondrial   Mdh2   \n",
       "655    Q9WUR2         Enoyl-CoA delta isomerase 2, mitochondrial   Eci2   \n",
       "910    Q9D6S7           Ribosome-recycling factor, mitochondrial   Mrrf   \n",
       "953    Q99KR7  Peptidyl-prolyl cis-trans isomerase F, mitocho...   Ppif   \n",
       "345    Q9D0K2  Succinyl-CoA:3-ketoacid coenzyme A transferase...  Oxct1   \n",
       "250    Q8BMS1  Trifunctional enzyme subunit alpha, mitochondrial  Hadha   \n",
       "254    Q8BMS1  Trifunctional enzyme subunit alpha, mitochondrial  Hadha   \n",
       "635    Q8QZT1        Acetyl-CoA acetyltransferase, mitochondrial  Acat1   \n",
       "257    Q8BMS1  Trifunctional enzyme subunit alpha, mitochondrial  Hadha   \n",
       "262    Q8BMS1  Trifunctional enzyme subunit alpha, mitochondrial  Hadha   \n",
       "373    P08249                Malate dehydrogenase, mitochondrial   Mdh2   \n",
       "904    P56382        ATP synthase subunit epsilon, mitochondrial  Atp5e   \n",
       "339  P97807-2  Isoform Cytoplasmic of Fumarate hydratase, mit...     Fh   \n",
       "242    Q8BMS1  Trifunctional enzyme subunit alpha, mitochondrial  Hadha   \n",
       "886    Q99LC5  Electron transfer flavoprotein subunit alpha, ...   Etfa   \n",
       "621    Q8QZT1        Acetyl-CoA acetyltransferase, mitochondrial  Acat1   \n",
       "263    Q8BMS1  Trifunctional enzyme subunit alpha, mitochondrial  Hadha   \n",
       "\n",
       "    Gene Symbol  Entrez  Matrix    IMS Acetylated Residues  DKOvsDFC_FC  \\\n",
       "653        Eci2   23986    True  False                 K60   320.570416   \n",
       "266       Hadha   97212    True  False          K411; K413   148.337257   \n",
       "268       Hadha   97212    True  False          K411; K413   143.500808   \n",
       "247       Hadha   97212    True  False                K350   111.949758   \n",
       "766       Acaa2   52538    True  False                K209    82.681502   \n",
       "163        Eci1   13177    True  False                K283    80.867377   \n",
       "529          Cs   12974    True  False                K393    76.327438   \n",
       "767       Acaa2   52538    True  False                K209    67.622703   \n",
       "368        Mdh2   17448    True  False                K239    64.103938   \n",
       "655        Eci2   23986    True  False                 K60    63.904572   \n",
       "910        Mrrf   67871    True  False                K195    48.211701   \n",
       "953        Ppif  105675    True  False                K189    47.044786   \n",
       "345       Oxct1   67041    True  False                K446    46.052894   \n",
       "250       Hadha   97212    True  False          K350; K351    42.880396   \n",
       "254       Hadha   97212    True  False          K414; K415    40.573541   \n",
       "635       Acat1  110446    True  False                K240    40.088987   \n",
       "257       Hadha   97212    True  False                K259    36.723009   \n",
       "262       Hadha   97212    True  False                K406    36.202807   \n",
       "373        Mdh2   17448    True  False                K335    36.165744   \n",
       "904       Atp5e   67126   False  False                 K44    33.668000   \n",
       "339         Fh1   14194    True  False                K430    33.575587   \n",
       "242       Hadha   97212    True  False                K289    32.216567   \n",
       "886        Etfa  110842    True  False                K226    32.191333   \n",
       "621       Acat1  110446    True  False                K265    32.037900   \n",
       "263       Hadha   97212    True  False          K406; K411    31.144596   \n",
       "\n",
       "     TACMIvsSham_FC  \n",
       "653        2.755732  \n",
       "266        0.951590  \n",
       "268        0.570320  \n",
       "247        1.889892  \n",
       "766        0.834611  \n",
       "163        0.553635  \n",
       "529        1.715205  \n",
       "767        3.476511  \n",
       "368        1.778529  \n",
       "655        1.659198  \n",
       "910        1.989690  \n",
       "953        2.985328  \n",
       "345        0.613897  \n",
       "250        2.583666  \n",
       "254        4.611165  \n",
       "635        0.541769  \n",
       "257        6.573859  \n",
       "262        6.866817  \n",
       "373        1.846406  \n",
       "904       10.211539  \n",
       "339        4.504656  \n",
       "242        1.815106  \n",
       "886        3.204897  \n",
       "621        0.159905  \n",
       "263       14.559895  "
      ]
     },
     "execution_count": 39,
     "metadata": {},
     "output_type": "execute_result"
    }
   ],
   "source": [
    "export_cols = ['Accession', 'Name', 'Symbol', 'Gene Symbol', 'Entrez', \n",
    "               'Matrix', 'IMS', 'Acetylated Residues', 'DKOvsDFC_FC', 'TACMIvsSham_FC']\n",
    "\n",
    "\n",
    "df[export_cols].head(25)"
   ]
  },
  {
   "cell_type": "code",
   "execution_count": 40,
   "metadata": {},
   "outputs": [],
   "source": [
    "writer = pd.ExcelWriter('processed_files/Exp2_DKOvsTACMI_Top25.xlsx', options={'strings_to_numbers': True})\n",
    "\n",
    "df[export_cols].sort_values('DKOvsDFC_FC', ascending=False).head(25).to_excel(writer, sheet_name='Exp2_Top25_Kac_DKOvsDFC', index=False)\n",
    "df[export_cols].sort_values('TACMIvsSham_FC', ascending=False).head(25).to_excel(writer, sheet_name='Exp2_Top25_Kac_TACMIvsSham', index=False)\n",
    "\n",
    "writer.save()\n",
    "\n",
    "\n",
    "df[export_cols].sort_values('DKOvsDFC_FC', ascending=False).head(25).to_csv('processed_files/Exp2_Top25_Kac_DKOvsDFC.csv', index=False)\n",
    "df[export_cols].sort_values('TACMIvsSham_FC', ascending=False).head(25).to_csv('processed_files/Exp2_Top25_Kac_TACMIvsSham.csv', index=False)\n"
   ]
  },
  {
   "cell_type": "code",
   "execution_count": null,
   "metadata": {},
   "outputs": [],
   "source": []
  }
 ],
 "metadata": {
  "kernelspec": {
   "display_name": "Python 3",
   "language": "python",
   "name": "python3"
  },
  "language_info": {
   "codemirror_mode": {
    "name": "ipython",
    "version": 3
   },
   "file_extension": ".py",
   "mimetype": "text/x-python",
   "name": "python",
   "nbconvert_exporter": "python",
   "pygments_lexer": "ipython3",
   "version": "3.7.0"
  },
  "toc": {
   "base_numbering": 1,
   "nav_menu": {
    "height": "286px",
    "width": "373px"
   },
   "number_sections": true,
   "sideBar": true,
   "skip_h1_title": false,
   "title_cell": "Table of Contents",
   "title_sidebar": "Contents",
   "toc_cell": false,
   "toc_position": {},
   "toc_section_display": true,
   "toc_window_display": false
  },
  "varInspector": {
   "cols": {
    "lenName": 16,
    "lenType": 16,
    "lenVar": 40
   },
   "kernels_config": {
    "python": {
     "delete_cmd_postfix": "",
     "delete_cmd_prefix": "del ",
     "library": "var_list.py",
     "varRefreshCmd": "print(var_dic_list())"
    },
    "r": {
     "delete_cmd_postfix": ") ",
     "delete_cmd_prefix": "rm(",
     "library": "var_list.r",
     "varRefreshCmd": "cat(var_dic_list()) "
    }
   },
   "types_to_exclude": [
    "module",
    "function",
    "builtin_function_or_method",
    "instance",
    "_Feature"
   ],
   "window_display": false
  }
 },
 "nbformat": 4,
 "nbformat_minor": 2
}
