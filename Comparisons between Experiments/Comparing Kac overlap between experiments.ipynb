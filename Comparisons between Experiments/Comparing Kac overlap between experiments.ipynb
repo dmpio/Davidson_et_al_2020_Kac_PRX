{
 "cells": [
  {
   "cell_type": "code",
   "execution_count": 1,
   "metadata": {},
   "outputs": [],
   "source": [
    "import pandas as pd"
   ]
  },
  {
   "cell_type": "code",
   "execution_count": 2,
   "metadata": {},
   "outputs": [],
   "source": [
    "path = 'processed_files/Kac_peptides/'\n",
    "\n",
    "dkos3 = pd.read_csv(path + 'Exp1_DKOvsSirt3_RO_Kac.csv')\n",
    "tacmi = pd.read_csv(path + 'Exp2_DKOvsTACMI_RO_Kac.csv')\n",
    "dkotac = pd.read_csv(path + 'Exp3_DKOTAC_RO_Kac.csv')"
   ]
  },
  {
   "cell_type": "code",
   "execution_count": 3,
   "metadata": {},
   "outputs": [
    {
     "data": {
      "text/html": [
       "<div>\n",
       "<style scoped>\n",
       "    .dataframe tbody tr th:only-of-type {\n",
       "        vertical-align: middle;\n",
       "    }\n",
       "\n",
       "    .dataframe tbody tr th {\n",
       "        vertical-align: top;\n",
       "    }\n",
       "\n",
       "    .dataframe thead th {\n",
       "        text-align: right;\n",
       "    }\n",
       "</style>\n",
       "<table border=\"1\" class=\"dataframe\">\n",
       "  <thead>\n",
       "    <tr style=\"text-align: right;\">\n",
       "      <th></th>\n",
       "      <th>Name</th>\n",
       "      <th>Symbol</th>\n",
       "      <th>Accession</th>\n",
       "      <th>Description</th>\n",
       "      <th>Entrez</th>\n",
       "      <th>Gene Symbol</th>\n",
       "      <th>Modifications</th>\n",
       "      <th>MitoCarta2_List</th>\n",
       "      <th>Matrix</th>\n",
       "      <th>IMS</th>\n",
       "      <th>...</th>\n",
       "      <th>DKOvsDFC_p_value</th>\n",
       "      <th>S3KOvsS3FL_p_value</th>\n",
       "      <th>DKOvsS3KO_p_value</th>\n",
       "      <th>DFCvsS3FL_p_value</th>\n",
       "      <th>F</th>\n",
       "      <th>F.p.value</th>\n",
       "      <th>DKOvsDFC_significant</th>\n",
       "      <th>S3KOvsS3FL_significant</th>\n",
       "      <th>DKOvsS3KO_significant</th>\n",
       "      <th>DFCvsS3FL_significant</th>\n",
       "    </tr>\n",
       "  </thead>\n",
       "  <tbody>\n",
       "    <tr>\n",
       "      <th>0</th>\n",
       "      <td>17beta-hydroxysteroid dehydrogenase type 10/sh...</td>\n",
       "      <td>Hsd17b10</td>\n",
       "      <td>Q99N15</td>\n",
       "      <td>17beta-hydroxysteroid dehydrogenase type 10/sh...</td>\n",
       "      <td>15108.0</td>\n",
       "      <td>Hsd17b10</td>\n",
       "      <td>1xTMT6plex [K6]; 1xTMT6plex [N-Term]; 1xAcetyl...</td>\n",
       "      <td>True</td>\n",
       "      <td>True</td>\n",
       "      <td>False</td>\n",
       "      <td>...</td>\n",
       "      <td>1.686036e-07</td>\n",
       "      <td>3.829899e-06</td>\n",
       "      <td>0.302903</td>\n",
       "      <td>0.005327</td>\n",
       "      <td>120.360960</td>\n",
       "      <td>3.242435e-07</td>\n",
       "      <td>1.0</td>\n",
       "      <td>1.0</td>\n",
       "      <td>0.0</td>\n",
       "      <td>0.0</td>\n",
       "    </tr>\n",
       "    <tr>\n",
       "      <th>1</th>\n",
       "      <td>Acetyl-CoA acetyltransferase, mitochondrial</td>\n",
       "      <td>Acat1</td>\n",
       "      <td>Q8QZT1</td>\n",
       "      <td>Acetyl-CoA acetyltransferase, mitochondrial OS...</td>\n",
       "      <td>110446.0</td>\n",
       "      <td>Acat1</td>\n",
       "      <td>1xTMT6plex [K8]; 1xTMT6plex [N-Term]; 1xAcetyl...</td>\n",
       "      <td>True</td>\n",
       "      <td>True</td>\n",
       "      <td>False</td>\n",
       "      <td>...</td>\n",
       "      <td>7.039662e-10</td>\n",
       "      <td>5.577040e-09</td>\n",
       "      <td>0.477078</td>\n",
       "      <td>0.000460</td>\n",
       "      <td>501.688984</td>\n",
       "      <td>8.923740e-10</td>\n",
       "      <td>1.0</td>\n",
       "      <td>1.0</td>\n",
       "      <td>0.0</td>\n",
       "      <td>-1.0</td>\n",
       "    </tr>\n",
       "    <tr>\n",
       "      <th>2</th>\n",
       "      <td>Trifunctional enzyme subunit alpha, mitochondrial</td>\n",
       "      <td>Hadha</td>\n",
       "      <td>Q8BMS1</td>\n",
       "      <td>Trifunctional enzyme subunit alpha, mitochondr...</td>\n",
       "      <td>97212.0</td>\n",
       "      <td>Hadha</td>\n",
       "      <td>1xTMT6plex [K7]; 1xTMT6plex [N-Term]; 1xAcetyl...</td>\n",
       "      <td>True</td>\n",
       "      <td>True</td>\n",
       "      <td>False</td>\n",
       "      <td>...</td>\n",
       "      <td>4.146363e-05</td>\n",
       "      <td>3.045467e-04</td>\n",
       "      <td>0.592053</td>\n",
       "      <td>0.239908</td>\n",
       "      <td>31.824466</td>\n",
       "      <td>6.417063e-05</td>\n",
       "      <td>1.0</td>\n",
       "      <td>1.0</td>\n",
       "      <td>0.0</td>\n",
       "      <td>0.0</td>\n",
       "    </tr>\n",
       "    <tr>\n",
       "      <th>3</th>\n",
       "      <td>Trifunctional enzyme subunit alpha, mitochondrial</td>\n",
       "      <td>Hadha</td>\n",
       "      <td>Q8BMS1</td>\n",
       "      <td>Trifunctional enzyme subunit alpha, mitochondr...</td>\n",
       "      <td>97212.0</td>\n",
       "      <td>Hadha</td>\n",
       "      <td>2xTMT6plex [K]; 1xTMT6plex [N-Term]; 2xAcetyl ...</td>\n",
       "      <td>True</td>\n",
       "      <td>True</td>\n",
       "      <td>False</td>\n",
       "      <td>...</td>\n",
       "      <td>9.051101e-07</td>\n",
       "      <td>2.060254e-02</td>\n",
       "      <td>0.061715</td>\n",
       "      <td>0.000069</td>\n",
       "      <td>59.627143</td>\n",
       "      <td>5.523857e-06</td>\n",
       "      <td>1.0</td>\n",
       "      <td>1.0</td>\n",
       "      <td>0.0</td>\n",
       "      <td>-1.0</td>\n",
       "    </tr>\n",
       "    <tr>\n",
       "      <th>4</th>\n",
       "      <td>Trifunctional enzyme subunit beta, mitochondrial</td>\n",
       "      <td>Hadhb</td>\n",
       "      <td>Q99JY0</td>\n",
       "      <td>Trifunctional enzyme subunit beta, mitochondri...</td>\n",
       "      <td>231086.0</td>\n",
       "      <td>Hadhb</td>\n",
       "      <td>1xTMT6plex [K9]; 1xTMT6plex [N-Term]; 1xAcetyl...</td>\n",
       "      <td>True</td>\n",
       "      <td>False</td>\n",
       "      <td>False</td>\n",
       "      <td>...</td>\n",
       "      <td>2.292058e-07</td>\n",
       "      <td>4.067101e-06</td>\n",
       "      <td>0.254298</td>\n",
       "      <td>0.012443</td>\n",
       "      <td>113.422559</td>\n",
       "      <td>4.130911e-07</td>\n",
       "      <td>1.0</td>\n",
       "      <td>1.0</td>\n",
       "      <td>0.0</td>\n",
       "      <td>0.0</td>\n",
       "    </tr>\n",
       "  </tbody>\n",
       "</table>\n",
       "<p>5 rows × 72 columns</p>\n",
       "</div>"
      ],
      "text/plain": [
       "                                                Name    Symbol Accession  \\\n",
       "0  17beta-hydroxysteroid dehydrogenase type 10/sh...  Hsd17b10    Q99N15   \n",
       "1        Acetyl-CoA acetyltransferase, mitochondrial     Acat1    Q8QZT1   \n",
       "2  Trifunctional enzyme subunit alpha, mitochondrial     Hadha    Q8BMS1   \n",
       "3  Trifunctional enzyme subunit alpha, mitochondrial     Hadha    Q8BMS1   \n",
       "4   Trifunctional enzyme subunit beta, mitochondrial     Hadhb    Q99JY0   \n",
       "\n",
       "                                         Description    Entrez Gene Symbol  \\\n",
       "0  17beta-hydroxysteroid dehydrogenase type 10/sh...   15108.0    Hsd17b10   \n",
       "1  Acetyl-CoA acetyltransferase, mitochondrial OS...  110446.0       Acat1   \n",
       "2  Trifunctional enzyme subunit alpha, mitochondr...   97212.0       Hadha   \n",
       "3  Trifunctional enzyme subunit alpha, mitochondr...   97212.0       Hadha   \n",
       "4  Trifunctional enzyme subunit beta, mitochondri...  231086.0       Hadhb   \n",
       "\n",
       "                                       Modifications  MitoCarta2_List  Matrix  \\\n",
       "0  1xTMT6plex [K6]; 1xTMT6plex [N-Term]; 1xAcetyl...             True    True   \n",
       "1  1xTMT6plex [K8]; 1xTMT6plex [N-Term]; 1xAcetyl...             True    True   \n",
       "2  1xTMT6plex [K7]; 1xTMT6plex [N-Term]; 1xAcetyl...             True    True   \n",
       "3  2xTMT6plex [K]; 1xTMT6plex [N-Term]; 2xAcetyl ...             True    True   \n",
       "4  1xTMT6plex [K9]; 1xTMT6plex [N-Term]; 1xAcetyl...             True   False   \n",
       "\n",
       "     IMS  ... DKOvsDFC_p_value S3KOvsS3FL_p_value DKOvsS3KO_p_value  \\\n",
       "0  False  ...     1.686036e-07       3.829899e-06          0.302903   \n",
       "1  False  ...     7.039662e-10       5.577040e-09          0.477078   \n",
       "2  False  ...     4.146363e-05       3.045467e-04          0.592053   \n",
       "3  False  ...     9.051101e-07       2.060254e-02          0.061715   \n",
       "4  False  ...     2.292058e-07       4.067101e-06          0.254298   \n",
       "\n",
       "   DFCvsS3FL_p_value           F     F.p.value  DKOvsDFC_significant  \\\n",
       "0           0.005327  120.360960  3.242435e-07                   1.0   \n",
       "1           0.000460  501.688984  8.923740e-10                   1.0   \n",
       "2           0.239908   31.824466  6.417063e-05                   1.0   \n",
       "3           0.000069   59.627143  5.523857e-06                   1.0   \n",
       "4           0.012443  113.422559  4.130911e-07                   1.0   \n",
       "\n",
       "   S3KOvsS3FL_significant  DKOvsS3KO_significant  DFCvsS3FL_significant  \n",
       "0                     1.0                    0.0                    0.0  \n",
       "1                     1.0                    0.0                   -1.0  \n",
       "2                     1.0                    0.0                    0.0  \n",
       "3                     1.0                    0.0                   -1.0  \n",
       "4                     1.0                    0.0                    0.0  \n",
       "\n",
       "[5 rows x 72 columns]"
      ]
     },
     "execution_count": 3,
     "metadata": {},
     "output_type": "execute_result"
    }
   ],
   "source": [
    "dkos3.head()"
   ]
  },
  {
   "cell_type": "markdown",
   "metadata": {},
   "source": [
    "# Process Experiments to extract the mitochondrial acetylated residues"
   ]
  },
  {
   "cell_type": "markdown",
   "metadata": {},
   "source": [
    "Looking only at mito Kac in this analysis b/c the model targets this intraceullular compartment"
   ]
  },
  {
   "cell_type": "markdown",
   "metadata": {},
   "source": [
    "## Exp1"
   ]
  },
  {
   "cell_type": "code",
   "execution_count": 4,
   "metadata": {},
   "outputs": [],
   "source": [
    "dkos3_kac_sites = dkos3['Modifications in Proteins'].str.split('; (?!K)', expand=True, )"
   ]
  },
  {
   "cell_type": "code",
   "execution_count": 5,
   "metadata": {},
   "outputs": [],
   "source": [
    "# list to hold the sites associated with the same master protein accession\n",
    "dkos3_sites = []\n",
    "for i in np.arange(0, dkos3_kac_sites.columns[-1]+1):\n",
    "    bool_mask = dkos3.Accession == dkos3_kac_sites[i].str.split(' ', expand=True)[0]\n",
    "    try:\n",
    "        temp_sites = dkos3_kac_sites[i].loc[bool_mask].str.split('(?<!;)\\s', expand=True)[2]\n",
    "        dkos3_sites.append(temp_sites)\n",
    "    except:\n",
    "        continue"
   ]
  },
  {
   "cell_type": "code",
   "execution_count": 6,
   "metadata": {},
   "outputs": [
    {
     "data": {
      "text/plain": [
       "1           K260\n",
       "2           K289\n",
       "3     K411; K414\n",
       "4           K189\n",
       "5            K46\n",
       "6           K406\n",
       "7           K316\n",
       "8            K70\n",
       "9            K46\n",
       "11          K350\n",
       "Name: Acetylated Residues, dtype: object"
      ]
     },
     "execution_count": 6,
     "metadata": {},
     "output_type": "execute_result"
    }
   ],
   "source": [
    "# convert the list into a pandas series     \n",
    "dkos3_sites = pd.concat(dkos3_sites)\n",
    "\n",
    "# remove the percent confidence and brackets \n",
    "dkos3_sites = dkos3_sites.str.replace('\\(\\d{1,6}\\)', '').str.replace('\\[(.+)\\]', '\\g<1>')\n",
    "\n",
    "dkos3_sites.rename('Acetylated Residues', inplace=True)\n",
    "\n",
    "dkos3_sites.head(10)"
   ]
  },
  {
   "cell_type": "code",
   "execution_count": 7,
   "metadata": {},
   "outputs": [],
   "source": [
    "# merge the residues back onto the dataframe\n",
    "dkos3 = dkos3.merge(dkos3_sites.to_frame(), left_index=True, right_index=True)"
   ]
  },
  {
   "cell_type": "code",
   "execution_count": 8,
   "metadata": {},
   "outputs": [
    {
     "data": {
      "text/html": [
       "<div>\n",
       "<style scoped>\n",
       "    .dataframe tbody tr th:only-of-type {\n",
       "        vertical-align: middle;\n",
       "    }\n",
       "\n",
       "    .dataframe tbody tr th {\n",
       "        vertical-align: top;\n",
       "    }\n",
       "\n",
       "    .dataframe thead th {\n",
       "        text-align: right;\n",
       "    }\n",
       "</style>\n",
       "<table border=\"1\" class=\"dataframe\">\n",
       "  <thead>\n",
       "    <tr style=\"text-align: right;\">\n",
       "      <th></th>\n",
       "      <th>0</th>\n",
       "      <th>1</th>\n",
       "    </tr>\n",
       "    <tr>\n",
       "      <th>Accession</th>\n",
       "      <th></th>\n",
       "      <th></th>\n",
       "    </tr>\n",
       "  </thead>\n",
       "  <tbody>\n",
       "    <tr>\n",
       "      <th>Q99N15</th>\n",
       "      <td>K104</td>\n",
       "      <td>None</td>\n",
       "    </tr>\n",
       "    <tr>\n",
       "      <th>Q8QZT1</th>\n",
       "      <td>K260</td>\n",
       "      <td>None</td>\n",
       "    </tr>\n",
       "    <tr>\n",
       "      <th>Q8BMS1</th>\n",
       "      <td>K289</td>\n",
       "      <td>None</td>\n",
       "    </tr>\n",
       "    <tr>\n",
       "      <th>Q8BMS1</th>\n",
       "      <td>K411</td>\n",
       "      <td>K414</td>\n",
       "    </tr>\n",
       "    <tr>\n",
       "      <th>Q99JY0</th>\n",
       "      <td>K189</td>\n",
       "      <td>None</td>\n",
       "    </tr>\n",
       "  </tbody>\n",
       "</table>\n",
       "</div>"
      ],
      "text/plain": [
       "              0     1\n",
       "Accession            \n",
       "Q99N15     K104  None\n",
       "Q8QZT1     K260  None\n",
       "Q8BMS1     K289  None\n",
       "Q8BMS1     K411  K414\n",
       "Q99JY0     K189  None"
      ]
     },
     "execution_count": 8,
     "metadata": {},
     "output_type": "execute_result"
    }
   ],
   "source": [
    "# extract the accession and kac residues\n",
    "dkos3_kac_sites = dkos3[dkos3.MitoCarta2_List][['Accession', 'Acetylated Residues']].copy()\n",
    "dkos3_kac_sites.set_index('Accession', inplace=True)\n",
    "dkos3_kac_sites = dkos3_kac_sites['Acetylated Residues'].str.split('; ', expand=True)\n",
    "\n",
    "dkos3_kac_sites.head()"
   ]
  },
  {
   "cell_type": "code",
   "execution_count": 9,
   "metadata": {},
   "outputs": [
    {
     "data": {
      "text/html": [
       "<div>\n",
       "<style scoped>\n",
       "    .dataframe tbody tr th:only-of-type {\n",
       "        vertical-align: middle;\n",
       "    }\n",
       "\n",
       "    .dataframe tbody tr th {\n",
       "        vertical-align: top;\n",
       "    }\n",
       "\n",
       "    .dataframe thead th {\n",
       "        text-align: right;\n",
       "    }\n",
       "</style>\n",
       "<table border=\"1\" class=\"dataframe\">\n",
       "  <thead>\n",
       "    <tr style=\"text-align: right;\">\n",
       "      <th></th>\n",
       "      <th>Accession</th>\n",
       "      <th>kac_residue</th>\n",
       "    </tr>\n",
       "  </thead>\n",
       "  <tbody>\n",
       "    <tr>\n",
       "      <th>50</th>\n",
       "      <td>A0A0R4J023</td>\n",
       "      <td>K179</td>\n",
       "    </tr>\n",
       "    <tr>\n",
       "      <th>236</th>\n",
       "      <td>A0A0R4J083</td>\n",
       "      <td>K43</td>\n",
       "    </tr>\n",
       "    <tr>\n",
       "      <th>209</th>\n",
       "      <td>A0A0R4J083</td>\n",
       "      <td>K42</td>\n",
       "    </tr>\n",
       "    <tr>\n",
       "      <th>244</th>\n",
       "      <td>A0A0R4J083</td>\n",
       "      <td>K92</td>\n",
       "    </tr>\n",
       "    <tr>\n",
       "      <th>59</th>\n",
       "      <td>A0A0R4J094</td>\n",
       "      <td>K233</td>\n",
       "    </tr>\n",
       "  </tbody>\n",
       "</table>\n",
       "</div>"
      ],
      "text/plain": [
       "      Accession kac_residue\n",
       "50   A0A0R4J023        K179\n",
       "236  A0A0R4J083         K43\n",
       "209  A0A0R4J083         K42\n",
       "244  A0A0R4J083         K92\n",
       "59   A0A0R4J094        K233"
      ]
     },
     "execution_count": 9,
     "metadata": {},
     "output_type": "execute_result"
    }
   ],
   "source": [
    "# turn the expanded residues into a single column\n",
    "dkos3_kac_sites = (dkos3_kac_sites\n",
    "                   .reset_index()\n",
    "                   .melt(id_vars=['Accession'])\n",
    "                   .drop(columns='variable')\n",
    "                   .rename(columns={'value': 'kac_residue'}))\n",
    "\n",
    "dkos3_kac_sites.dropna(inplace=True)\n",
    "dkos3_kac_sites.sort_values('Accession', inplace=True)\n",
    "dkos3_kac_sites.head()"
   ]
  },
  {
   "cell_type": "markdown",
   "metadata": {},
   "source": [
    "## Exp2 "
   ]
  },
  {
   "cell_type": "code",
   "execution_count": 10,
   "metadata": {},
   "outputs": [],
   "source": [
    "tacmi_kac_sites = tacmi['Modifications in Proteins'].str.split('; (?!K)', expand=True, )"
   ]
  },
  {
   "cell_type": "code",
   "execution_count": 11,
   "metadata": {},
   "outputs": [],
   "source": [
    "# list to hold the sites associated with the same master protein accession\n",
    "tacmi_sites = []\n",
    "for i in np.arange(0, tacmi_kac_sites.columns[-1]+1):\n",
    "    bool_mask = tacmi.Accession == tacmi_kac_sites[i].str.split(' ', expand=True)[0]\n",
    "    try:\n",
    "        temp_sites = tacmi_kac_sites[i].loc[bool_mask].str.split('(?<!;)\\s', expand=True)[2]\n",
    "        tacmi_sites.append(temp_sites)\n",
    "    except:\n",
    "        continue"
   ]
  },
  {
   "cell_type": "code",
   "execution_count": 12,
   "metadata": {},
   "outputs": [
    {
     "data": {
      "text/plain": [
       "0           K60\n",
       "1    K411; K413\n",
       "2    K411; K413\n",
       "3          K350\n",
       "4          K209\n",
       "5          K283\n",
       "6          K393\n",
       "7          K209\n",
       "8          K239\n",
       "9           K60\n",
       "Name: Acetylated Residues, dtype: object"
      ]
     },
     "execution_count": 12,
     "metadata": {},
     "output_type": "execute_result"
    }
   ],
   "source": [
    "# convert the list into a pandas series     \n",
    "tacmi_sites = pd.concat(tacmi_sites)\n",
    "\n",
    "# remove the percent confidence and brackets \n",
    "tacmi_sites = tacmi_sites.str.replace('\\(\\d{1,6}\\)', '').str.replace('\\[(.+)\\]', '\\g<1>')\n",
    "\n",
    "tacmi_sites.rename('Acetylated Residues', inplace=True)\n",
    "\n",
    "tacmi_sites.head(10)"
   ]
  },
  {
   "cell_type": "code",
   "execution_count": 13,
   "metadata": {},
   "outputs": [],
   "source": [
    "# merge the residues back onto the dataframe\n",
    "tacmi = tacmi.merge(tacmi_sites.to_frame(), left_index=True, right_index=True)"
   ]
  },
  {
   "cell_type": "code",
   "execution_count": 14,
   "metadata": {},
   "outputs": [
    {
     "data": {
      "text/html": [
       "<div>\n",
       "<style scoped>\n",
       "    .dataframe tbody tr th:only-of-type {\n",
       "        vertical-align: middle;\n",
       "    }\n",
       "\n",
       "    .dataframe tbody tr th {\n",
       "        vertical-align: top;\n",
       "    }\n",
       "\n",
       "    .dataframe thead th {\n",
       "        text-align: right;\n",
       "    }\n",
       "</style>\n",
       "<table border=\"1\" class=\"dataframe\">\n",
       "  <thead>\n",
       "    <tr style=\"text-align: right;\">\n",
       "      <th></th>\n",
       "      <th>0</th>\n",
       "      <th>1</th>\n",
       "    </tr>\n",
       "    <tr>\n",
       "      <th>Accession</th>\n",
       "      <th></th>\n",
       "      <th></th>\n",
       "    </tr>\n",
       "  </thead>\n",
       "  <tbody>\n",
       "    <tr>\n",
       "      <th>Q9WUR2</th>\n",
       "      <td>K60</td>\n",
       "      <td>None</td>\n",
       "    </tr>\n",
       "    <tr>\n",
       "      <th>Q8BMS1</th>\n",
       "      <td>K411</td>\n",
       "      <td>K413</td>\n",
       "    </tr>\n",
       "    <tr>\n",
       "      <th>Q8BMS1</th>\n",
       "      <td>K411</td>\n",
       "      <td>K413</td>\n",
       "    </tr>\n",
       "    <tr>\n",
       "      <th>Q8BMS1</th>\n",
       "      <td>K350</td>\n",
       "      <td>None</td>\n",
       "    </tr>\n",
       "    <tr>\n",
       "      <th>Q8BWT1</th>\n",
       "      <td>K209</td>\n",
       "      <td>None</td>\n",
       "    </tr>\n",
       "  </tbody>\n",
       "</table>\n",
       "</div>"
      ],
      "text/plain": [
       "              0     1\n",
       "Accession            \n",
       "Q9WUR2      K60  None\n",
       "Q8BMS1     K411  K413\n",
       "Q8BMS1     K411  K413\n",
       "Q8BMS1     K350  None\n",
       "Q8BWT1     K209  None"
      ]
     },
     "execution_count": 14,
     "metadata": {},
     "output_type": "execute_result"
    }
   ],
   "source": [
    "# extract the accession and kac residues\n",
    "tacmi_kac_sites = tacmi[tacmi.MitoCarta2_List][['Accession', 'Acetylated Residues']].copy()\n",
    "tacmi_kac_sites.set_index('Accession', inplace=True)\n",
    "tacmi_kac_sites = tacmi_kac_sites['Acetylated Residues'].str.split('; ', expand=True)\n",
    "\n",
    "tacmi_kac_sites.head()"
   ]
  },
  {
   "cell_type": "code",
   "execution_count": 15,
   "metadata": {},
   "outputs": [
    {
     "data": {
      "text/html": [
       "<div>\n",
       "<style scoped>\n",
       "    .dataframe tbody tr th:only-of-type {\n",
       "        vertical-align: middle;\n",
       "    }\n",
       "\n",
       "    .dataframe tbody tr th {\n",
       "        vertical-align: top;\n",
       "    }\n",
       "\n",
       "    .dataframe thead th {\n",
       "        text-align: right;\n",
       "    }\n",
       "</style>\n",
       "<table border=\"1\" class=\"dataframe\">\n",
       "  <thead>\n",
       "    <tr style=\"text-align: right;\">\n",
       "      <th></th>\n",
       "      <th>Accession</th>\n",
       "      <th>kac_residue</th>\n",
       "    </tr>\n",
       "  </thead>\n",
       "  <tbody>\n",
       "    <tr>\n",
       "      <th>272</th>\n",
       "      <td>A0A0A0MQF6</td>\n",
       "      <td>K295</td>\n",
       "    </tr>\n",
       "    <tr>\n",
       "      <th>541</th>\n",
       "      <td>A0A0A0MQF6</td>\n",
       "      <td>K239</td>\n",
       "    </tr>\n",
       "    <tr>\n",
       "      <th>668</th>\n",
       "      <td>A0A0A0MQF6</td>\n",
       "      <td>K218</td>\n",
       "    </tr>\n",
       "    <tr>\n",
       "      <th>304</th>\n",
       "      <td>A0A0R4J023</td>\n",
       "      <td>K179</td>\n",
       "    </tr>\n",
       "    <tr>\n",
       "      <th>330</th>\n",
       "      <td>A0A0R4J023</td>\n",
       "      <td>K179</td>\n",
       "    </tr>\n",
       "  </tbody>\n",
       "</table>\n",
       "</div>"
      ],
      "text/plain": [
       "      Accession kac_residue\n",
       "272  A0A0A0MQF6        K295\n",
       "541  A0A0A0MQF6        K239\n",
       "668  A0A0A0MQF6        K218\n",
       "304  A0A0R4J023        K179\n",
       "330  A0A0R4J023        K179"
      ]
     },
     "execution_count": 15,
     "metadata": {},
     "output_type": "execute_result"
    }
   ],
   "source": [
    "# turn the expanded residues into a single column\n",
    "tacmi_kac_sites = (tacmi_kac_sites\n",
    "                   .reset_index()\n",
    "                   .melt(id_vars=['Accession'])\n",
    "                   .drop(columns='variable')\n",
    "                   .rename(columns={'value': 'kac_residue'}))\n",
    "\n",
    "tacmi_kac_sites.dropna(inplace=True)\n",
    "tacmi_kac_sites.sort_values('Accession', inplace=True)\n",
    "tacmi_kac_sites.head()"
   ]
  },
  {
   "cell_type": "markdown",
   "metadata": {},
   "source": [
    "## Exp3"
   ]
  },
  {
   "cell_type": "code",
   "execution_count": 16,
   "metadata": {},
   "outputs": [],
   "source": [
    "dkotac_kac_sites = dkotac['Modifications in Proteins'].str.split('; (?!K)', expand=True, )"
   ]
  },
  {
   "cell_type": "code",
   "execution_count": 17,
   "metadata": {},
   "outputs": [],
   "source": [
    "# list to hold the sites associated with the same master protein accession\n",
    "dkotac_sites = []\n",
    "for i in np.arange(0, dkotac_kac_sites.columns[-1]+1):\n",
    "    bool_mask = dkotac.Accession == dkotac_kac_sites[i].str.split(' ', expand=True)[0]\n",
    "    try:\n",
    "        temp_sites = dkotac_kac_sites[i].loc[bool_mask].str.split('(?<!;)\\s', expand=True)[2]\n",
    "        dkotac_sites.append(temp_sites)\n",
    "    except:\n",
    "        continue"
   ]
  },
  {
   "cell_type": "code",
   "execution_count": 18,
   "metadata": {},
   "outputs": [
    {
     "data": {
      "text/plain": [
       "0     K265\n",
       "3     K542\n",
       "4     K406\n",
       "5      K70\n",
       "6     K331\n",
       "7      K94\n",
       "8     K189\n",
       "9      K46\n",
       "10    K259\n",
       "11    K282\n",
       "Name: Acetylated Residues, dtype: object"
      ]
     },
     "execution_count": 18,
     "metadata": {},
     "output_type": "execute_result"
    }
   ],
   "source": [
    "# convert the list into a pandas series     \n",
    "dkotac_sites = pd.concat(dkotac_sites)\n",
    "\n",
    "# remove the percent confidence and brackets \n",
    "dkotac_sites = dkotac_sites.str.replace('\\(\\d{1,6}\\)', '').str.replace('\\[(.+)\\]', '\\g<1>')\n",
    "\n",
    "dkotac_sites.rename('Acetylated Residues', inplace=True)\n",
    "\n",
    "dkotac_sites.head(10)"
   ]
  },
  {
   "cell_type": "code",
   "execution_count": 19,
   "metadata": {},
   "outputs": [],
   "source": [
    "# merge the residues back onto the dataframe\n",
    "dkotac = dkotac.merge(dkotac_sites.to_frame(), left_index=True, right_index=True)"
   ]
  },
  {
   "cell_type": "code",
   "execution_count": 20,
   "metadata": {},
   "outputs": [
    {
     "data": {
      "text/html": [
       "<div>\n",
       "<style scoped>\n",
       "    .dataframe tbody tr th:only-of-type {\n",
       "        vertical-align: middle;\n",
       "    }\n",
       "\n",
       "    .dataframe tbody tr th {\n",
       "        vertical-align: top;\n",
       "    }\n",
       "\n",
       "    .dataframe thead th {\n",
       "        text-align: right;\n",
       "    }\n",
       "</style>\n",
       "<table border=\"1\" class=\"dataframe\">\n",
       "  <thead>\n",
       "    <tr style=\"text-align: right;\">\n",
       "      <th></th>\n",
       "      <th>0</th>\n",
       "      <th>1</th>\n",
       "      <th>2</th>\n",
       "    </tr>\n",
       "    <tr>\n",
       "      <th>Accession</th>\n",
       "      <th></th>\n",
       "      <th></th>\n",
       "      <th></th>\n",
       "    </tr>\n",
       "  </thead>\n",
       "  <tbody>\n",
       "    <tr>\n",
       "      <th>Q8QZT1</th>\n",
       "      <td>K265</td>\n",
       "      <td>None</td>\n",
       "      <td>None</td>\n",
       "    </tr>\n",
       "    <tr>\n",
       "      <th>Q99N15</th>\n",
       "      <td>K104</td>\n",
       "      <td>None</td>\n",
       "      <td>None</td>\n",
       "    </tr>\n",
       "    <tr>\n",
       "      <th>P97807-2</th>\n",
       "      <td>K427</td>\n",
       "      <td>None</td>\n",
       "      <td>None</td>\n",
       "    </tr>\n",
       "    <tr>\n",
       "      <th>D3Z7X0</th>\n",
       "      <td>K542</td>\n",
       "      <td>None</td>\n",
       "      <td>None</td>\n",
       "    </tr>\n",
       "    <tr>\n",
       "      <th>Q8BMS1</th>\n",
       "      <td>K406</td>\n",
       "      <td>None</td>\n",
       "      <td>None</td>\n",
       "    </tr>\n",
       "  </tbody>\n",
       "</table>\n",
       "</div>"
      ],
      "text/plain": [
       "              0     1     2\n",
       "Accession                  \n",
       "Q8QZT1     K265  None  None\n",
       "Q99N15     K104  None  None\n",
       "P97807-2   K427  None  None\n",
       "D3Z7X0     K542  None  None\n",
       "Q8BMS1     K406  None  None"
      ]
     },
     "execution_count": 20,
     "metadata": {},
     "output_type": "execute_result"
    }
   ],
   "source": [
    "# extract the accession and kac residues\n",
    "dkotac_kac_sites = dkotac[dkotac.MitoCarta2_List][['Accession', 'Acetylated Residues']].copy()\n",
    "dkotac_kac_sites.set_index('Accession', inplace=True)\n",
    "dkotac_kac_sites = dkotac_kac_sites['Acetylated Residues'].str.split('; ', expand=True)\n",
    "\n",
    "dkotac_kac_sites.head()"
   ]
  },
  {
   "cell_type": "code",
   "execution_count": 21,
   "metadata": {},
   "outputs": [
    {
     "data": {
      "text/html": [
       "<div>\n",
       "<style scoped>\n",
       "    .dataframe tbody tr th:only-of-type {\n",
       "        vertical-align: middle;\n",
       "    }\n",
       "\n",
       "    .dataframe tbody tr th {\n",
       "        vertical-align: top;\n",
       "    }\n",
       "\n",
       "    .dataframe thead th {\n",
       "        text-align: right;\n",
       "    }\n",
       "</style>\n",
       "<table border=\"1\" class=\"dataframe\">\n",
       "  <thead>\n",
       "    <tr style=\"text-align: right;\">\n",
       "      <th></th>\n",
       "      <th>Accession</th>\n",
       "      <th>kac_residue</th>\n",
       "    </tr>\n",
       "  </thead>\n",
       "  <tbody>\n",
       "    <tr>\n",
       "      <th>1368</th>\n",
       "      <td>A0A0A0MQF6</td>\n",
       "      <td>K131</td>\n",
       "    </tr>\n",
       "    <tr>\n",
       "      <th>1014</th>\n",
       "      <td>A0A0A0MQF6</td>\n",
       "      <td>K358</td>\n",
       "    </tr>\n",
       "    <tr>\n",
       "      <th>1632</th>\n",
       "      <td>A0A0A0MQF6</td>\n",
       "      <td>K163</td>\n",
       "    </tr>\n",
       "    <tr>\n",
       "      <th>1462</th>\n",
       "      <td>A0A0A0MQF6</td>\n",
       "      <td>K163</td>\n",
       "    </tr>\n",
       "    <tr>\n",
       "      <th>1519</th>\n",
       "      <td>A0A0A0MQF6</td>\n",
       "      <td>K110</td>\n",
       "    </tr>\n",
       "  </tbody>\n",
       "</table>\n",
       "</div>"
      ],
      "text/plain": [
       "       Accession kac_residue\n",
       "1368  A0A0A0MQF6        K131\n",
       "1014  A0A0A0MQF6        K358\n",
       "1632  A0A0A0MQF6        K163\n",
       "1462  A0A0A0MQF6        K163\n",
       "1519  A0A0A0MQF6        K110"
      ]
     },
     "execution_count": 21,
     "metadata": {},
     "output_type": "execute_result"
    }
   ],
   "source": [
    "# turn the expanded residues into a single column\n",
    "dkotac_kac_sites = (dkotac_kac_sites\n",
    "                   .reset_index()\n",
    "                   .melt(id_vars=['Accession'])\n",
    "                   .drop(columns='variable')\n",
    "                   .rename(columns={'value': 'kac_residue'}))\n",
    "\n",
    "dkotac_kac_sites.dropna(inplace=True)\n",
    "dkotac_kac_sites.sort_values('Accession', inplace=True)\n",
    "dkotac_kac_sites.head()"
   ]
  },
  {
   "cell_type": "markdown",
   "metadata": {},
   "source": [
    "# Compare the overlap"
   ]
  },
  {
   "cell_type": "markdown",
   "metadata": {},
   "source": [
    "While performing Experiments 1-3, we initially had trouble with polyethylene glycol (PEG) contaminants. As a result, the earlier experiments had fewer quantified acetylpeptides (these PEG compounds suppressed ionization on the instrument). Ultimatley, we traced the PEG to the inside of the microcentrifuge tubes we used. To reduce this interference, we washed all the tubes used in later experiments with Methanol (then let dry) followed by Ethanol (then let dry). These tubes were used within a few weeks of washing to ensure leaching from the polymer matrix didn't reverse our efforts."
   ]
  },
  {
   "cell_type": "code",
   "execution_count": 22,
   "metadata": {},
   "outputs": [],
   "source": [
    "dkos3_kac_sites['combined'] = dkos3_kac_sites.Accession + ' ' + dkos3_kac_sites.kac_residue\n",
    "tacmi_kac_sites['combined'] = tacmi_kac_sites.Accession + ' ' + tacmi_kac_sites.kac_residue\n",
    "dkotac_kac_sites['combined'] = dkotac_kac_sites.Accession + ' ' + dkotac_kac_sites.kac_residue"
   ]
  },
  {
   "cell_type": "code",
   "execution_count": 23,
   "metadata": {},
   "outputs": [],
   "source": [
    "dkos3_unique = pd.DataFrame(dkos3_kac_sites.combined.unique(), columns=['dkos3'])\n",
    "tacmi_unique = pd.DataFrame(tacmi_kac_sites.combined.unique(), columns=['tacmi'])\n",
    "dkotac_unique = pd.DataFrame(dkotac_kac_sites.combined.unique(), columns=['dkotac'])"
   ]
  },
  {
   "cell_type": "code",
   "execution_count": 26,
   "metadata": {},
   "outputs": [
    {
     "name": "stdout",
     "output_type": "stream",
     "text": [
      "Number of Unique Acetyl Sites\n",
      "Exp. 1: 242\n",
      "Exp. 2: 623\n",
      "Exp. 3: 1216\n"
     ]
    }
   ],
   "source": [
    "print('Number of Unique Acetyl Sites')\n",
    "for i, exp in enumerate([dkos3_unique, tacmi_unique, dkotac_unique]):\n",
    "    print(f'Exp. {i+1}: {exp.shape[0]}')"
   ]
  },
  {
   "cell_type": "code",
   "execution_count": 41,
   "metadata": {},
   "outputs": [],
   "source": [
    "exp1_exp2 = dkos3_unique.merge(tacmi_unique, left_on='dkos3', right_on='tacmi')\n",
    "\n",
    "exp1_exp3 = dkos3_unique.merge(dkotac_unique, left_on='dkos3', right_on='dkotac')\n",
    "\n",
    "exp2_exp3 = tacmi_unique.merge(dkotac_unique, left_on='tacmi', right_on='dkotac')"
   ]
  },
  {
   "cell_type": "code",
   "execution_count": 42,
   "metadata": {},
   "outputs": [
    {
     "data": {
      "text/plain": [
       "'Fraction of Mito Kac sites found Exp1 also found in Exp2: 86%'"
      ]
     },
     "execution_count": 42,
     "metadata": {},
     "output_type": "execute_result"
    }
   ],
   "source": [
    "fraction = exp1_exp2.shape[0] / dkos3_unique.shape[0]\n",
    "\n",
    "f'Fraction of Mito Kac sites found Exp1 also found in Exp2: {fraction:.0%}'"
   ]
  },
  {
   "cell_type": "code",
   "execution_count": 43,
   "metadata": {},
   "outputs": [
    {
     "data": {
      "text/plain": [
       "'Fraction of Mito Kac sites found Exp1 also found in Exp3: 93%'"
      ]
     },
     "execution_count": 43,
     "metadata": {},
     "output_type": "execute_result"
    }
   ],
   "source": [
    "fraction = exp1_exp3.shape[0] / dkos3_unique.shape[0]\n",
    "\n",
    "f'Fraction of Mito Kac sites found Exp1 also found in Exp3: {fraction:.0%}'"
   ]
  },
  {
   "cell_type": "code",
   "execution_count": 44,
   "metadata": {},
   "outputs": [
    {
     "data": {
      "text/plain": [
       "'Fraction of Mito Kac sites found Exp2 also found in Exp3: 90%'"
      ]
     },
     "execution_count": 44,
     "metadata": {},
     "output_type": "execute_result"
    }
   ],
   "source": [
    "fraction = exp2_exp3.shape[0] / tacmi_unique.shape[0]\n",
    "\n",
    "f'Fraction of Mito Kac sites found Exp2 also found in Exp3: {fraction:.0%}'"
   ]
  },
  {
   "cell_type": "code",
   "execution_count": null,
   "metadata": {},
   "outputs": [],
   "source": []
  }
 ],
 "metadata": {
  "kernelspec": {
   "display_name": "Python 3",
   "language": "python",
   "name": "python3"
  },
  "language_info": {
   "codemirror_mode": {
    "name": "ipython",
    "version": 3
   },
   "file_extension": ".py",
   "mimetype": "text/x-python",
   "name": "python",
   "nbconvert_exporter": "python",
   "pygments_lexer": "ipython3",
   "version": "3.7.0"
  },
  "toc": {
   "base_numbering": 1,
   "nav_menu": {
    "height": "148px",
    "width": "206px"
   },
   "number_sections": true,
   "sideBar": true,
   "skip_h1_title": false,
   "title_cell": "Table of Contents",
   "title_sidebar": "Contents",
   "toc_cell": false,
   "toc_position": {},
   "toc_section_display": true,
   "toc_window_display": false
  },
  "varInspector": {
   "cols": {
    "lenName": 16,
    "lenType": 16,
    "lenVar": 40
   },
   "kernels_config": {
    "python": {
     "delete_cmd_postfix": "",
     "delete_cmd_prefix": "del ",
     "library": "var_list.py",
     "varRefreshCmd": "print(var_dic_list())"
    },
    "r": {
     "delete_cmd_postfix": ") ",
     "delete_cmd_prefix": "rm(",
     "library": "var_list.r",
     "varRefreshCmd": "cat(var_dic_list()) "
    }
   },
   "types_to_exclude": [
    "module",
    "function",
    "builtin_function_or_method",
    "instance",
    "_Feature"
   ],
   "window_display": false
  }
 },
 "nbformat": 4,
 "nbformat_minor": 2
}
