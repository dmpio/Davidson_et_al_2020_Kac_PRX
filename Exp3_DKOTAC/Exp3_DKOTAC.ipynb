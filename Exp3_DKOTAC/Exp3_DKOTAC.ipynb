{
 "cells": [
  {
   "cell_type": "code",
   "execution_count": 1,
   "metadata": {},
   "outputs": [],
   "source": [
    "# Initialize\n",
    "import numpy as np\n",
    "import pandas as pd\n",
    "import re"
   ]
  },
  {
   "cell_type": "code",
   "execution_count": 2,
   "metadata": {},
   "outputs": [],
   "source": [
    "peptides_file = 'pd22_exports/pd22_export_exp3_Heart_DKO-TAC-Comparison_PeptideGroups.txt'\n",
    "proteins_file = 'pd22_exports/pd22_export_exp3_Heart_DKO-TAC-Comparison_Proteins.txt'\n",
    "pep = pd.read_csv(peptides_file, sep='\\t', low_memory=False)\n",
    "pro = pd.read_csv(proteins_file, sep='\\t', low_memory=False)"
   ]
  },
  {
   "cell_type": "markdown",
   "metadata": {},
   "source": [
    "# Import data from proteome discoverer"
   ]
  },
  {
   "cell_type": "markdown",
   "metadata": {},
   "source": [
    "For the peptides dataframe, use the first listed Master Protein Accession ID as the primary identifier. This identifier will be matched in the Proteins dataframe and used to pull additional information about the peptide. "
   ]
  },
  {
   "cell_type": "code",
   "execution_count": 3,
   "metadata": {},
   "outputs": [],
   "source": [
    "pep['Accession'] = pep['Master Protein Accessions'].str.split('; ', expand=True)[0]\n",
    "pro['Entrez'] = pro['Entrez Gene ID'].str.split('; ', expand=True)[0]\n",
    "pro['Ensembl'] = pro['Ensembl Gene ID'].str.split('; ', expand=True)[0]\n",
    "\n",
    "pep = pep.merge(pro[['Accession', 'Description', 'Entrez', 'Gene Symbol']], on='Accession')"
   ]
  },
  {
   "cell_type": "markdown",
   "metadata": {},
   "source": [
    "Next, import a pre-generated dataframe (stored as a pickled binary format). The information is based on the MitoCarta2 database, pulled from MitoMiner (http://mitominer.mrc-mbu.cam.ac.uk/release-4.0/begin.do) with additional, manually curated information about the particular location within the mitochondria. This will be used to identify peptides and proteins as mitochondrial.\n",
    "\n",
    "IMS = intermembrane space\n",
    "\n",
    "matrix = mitochondrial matrix"
   ]
  },
  {
   "cell_type": "code",
   "execution_count": 4,
   "metadata": {},
   "outputs": [],
   "source": [
    "mitocarta_df = pd.read_csv('mitocarta.csv')\n",
    "\n",
    "pep['MitoCarta2_List'] = pep.Entrez.isin(mitocarta_df.MouseGeneID.astype(str))\n",
    "pep['Matrix'] = pep.Entrez.isin(mitocarta_df.MouseGeneID[mitocarta_df.Matrix].astype(str))\n",
    "pep['IMS'] = pep.Entrez.isin(mitocarta_df.MouseGeneID[mitocarta_df.IMS].astype(str))\n",
    "\n",
    "pro['MitoCarta2_List'] = pro.Entrez.isin(mitocarta_df.MouseGeneID.astype(str))\n",
    "pro['Matrix'] = pro.Entrez.isin(mitocarta_df.MouseGeneID[mitocarta_df.Matrix].astype(str))\n",
    "pro['IMS'] = pro.Entrez.isin(mitocarta_df.MouseGeneID[mitocarta_df.IMS].astype(str))"
   ]
  },
  {
   "cell_type": "markdown",
   "metadata": {},
   "source": [
    "Next, we will identify columns that we want to store in a \"Master Index\". This will contian key information we want to retain from the proteome discoverer 2.2 exported file"
   ]
  },
  {
   "cell_type": "code",
   "execution_count": 5,
   "metadata": {
    "code_folding": [
     0,
     1,
     19
    ]
   },
   "outputs": [],
   "source": [
    "# a list to of columns to make a master index\n",
    "protein_mi_list = ['Accession', \n",
    "                   'Description',\n",
    "                   'Entrez',\n",
    "                   'Gene Symbol',\n",
    "                   'Ensembl',\n",
    "                   'MitoCarta2_List',\n",
    "                   'Matrix', \n",
    "                   'IMS',\n",
    "                   'Coverage [%]',\n",
    "                   '# Peptides',\n",
    "                   '# PSMs',\n",
    "                   '# Protein Unique Peptides',\n",
    "                   '# Unique Peptides', \n",
    "                   'Chromosome',\n",
    "                   'Modifications',\n",
    "                   'Acetyl (K) Count',\n",
    "                   'Acetyl (K) Positions']\n",
    "\n",
    "peptide_mi_list = ['Accession', \n",
    "                   'Description',\n",
    "                   'Entrez',\n",
    "                   'Gene Symbol',\n",
    "                   'Modifications', \n",
    "                   'MitoCarta2_List',\n",
    "                   'Matrix', \n",
    "                   'IMS', \n",
    "                   'Modifications in Proteins',\n",
    "                   'Modifications in Proteins (all Sites)',\n",
    "                   'Positions in Proteins',]"
   ]
  },
  {
   "cell_type": "markdown",
   "metadata": {},
   "source": [
    "Now, we identify the abundance columns from the experiment. These contain the quantification data for each TMT channel. There are 2 fractions that are mentioned:\n",
    "\n",
    "- F1 = \"Input\", the unenriched, pooled TMT-labeled peptides for all 10 samples. \n",
    "- F2 = \"Acetyl\", the Acetyl-lysine IP-enriched fraction \n",
    "\n",
    "The numbers (126, 130C) indicate the specific TMT tag associated with the column. \n",
    "\n",
    "Categorical Variables:\n",
    "- DFC = Dual flox control (Sirt3 and Crat floxed)\n",
    "- DKO = Dual Knock-out (Sirt3 and Crat knockout via MCK-Cre)\n",
    "- Sham = Surgical Controls for TACMI\n",
    "- TAC = Trans-aortic constriction, a model of heart failure"
   ]
  },
  {
   "cell_type": "code",
   "execution_count": 6,
   "metadata": {
    "code_folding": [
     0,
     12
    ]
   },
   "outputs": [],
   "source": [
    "input_abundance_list = ['Abundance: F1: 126, Sample, Input [Fraction], DKO [Genotype], Sham [Procedure]',\n",
    "                        'Abundance: F1: 127N, Sample, Input [Fraction], DFC [Genotype], Sham [Procedure]',\n",
    "                        'Abundance: F1: 127C, Sample, Input [Fraction], DFC [Genotype], TAC [Procedure]',\n",
    "                        'Abundance: F1: 128N, Sample, Input [Fraction], DFC [Genotype], Sham [Procedure]',\n",
    "                        'Abundance: F1: 128C, Sample, Input [Fraction], DKO [Genotype], TAC [Procedure]',\n",
    "                        'Abundance: F1: 129N, Sample, Input [Fraction], DFC [Genotype], TAC [Procedure]',\n",
    "                        'Abundance: F1: 129C, Sample, Input [Fraction], DKO [Genotype], TAC [Procedure]',\n",
    "                        'Abundance: F1: 130N, Sample, Input [Fraction], DKO [Genotype], TAC [Procedure]',\n",
    "                        'Abundance: F1: 130C, Sample, Input [Fraction], DFC [Genotype], TAC [Procedure]',\n",
    "                        'Abundance: F1: 131N, Sample, Input [Fraction], DKO [Genotype], Sham [Procedure]',\n",
    "                        'Abundance: F1: 131C, Sample, Input [Fraction], DFC [Genotype], Sham [Procedure]',]\n",
    "\n",
    "acetyl_abundance_list = ['Abundance: F4: 126, Sample, Acetyl [Fraction], DKO [Genotype], Sham [Procedure]',\n",
    "                         'Abundance: F4: 127N, Sample, Acetyl [Fraction], DFC [Genotype], Sham [Procedure]',\n",
    "                         'Abundance: F4: 127C, Sample, Acetyl [Fraction], DFC [Genotype], TAC [Procedure]',\n",
    "                         'Abundance: F4: 128N, Sample, Acetyl [Fraction], DFC [Genotype], Sham [Procedure]',\n",
    "                         'Abundance: F4: 128C, Sample, Acetyl [Fraction], DKO [Genotype], TAC [Procedure]',\n",
    "                         'Abundance: F4: 129N, Sample, Acetyl [Fraction], DFC [Genotype], TAC [Procedure]',\n",
    "                         'Abundance: F4: 129C, Sample, Acetyl [Fraction], DKO [Genotype], TAC [Procedure]',\n",
    "                         'Abundance: F4: 130N, Sample, Acetyl [Fraction], DKO [Genotype], TAC [Procedure]',\n",
    "                         'Abundance: F4: 130C, Sample, Acetyl [Fraction], DFC [Genotype], TAC [Procedure]',\n",
    "                         'Abundance: F4: 131N, Sample, Acetyl [Fraction], DKO [Genotype], Sham [Procedure]',\n",
    "                         'Abundance: F4: 131C, Sample, Acetyl [Fraction], DFC [Genotype], Sham [Procedure]',]"
   ]
  },
  {
   "cell_type": "markdown",
   "metadata": {},
   "source": [
    "These are shorter, more friendly versions of those identifier that will be used to rename the columns"
   ]
  },
  {
   "cell_type": "code",
   "execution_count": 7,
   "metadata": {},
   "outputs": [],
   "source": [
    "input_consolidated_list = ['DKO,Sham,126,Input',\n",
    "                           'DFC,Sham,127N,Input',\n",
    "                           'DFC,TAC,127C,Input',\n",
    "                           'DFC,Sham,128N,Input',\n",
    "                           'DKO,TAC,128C,Input',\n",
    "                           'DFC,TAC,129N,Input',\n",
    "                           'DKO,TAC,129C,Input',\n",
    "                           'DKO,TAC,130N,Input',\n",
    "                           'DFC,TAC,130C,Input',\n",
    "                           'DKO,Sham,131N,Input',\n",
    "                           'DFC,Sham,131C,Input']\n",
    "\n",
    "acetyl_consolidated_list = ['DKO,Sham,126,Acetyl',\n",
    "                            'DFC,Sham,127N,Acetyl',\n",
    "                            'DFC,TAC,127C,Acetyl',\n",
    "                            'DFC,Sham,128N,Acetyl',\n",
    "                            'DKO,TAC,128C,Acetyl',\n",
    "                            'DFC,TAC,129N,Acetyl',\n",
    "                            'DKO,TAC,129C,Acetyl',\n",
    "                            'DKO,TAC,130N,Acetyl',\n",
    "                            'DFC,TAC,130C,Acetyl',\n",
    "                            'DKO,Sham,131N,Acetyl',\n",
    "                            'DFC,Sham,131C,Acetyl']"
   ]
  },
  {
   "cell_type": "code",
   "execution_count": 8,
   "metadata": {
    "code_folding": []
   },
   "outputs": [],
   "source": [
    "acetyl_columns_df = pd.DataFrame.from_records([col.split(',') for col in acetyl_consolidated_list], \n",
    "                                              columns=['Genotype', 'Procedure', 'Channel', 'Fraction'])\n",
    "\n",
    "input_columns_df = pd.DataFrame.from_records([col.split(',') for col in input_consolidated_list], \n",
    "                                              columns=['Genotype', 'Procedure', 'Channel', 'Fraction'])\n",
    "\n",
    "acetyl_columns_df.set_index(acetyl_columns_df.columns.tolist(), inplace=True)\n",
    "input_columns_df.set_index(input_columns_df.columns.tolist(), inplace=True)"
   ]
  },
  {
   "cell_type": "markdown",
   "metadata": {},
   "source": [
    "## Locate the Acetyl Peptides (Kac)"
   ]
  },
  {
   "cell_type": "markdown",
   "metadata": {},
   "source": [
    "We look for peptides that were quantified from the Acetyl fraction AND contain an identified actyl-lysine residue present. While the acetyl fraction is enriched for acetylated lysine residues, not all identified peptides within this fraction contain this post-translational modification. "
   ]
  },
  {
   "cell_type": "code",
   "execution_count": 9,
   "metadata": {},
   "outputs": [],
   "source": [
    "acetyl_df = pep[pep['Modifications'].str.contains('Acetyl')][acetyl_abundance_list].dropna()\n",
    "acetyl_df.columns = acetyl_columns_df.index\n",
    "\n",
    "# Flatten the column headers for working in R\n",
    "acetyl_df.columns = ['_'.join(col).strip() for col in acetyl_df.columns.values]"
   ]
  },
  {
   "cell_type": "code",
   "execution_count": 10,
   "metadata": {},
   "outputs": [],
   "source": [
    "# Define the input - i.e., everything identified in the non-enriched fraction\n",
    "input_df = pep[input_abundance_list].dropna()\n",
    "input_df.columns = input_columns_df.index\n",
    "\n",
    "# Flatten the column headers for symmetry with acetyl\n",
    "input_df.columns = ['_'.join(col).strip() for col in input_df.columns.values]"
   ]
  },
  {
   "cell_type": "markdown",
   "metadata": {},
   "source": [
    "## Locate the protein abundances\n",
    "- Use values obtained from the input fraction - these represent the total proteome\n",
    "- Only select proteins that are called \"Master Proteins\" by proteome discoverer 2.2 wiht a FDR < 0.01"
   ]
  },
  {
   "cell_type": "code",
   "execution_count": 11,
   "metadata": {},
   "outputs": [],
   "source": [
    "protein_df = (pro[(pro.Master=='IsMasterProtein')\n",
    "                  &(pro['Exp. q-value: Combined']<=0.01)]\n",
    "              [input_abundance_list]\n",
    "              .dropna(how='all')\n",
    "              .copy())\n",
    "\n",
    "# copy the input headers and rename for proteins\n",
    "protein_df.columns = input_df.columns\n",
    "protein_df.rename(columns=lambda x: x.replace('Input', 'Proteins'), inplace=True)\n"
   ]
  },
  {
   "cell_type": "markdown",
   "metadata": {},
   "source": [
    "# Normalize Data\n",
    "- Correct for variations in total protein loading per kit\n",
    "- use the mean of the sums of total peptide loading (input fraction) to generate a correction factor\n",
    "- apply this correction factor to the acetyl peptides, 'input fraction', and proteins"
   ]
  },
  {
   "cell_type": "markdown",
   "metadata": {},
   "source": [
    "## Calculate the scaling factor for each plex "
   ]
  },
  {
   "cell_type": "code",
   "execution_count": 12,
   "metadata": {},
   "outputs": [],
   "source": [
    "channel_sums = input_df.sum(axis=0)"
   ]
  },
  {
   "cell_type": "code",
   "execution_count": 13,
   "metadata": {},
   "outputs": [
    {
     "name": "stdout",
     "output_type": "stream",
     "text": [
      "Individual Channel, Loading relative to the mean\n"
     ]
    },
    {
     "data": {
      "text/plain": [
       "DKO_Sham_126_Input     1.050456\n",
       "DFC_Sham_127N_Input    0.981561\n",
       "DFC_TAC_127C_Input     1.083244\n",
       "DFC_Sham_128N_Input    0.878188\n",
       "DKO_TAC_128C_Input     0.927371\n",
       "DFC_TAC_129N_Input     0.960688\n",
       "DKO_TAC_129C_Input     0.832689\n",
       "DKO_TAC_130N_Input     1.107269\n",
       "DFC_TAC_130C_Input     1.111127\n",
       "DKO_Sham_131N_Input    0.944913\n",
       "DFC_Sham_131C_Input    1.122494\n",
       "dtype: float64"
      ]
     },
     "execution_count": 13,
     "metadata": {},
     "output_type": "execute_result"
    }
   ],
   "source": [
    "print('Individual Channel, Loading relative to the mean')\n",
    "\n",
    "channel_sums.divide(channel_sums.mean())"
   ]
  },
  {
   "cell_type": "code",
   "execution_count": 14,
   "metadata": {},
   "outputs": [
    {
     "name": "stdout",
     "output_type": "stream",
     "text": [
      "Scaling factor to adjust relative loading to 1\n"
     ]
    },
    {
     "data": {
      "text/plain": [
       "DKO_Sham_126_Input     0.951967\n",
       "DFC_Sham_127N_Input    1.018786\n",
       "DFC_TAC_127C_Input     0.923153\n",
       "DFC_Sham_128N_Input    1.138708\n",
       "DKO_TAC_128C_Input     1.078317\n",
       "DFC_TAC_129N_Input     1.040921\n",
       "DKO_TAC_129C_Input     1.200929\n",
       "DKO_TAC_130N_Input     0.903123\n",
       "DFC_TAC_130C_Input     0.899987\n",
       "DKO_Sham_131N_Input    1.058299\n",
       "DFC_Sham_131C_Input    0.890873\n",
       "dtype: float64"
      ]
     },
     "execution_count": 14,
     "metadata": {},
     "output_type": "execute_result"
    }
   ],
   "source": [
    "print('Scaling factor to adjust relative loading to 1')\n",
    "\n",
    "scaling_factor = 1/channel_sums.divide(channel_sums.mean())\n",
    "scaling_factor"
   ]
  },
  {
   "cell_type": "markdown",
   "metadata": {},
   "source": [
    "## Apply the Scaling Factor"
   ]
  },
  {
   "cell_type": "code",
   "execution_count": 15,
   "metadata": {},
   "outputs": [
    {
     "data": {
      "text/plain": [
       "DKO_Sham_126_Input_norm     7.481019e+06\n",
       "DFC_Sham_127N_Input_norm    7.481019e+06\n",
       "DFC_TAC_127C_Input_norm     7.481019e+06\n",
       "DFC_Sham_128N_Input_norm    7.481019e+06\n",
       "DKO_TAC_128C_Input_norm     7.481019e+06\n",
       "DFC_TAC_129N_Input_norm     7.481019e+06\n",
       "DKO_TAC_129C_Input_norm     7.481019e+06\n",
       "DKO_TAC_130N_Input_norm     7.481019e+06\n",
       "DFC_TAC_130C_Input_norm     7.481019e+06\n",
       "DKO_Sham_131N_Input_norm    7.481019e+06\n",
       "DFC_Sham_131C_Input_norm    7.481019e+06\n",
       "dtype: float64"
      ]
     },
     "execution_count": 15,
     "metadata": {},
     "output_type": "execute_result"
    }
   ],
   "source": [
    "input_norm = (input_df * scaling_factor)\n",
    "input_norm.columns = [str(col) + '_norm' for col in input_norm.columns]\n",
    "input_norm.sum()"
   ]
  },
  {
   "cell_type": "code",
   "execution_count": 16,
   "metadata": {},
   "outputs": [
    {
     "data": {
      "text/plain": [
       "DKO_Sham_126_Proteins_norm     5.755288e+06\n",
       "DFC_Sham_127N_Proteins_norm    5.747786e+06\n",
       "DFC_TAC_127C_Proteins_norm     5.668154e+06\n",
       "DFC_Sham_128N_Proteins_norm    5.724267e+06\n",
       "DKO_TAC_128C_Proteins_norm     5.688557e+06\n",
       "DFC_TAC_129N_Proteins_norm     5.669434e+06\n",
       "DKO_TAC_129C_Proteins_norm     5.677445e+06\n",
       "DKO_TAC_130N_Proteins_norm     5.669717e+06\n",
       "DFC_TAC_130C_Proteins_norm     5.650777e+06\n",
       "DKO_Sham_131N_Proteins_norm    5.765681e+06\n",
       "DFC_Sham_131C_Proteins_norm    5.732359e+06\n",
       "dtype: float64"
      ]
     },
     "execution_count": 16,
     "metadata": {},
     "output_type": "execute_result"
    }
   ],
   "source": [
    "protein_norm = (protein_df * scaling_factor.rename(lambda x: x.replace('Input', 'Proteins')))\n",
    "protein_norm.columns = [str(col) + '_norm' for col in protein_norm.columns]\n",
    "protein_norm.sum()"
   ]
  },
  {
   "cell_type": "code",
   "execution_count": 17,
   "metadata": {},
   "outputs": [
    {
     "data": {
      "text/plain": [
       "DKO_Sham_126_Acetyl_norm     673459.973557\n",
       "DFC_Sham_127N_Acetyl_norm    242747.293643\n",
       "DFC_TAC_127C_Acetyl_norm     212815.445736\n",
       "DFC_Sham_128N_Acetyl_norm    212207.017448\n",
       "DKO_TAC_128C_Acetyl_norm     436367.120598\n",
       "DFC_TAC_129N_Acetyl_norm     210247.624787\n",
       "DKO_TAC_129C_Acetyl_norm     450322.341837\n",
       "DKO_TAC_130N_Acetyl_norm     331552.341353\n",
       "DFC_TAC_130C_Acetyl_norm     199342.466531\n",
       "DKO_Sham_131N_Acetyl_norm    704116.489627\n",
       "DFC_Sham_131C_Acetyl_norm    412378.727224\n",
       "dtype: float64"
      ]
     },
     "execution_count": 17,
     "metadata": {},
     "output_type": "execute_result"
    }
   ],
   "source": [
    "acetyl_norm = acetyl_df * scaling_factor.rename(lambda x: x.replace('Input', 'Acetyl'))\n",
    "acetyl_norm.columns = [str(col) + '_norm' for col in acetyl_norm.columns]\n",
    "acetyl_norm.sum()"
   ]
  },
  {
   "cell_type": "markdown",
   "metadata": {},
   "source": [
    "# Calculate the \"relative occupancy\" for each plex\n",
    "- This adjusts the acetyl peptide quantification based on changes in protein quantification. This corrects not for experimental loading, but for genetic changes that may occur between the genetic knock-out and the flox control.\n",
    "- The relative occupancy corrections will be almost un-noticed in these animals, however. "
   ]
  },
  {
   "cell_type": "code",
   "execution_count": 18,
   "metadata": {},
   "outputs": [
    {
     "name": "stderr",
     "output_type": "stream",
     "text": [
      "C:\\Anaconda3\\lib\\site-packages\\ipykernel_launcher.py:3: RuntimeWarning: divide by zero encountered in log2\n",
      "  This is separate from the ipykernel package so we can avoid doing imports until\n",
      "C:\\Anaconda3\\lib\\site-packages\\ipykernel_launcher.py:4: RuntimeWarning: divide by zero encountered in log2\n",
      "  after removing the cwd from sys.path.\n"
     ]
    }
   ],
   "source": [
    "# convert the input-normalized data into the log2 space\n",
    "# subtract the row mean from each column to center each row around 0 (in log 2)\n",
    "acetyl_norm_log2 = np.log2(acetyl_norm).sub(np.log2(acetyl_norm).mean(axis=1), axis='index')\n",
    "input_norm_log2 = np.log2(input_norm).sub(np.log2(input_norm).mean(axis=1), axis='index')\n",
    "protein_norm_log2 = np.log2(protein_norm).sub(np.log2(protein_norm).mean(axis=1), axis='index')\n",
    "\n",
    "\n",
    "# rename columns to save the information\n",
    "acetyl_norm_log2.columns = [str(col) + '_log2' for col in acetyl_norm_log2.columns]\n",
    "input_norm_log2.columns = [str(col) + '_log2' for col in input_norm_log2.columns]\n",
    "protein_norm_log2.columns = [str(col) + '_log2' for col in protein_norm_log2.columns]\n"
   ]
  },
  {
   "cell_type": "markdown",
   "metadata": {},
   "source": [
    "Combine the the \"raw\", load-normalized, and log2-transformed data into a single dataframe"
   ]
  },
  {
   "cell_type": "code",
   "execution_count": 19,
   "metadata": {},
   "outputs": [],
   "source": [
    "acetyl = pd.concat([pep.loc[acetyl_norm.index][peptide_mi_list], \n",
    "                    acetyl_df, \n",
    "                    acetyl_norm, \n",
    "                    acetyl_norm_log2,], \n",
    "                   axis=1)\n",
    "\n",
    "inputs = pd.concat([pep.loc[input_norm.index][peptide_mi_list], \n",
    "                    input_df, \n",
    "                    input_norm, \n",
    "                    input_norm_log2], \n",
    "                   axis=1)\n",
    "\n",
    "protein = pd.concat([pro.loc[protein_df.index][protein_mi_list], \n",
    "                     protein_df, \n",
    "                     protein_norm, \n",
    "                     protein_norm_log2], \n",
    "                    axis=1)\n"
   ]
  },
  {
   "cell_type": "markdown",
   "metadata": {},
   "source": [
    "## Calculate the RO\n",
    "- Merge protein information along with acetyl information into a single dataframe\n",
    "- The protein abundance information will be used to correc the acetyl data (the relative occupancy)"
   ]
  },
  {
   "cell_type": "code",
   "execution_count": 20,
   "metadata": {},
   "outputs": [],
   "source": [
    "protein_merge_cols = protein.filter(regex='_log2').columns.tolist() + ['Accession']"
   ]
  },
  {
   "cell_type": "code",
   "execution_count": 21,
   "metadata": {},
   "outputs": [],
   "source": [
    "merged_acetyl = acetyl.merge(protein[protein_merge_cols], \n",
    "                             on='Accession', \n",
    "                             how='left', \n",
    "                             validate='m:1')"
   ]
  },
  {
   "cell_type": "markdown",
   "metadata": {},
   "source": [
    "The relative occupancy of the post-translational modification is calculated by subtracting changes in the protien abundance from the acetyl-peptide abundance. For example, if a PTM site is found to be increasing by 2 fold, but the protein abundnace is also increasing by 2 fold, then the relative occupancy would be 0. "
   ]
  },
  {
   "cell_type": "code",
   "execution_count": 22,
   "metadata": {},
   "outputs": [
    {
     "data": {
      "text/html": [
       "<div>\n",
       "<style scoped>\n",
       "    .dataframe tbody tr th:only-of-type {\n",
       "        vertical-align: middle;\n",
       "    }\n",
       "\n",
       "    .dataframe tbody tr th {\n",
       "        vertical-align: top;\n",
       "    }\n",
       "\n",
       "    .dataframe thead th {\n",
       "        text-align: right;\n",
       "    }\n",
       "</style>\n",
       "<table border=\"1\" class=\"dataframe\">\n",
       "  <thead>\n",
       "    <tr style=\"text-align: right;\">\n",
       "      <th></th>\n",
       "      <th>DKO_Sham_126_Acetyl_norm_log2_ro</th>\n",
       "      <th>DFC_Sham_127N_Acetyl_norm_log2_ro</th>\n",
       "      <th>DFC_TAC_127C_Acetyl_norm_log2_ro</th>\n",
       "      <th>DFC_Sham_128N_Acetyl_norm_log2_ro</th>\n",
       "      <th>DKO_TAC_128C_Acetyl_norm_log2_ro</th>\n",
       "      <th>DFC_TAC_129N_Acetyl_norm_log2_ro</th>\n",
       "      <th>DKO_TAC_129C_Acetyl_norm_log2_ro</th>\n",
       "      <th>DKO_TAC_130N_Acetyl_norm_log2_ro</th>\n",
       "      <th>DFC_TAC_130C_Acetyl_norm_log2_ro</th>\n",
       "      <th>DKO_Sham_131N_Acetyl_norm_log2_ro</th>\n",
       "      <th>DFC_Sham_131C_Acetyl_norm_log2_ro</th>\n",
       "    </tr>\n",
       "  </thead>\n",
       "  <tbody>\n",
       "    <tr>\n",
       "      <th>0</th>\n",
       "      <td>-0.154750</td>\n",
       "      <td>-0.384628</td>\n",
       "      <td>-0.446949</td>\n",
       "      <td>-0.295440</td>\n",
       "      <td>0.294292</td>\n",
       "      <td>-0.504665</td>\n",
       "      <td>0.761702</td>\n",
       "      <td>0.215371</td>\n",
       "      <td>-0.875279</td>\n",
       "      <td>0.331100</td>\n",
       "      <td>1.059245</td>\n",
       "    </tr>\n",
       "    <tr>\n",
       "      <th>1</th>\n",
       "      <td>0.337560</td>\n",
       "      <td>-1.151819</td>\n",
       "      <td>-0.217556</td>\n",
       "      <td>-1.135259</td>\n",
       "      <td>0.110443</td>\n",
       "      <td>-0.886445</td>\n",
       "      <td>0.058382</td>\n",
       "      <td>-0.226050</td>\n",
       "      <td>-1.182244</td>\n",
       "      <td>0.880765</td>\n",
       "      <td>3.412223</td>\n",
       "    </tr>\n",
       "    <tr>\n",
       "      <th>2</th>\n",
       "      <td>-0.967698</td>\n",
       "      <td>-0.400803</td>\n",
       "      <td>0.058308</td>\n",
       "      <td>-0.142698</td>\n",
       "      <td>-0.627324</td>\n",
       "      <td>-0.573430</td>\n",
       "      <td>0.111890</td>\n",
       "      <td>-0.655765</td>\n",
       "      <td>-1.273027</td>\n",
       "      <td>0.304846</td>\n",
       "      <td>4.165702</td>\n",
       "    </tr>\n",
       "    <tr>\n",
       "      <th>3</th>\n",
       "      <td>-2.035343</td>\n",
       "      <td>-1.624763</td>\n",
       "      <td>0.167718</td>\n",
       "      <td>1.032514</td>\n",
       "      <td>0.370244</td>\n",
       "      <td>-0.844965</td>\n",
       "      <td>0.517107</td>\n",
       "      <td>0.271285</td>\n",
       "      <td>0.319972</td>\n",
       "      <td>-0.670951</td>\n",
       "      <td>2.497181</td>\n",
       "    </tr>\n",
       "    <tr>\n",
       "      <th>4</th>\n",
       "      <td>0.141024</td>\n",
       "      <td>0.103013</td>\n",
       "      <td>-0.587898</td>\n",
       "      <td>-0.413034</td>\n",
       "      <td>0.000574</td>\n",
       "      <td>-0.423486</td>\n",
       "      <td>-0.090507</td>\n",
       "      <td>-0.006432</td>\n",
       "      <td>-0.341178</td>\n",
       "      <td>-0.040621</td>\n",
       "      <td>1.658546</td>\n",
       "    </tr>\n",
       "  </tbody>\n",
       "</table>\n",
       "</div>"
      ],
      "text/plain": [
       "   DKO_Sham_126_Acetyl_norm_log2_ro  DFC_Sham_127N_Acetyl_norm_log2_ro  \\\n",
       "0                         -0.154750                          -0.384628   \n",
       "1                          0.337560                          -1.151819   \n",
       "2                         -0.967698                          -0.400803   \n",
       "3                         -2.035343                          -1.624763   \n",
       "4                          0.141024                           0.103013   \n",
       "\n",
       "   DFC_TAC_127C_Acetyl_norm_log2_ro  DFC_Sham_128N_Acetyl_norm_log2_ro  \\\n",
       "0                         -0.446949                          -0.295440   \n",
       "1                         -0.217556                          -1.135259   \n",
       "2                          0.058308                          -0.142698   \n",
       "3                          0.167718                           1.032514   \n",
       "4                         -0.587898                          -0.413034   \n",
       "\n",
       "   DKO_TAC_128C_Acetyl_norm_log2_ro  DFC_TAC_129N_Acetyl_norm_log2_ro  \\\n",
       "0                          0.294292                         -0.504665   \n",
       "1                          0.110443                         -0.886445   \n",
       "2                         -0.627324                         -0.573430   \n",
       "3                          0.370244                         -0.844965   \n",
       "4                          0.000574                         -0.423486   \n",
       "\n",
       "   DKO_TAC_129C_Acetyl_norm_log2_ro  DKO_TAC_130N_Acetyl_norm_log2_ro  \\\n",
       "0                          0.761702                          0.215371   \n",
       "1                          0.058382                         -0.226050   \n",
       "2                          0.111890                         -0.655765   \n",
       "3                          0.517107                          0.271285   \n",
       "4                         -0.090507                         -0.006432   \n",
       "\n",
       "   DFC_TAC_130C_Acetyl_norm_log2_ro  DKO_Sham_131N_Acetyl_norm_log2_ro  \\\n",
       "0                         -0.875279                           0.331100   \n",
       "1                         -1.182244                           0.880765   \n",
       "2                         -1.273027                           0.304846   \n",
       "3                          0.319972                          -0.670951   \n",
       "4                         -0.341178                          -0.040621   \n",
       "\n",
       "   DFC_Sham_131C_Acetyl_norm_log2_ro  \n",
       "0                           1.059245  \n",
       "1                           3.412223  \n",
       "2                           4.165702  \n",
       "3                           2.497181  \n",
       "4                           1.658546  "
      ]
     },
     "execution_count": 22,
     "metadata": {},
     "output_type": "execute_result"
    }
   ],
   "source": [
    "# calculate relative occupancy in acetyl peptides\n",
    "\n",
    "relative_occupancy = (merged_acetyl.filter(regex='Acetyl_norm_log2')\n",
    "                      .sub(merged_acetyl.filter(regex='Proteins_norm_log2')\n",
    "                           # rename the protein column headers to enable easy dataframe subtraction\n",
    "                           .rename(columns=lambda x: x.replace('Proteins', 'Acetyl'))))\n",
    "\n",
    "relative_occupancy.rename(columns=lambda x: x+'_ro', inplace=True)\n",
    "\n",
    "relative_occupancy.head()"
   ]
  },
  {
   "cell_type": "code",
   "execution_count": 23,
   "metadata": {},
   "outputs": [],
   "source": [
    "# stick the relative occupancy data onto the merged data\n",
    "merged_acetyl = pd.concat([merged_acetyl, relative_occupancy], axis=1)\n",
    "\n",
    "# drop the protein columns out of the data\n",
    "merged_acetyl.drop(columns=merged_acetyl.filter(regex='_Protein').columns.tolist(), \n",
    "                   inplace=True)"
   ]
  },
  {
   "cell_type": "markdown",
   "metadata": {},
   "source": [
    "# *limma* analysis"
   ]
  },
  {
   "cell_type": "markdown",
   "metadata": {},
   "source": [
    "## Export Files for *limma* analysis"
   ]
  },
  {
   "cell_type": "markdown",
   "metadata": {},
   "source": [
    "It is probably just as easy to do this entire analysis in R, with the limma component incorporated into the data processing. I'm not very experienced in R, so the disjointed analysis with R and python was faster for me. Exporting the data from Python into a CSV to import into R was the quickest method for my purposes. One could also try the rpy2 library (I tinkered with it, but found it to be too much effort for the payoff) or exporting the dataframes from pandas into a feather/arrow format."
   ]
  },
  {
   "cell_type": "code",
   "execution_count": 24,
   "metadata": {},
   "outputs": [],
   "source": [
    "acetyl_norm.to_csv('limma/limma_export_dkotac_kac.csv')\n",
    "\n",
    "merged_acetyl.filter(regex='_ro$').to_csv('limma/limma_export_dkotac_RO_kac.csv')\n",
    "\n",
    "protein.filter(regex='.+_norm$').to_csv('limma/limma_export_dkotac_proteins.csv')"
   ]
  },
  {
   "cell_type": "markdown",
   "metadata": {},
   "source": [
    "## Read Files from *limma* analysis"
   ]
  },
  {
   "cell_type": "code",
   "execution_count": 25,
   "metadata": {},
   "outputs": [],
   "source": [
    "kac_limma = pd.read_csv('limma/eb_fit_dkotac_kac.tsv', sep='\\t')\n",
    "kac_ro_limma = pd.read_csv('limma/eb_fit_dkotac_RO_kac.tsv', sep='\\t')\n",
    "prot_limma = pd.read_csv('limma/eb_fit_dkotac_proteins.tsv', sep='\\t')"
   ]
  },
  {
   "cell_type": "code",
   "execution_count": 26,
   "metadata": {},
   "outputs": [],
   "source": [
    "# merge back onto data\n",
    "acetyl = pd.concat([acetyl, kac_limma], axis=1)\n",
    "\n",
    "protein = pd.concat([protein, prot_limma], axis=1)\n",
    "\n",
    "merged_acetyl = pd.concat([merged_acetyl, kac_ro_limma], axis=1)\n",
    "\n",
    "# rename to somethign more fitting now\n",
    "ro_acetyl = merged_acetyl"
   ]
  },
  {
   "cell_type": "markdown",
   "metadata": {},
   "source": [
    "Rename the limma results to have more intuitive names\n",
    "\n",
    "- `Coef` = Log2 Fold Change comparison between two groups\n",
    "- `Res` = Significance. \n",
    "    - 0 = not significant\n",
    "    - 1 = significant difference increasing\n",
    "    - -1 = significant difference decreasing"
   ]
  },
  {
   "cell_type": "code",
   "execution_count": 27,
   "metadata": {},
   "outputs": [],
   "source": [
    "limma_match = ['Coef\\.', 'p\\.value\\.', 't\\.', 'Res\\.']\n",
    "limma_replace = ['_Log2FC', '_p_value', '_t', '_significant']\n",
    "\n",
    "for match, replace in zip(limma_match, limma_replace):\n",
    "    acetyl.rename(columns=lambda x: re.sub(match + '(.+)', '\\g<1>' + replace, x), inplace=True)\n",
    "    protein.rename(columns=lambda x: re.sub(match + '(.+)', '\\g<1>' + replace, x), inplace=True)\n",
    "    ro_acetyl.rename(columns=lambda x: re.sub(match + '(.+)', '\\g<1>' + replace, x), inplace=True)"
   ]
  },
  {
   "cell_type": "markdown",
   "metadata": {},
   "source": [
    "Pull out useful information from the Description field into separate columns. Although there is a Gene Symbol field present, it isn't always populated and isn't always the same"
   ]
  },
  {
   "cell_type": "code",
   "execution_count": 28,
   "metadata": {},
   "outputs": [],
   "source": [
    "acetyl['Name'] = acetyl.Description.str.split(' [OSGNPESV]{2}=', expand=True)[0]\n",
    "acetyl['Symbol'] = acetyl.Description.str.split(' [OSGNPESV]{2}=', expand=True)[2]\n",
    "\n",
    "protein['Name'] = protein.Description.str.split(' [OSGNPESV]{2}=', expand=True)[0]\n",
    "protein['Symbol'] = protein.Description.str.split(' [OSGNPESV]{2}=', expand=True)[2]\n",
    "\n",
    "ro_acetyl['Name'] = ro_acetyl.Description.str.split(' [OSGNPESV]{2}=', expand=True)[0]\n",
    "ro_acetyl['Symbol'] = ro_acetyl.Description.str.split(' [OSGNPESV]{2}=', expand=True)[2]\n",
    "\n",
    "# reorder the columns so the information\n",
    "acetyl = acetyl[acetyl.columns.tolist()[-2:] + acetyl.columns.tolist()[:-2]]\n",
    "protein = protein[protein.columns.tolist()[-2:] + protein.columns.tolist()[:-2]]\n",
    "ro_acetyl = ro_acetyl[ro_acetyl.columns.tolist()[-2:] + ro_acetyl.columns.tolist()[:-2]]"
   ]
  },
  {
   "cell_type": "markdown",
   "metadata": {},
   "source": [
    "Sort the data"
   ]
  },
  {
   "cell_type": "code",
   "execution_count": 29,
   "metadata": {},
   "outputs": [],
   "source": [
    "protein.sort_values('Acetyl (K) Count', ascending=False, inplace=True)\n",
    "acetyl.sort_values('DKO_TACvsDFC_TAC_Log2FC', ascending=False, inplace=True)\n",
    "ro_acetyl.sort_values('DKO_TACvsDFC_TAC_Log2FC', ascending=False, inplace=True)"
   ]
  },
  {
   "cell_type": "markdown",
   "metadata": {},
   "source": [
    "# Export the Data"
   ]
  },
  {
   "cell_type": "code",
   "execution_count": 30,
   "metadata": {},
   "outputs": [],
   "source": [
    "writer = pd.ExcelWriter('processed_files/Exp3_DKOTAC_11plex.xlsx', options={'strings_to_numbers': True})\n",
    "\n",
    "ro_acetyl.to_excel(writer, sheet_name='Exp3_DKOTAC_RO_Kac', index=False)\n",
    "acetyl.to_excel(writer, sheet_name='Exp3_DKOTAC_Kac', index=False)\n",
    "protein.to_excel(writer, sheet_name='Exp3_DKOTAC_Protein', index=False)\n",
    "\n",
    "writer.save()"
   ]
  },
  {
   "cell_type": "code",
   "execution_count": 31,
   "metadata": {},
   "outputs": [],
   "source": [
    "ro_acetyl.to_csv('processed_files/Exp3_DKOTAC_RO_Kac.csv', index=False)\n",
    "acetyl.to_csv('processed_files/Exp3_DKOTAC_Kac.csv', index=False)\n",
    "protein.to_csv('processed_files/Exp3_DKOTAC_Protein.csv', index=False)"
   ]
  },
  {
   "cell_type": "markdown",
   "metadata": {},
   "source": [
    "# Top 25 Fold Changes"
   ]
  },
  {
   "cell_type": "markdown",
   "metadata": {},
   "source": [
    "This is one (simple) method to assess the severity of hyperacetylation. We'll only look at the relative occupancy corrected acetylpeptide abundances for this analysis"
   ]
  },
  {
   "cell_type": "markdown",
   "metadata": {},
   "source": [
    "First, we will limit our analysis to the mitochondria as defined by the mitocarta2 dataset"
   ]
  },
  {
   "cell_type": "code",
   "execution_count": 32,
   "metadata": {},
   "outputs": [],
   "source": [
    "df = ro_acetyl[ro_acetyl.MitoCarta2_List==True].copy()"
   ]
  },
  {
   "cell_type": "markdown",
   "metadata": {},
   "source": [
    "Now, we will move out of the log2 space for more intuitive comparisons"
   ]
  },
  {
   "cell_type": "code",
   "execution_count": 33,
   "metadata": {},
   "outputs": [],
   "source": [
    "df['DKO_TACvsDFC_TAC_FC'] = np.exp2(df.DKO_TACvsDFC_TAC_Log2FC)\n",
    "df['DKO_ShamvsDFC_Sham_FC'] = np.exp2(df.DKO_ShamvsDFC_Sham_Log2FC)"
   ]
  },
  {
   "cell_type": "markdown",
   "metadata": {},
   "source": [
    "Now, we want to pull out the specific lysine residues acetylated on each individual peptide. We want these residue positions related back to the master protein (i.e., not the position within the peptide). This isn't easily achieved in how the PD data is currently exported. Some peptides could correspond to multiple protein accessions, each with different lysine positions. All possible accessions and positions are listed in the peptide output - however, the order is arbitrary. Therefor, we need to iterate though the accessions listed and match them back to the master protein accession. "
   ]
  },
  {
   "cell_type": "code",
   "execution_count": 34,
   "metadata": {},
   "outputs": [
    {
     "data": {
      "text/html": [
       "<div>\n",
       "<style scoped>\n",
       "    .dataframe tbody tr th:only-of-type {\n",
       "        vertical-align: middle;\n",
       "    }\n",
       "\n",
       "    .dataframe tbody tr th {\n",
       "        vertical-align: top;\n",
       "    }\n",
       "\n",
       "    .dataframe thead th {\n",
       "        text-align: right;\n",
       "    }\n",
       "</style>\n",
       "<table border=\"1\" class=\"dataframe\">\n",
       "  <thead>\n",
       "    <tr style=\"text-align: right;\">\n",
       "      <th></th>\n",
       "      <th>0</th>\n",
       "      <th>1</th>\n",
       "      <th>2</th>\n",
       "      <th>3</th>\n",
       "      <th>4</th>\n",
       "      <th>5</th>\n",
       "      <th>6</th>\n",
       "      <th>7</th>\n",
       "      <th>8</th>\n",
       "      <th>9</th>\n",
       "      <th>10</th>\n",
       "    </tr>\n",
       "  </thead>\n",
       "  <tbody>\n",
       "    <tr>\n",
       "      <th>1442</th>\n",
       "      <td>Q8QZT1 1xAcetyl [K265(100)]</td>\n",
       "      <td>None</td>\n",
       "      <td>None</td>\n",
       "      <td>None</td>\n",
       "      <td>None</td>\n",
       "      <td>None</td>\n",
       "      <td>None</td>\n",
       "      <td>None</td>\n",
       "      <td>None</td>\n",
       "      <td>None</td>\n",
       "      <td>None</td>\n",
       "    </tr>\n",
       "    <tr>\n",
       "      <th>626</th>\n",
       "      <td>O08756 1xAcetyl [K104(100)]</td>\n",
       "      <td>A2AFQ2 1xAcetyl [K104(100)]</td>\n",
       "      <td>Q99N15 1xAcetyl [K104(100)]</td>\n",
       "      <td>None</td>\n",
       "      <td>None</td>\n",
       "      <td>None</td>\n",
       "      <td>None</td>\n",
       "      <td>None</td>\n",
       "      <td>None</td>\n",
       "      <td>None</td>\n",
       "      <td>None</td>\n",
       "    </tr>\n",
       "    <tr>\n",
       "      <th>1523</th>\n",
       "      <td>H3BKG7 1xAcetyl [K127(100)]</td>\n",
       "      <td>P97807 1xAcetyl [K467(100)]</td>\n",
       "      <td>P97807-2 1xAcetyl [K427(100)]</td>\n",
       "      <td>None</td>\n",
       "      <td>None</td>\n",
       "      <td>None</td>\n",
       "      <td>None</td>\n",
       "      <td>None</td>\n",
       "      <td>None</td>\n",
       "      <td>None</td>\n",
       "      <td>None</td>\n",
       "    </tr>\n",
       "    <tr>\n",
       "      <th>894</th>\n",
       "      <td>D3Z7X0 1xAcetyl [K542(100)]</td>\n",
       "      <td>Q8K370 1xAcetyl [K1056(100)]</td>\n",
       "      <td>None</td>\n",
       "      <td>None</td>\n",
       "      <td>None</td>\n",
       "      <td>None</td>\n",
       "      <td>None</td>\n",
       "      <td>None</td>\n",
       "      <td>None</td>\n",
       "      <td>None</td>\n",
       "      <td>None</td>\n",
       "    </tr>\n",
       "    <tr>\n",
       "      <th>560</th>\n",
       "      <td>Q8BMS1 1xAcetyl [K406(100)]</td>\n",
       "      <td>None</td>\n",
       "      <td>None</td>\n",
       "      <td>None</td>\n",
       "      <td>None</td>\n",
       "      <td>None</td>\n",
       "      <td>None</td>\n",
       "      <td>None</td>\n",
       "      <td>None</td>\n",
       "      <td>None</td>\n",
       "      <td>None</td>\n",
       "    </tr>\n",
       "  </tbody>\n",
       "</table>\n",
       "</div>"
      ],
      "text/plain": [
       "                               0                             1   \\\n",
       "1442  Q8QZT1 1xAcetyl [K265(100)]                          None   \n",
       "626   O08756 1xAcetyl [K104(100)]   A2AFQ2 1xAcetyl [K104(100)]   \n",
       "1523  H3BKG7 1xAcetyl [K127(100)]   P97807 1xAcetyl [K467(100)]   \n",
       "894   D3Z7X0 1xAcetyl [K542(100)]  Q8K370 1xAcetyl [K1056(100)]   \n",
       "560   Q8BMS1 1xAcetyl [K406(100)]                          None   \n",
       "\n",
       "                                 2     3     4     5     6     7     8     9   \\\n",
       "1442                           None  None  None  None  None  None  None  None   \n",
       "626     Q99N15 1xAcetyl [K104(100)]  None  None  None  None  None  None  None   \n",
       "1523  P97807-2 1xAcetyl [K427(100)]  None  None  None  None  None  None  None   \n",
       "894                            None  None  None  None  None  None  None  None   \n",
       "560                            None  None  None  None  None  None  None  None   \n",
       "\n",
       "        10  \n",
       "1442  None  \n",
       "626   None  \n",
       "1523  None  \n",
       "894   None  \n",
       "560   None  "
      ]
     },
     "execution_count": 34,
     "metadata": {},
     "output_type": "execute_result"
    }
   ],
   "source": [
    "kac_sites = df['Modifications in Proteins'].str.split('; (?!K)', expand=True, )\n",
    "kac_sites.head()"
   ]
  },
  {
   "cell_type": "markdown",
   "metadata": {},
   "source": [
    "In the above data, the peptide at index 225 is linked to the master protein accession Q99N15, located in column 3. In other rows with multiple accessions, the master protein accession can be found in any of the 10 columns listed. Therefore, we will iterate through the columns of these sites to match them back to the original accession. The matches will be combined into a list, and the list will be transformed into a Series"
   ]
  },
  {
   "cell_type": "code",
   "execution_count": 35,
   "metadata": {},
   "outputs": [],
   "source": [
    "# list to hold the sites associated with the same master protein accession\n",
    "sites = []\n",
    "for i in np.arange(0, kac_sites.columns[-1]+1):\n",
    "    bool_mask = df.Accession == kac_sites[i].str.split(' ', expand=True)[0]\n",
    "    try:\n",
    "        temp_sites = kac_sites[i].loc[bool_mask].str.split('(?<!;)\\s', expand=True)[2]\n",
    "        sites.append(temp_sites)\n",
    "    except:\n",
    "        continue"
   ]
  },
  {
   "cell_type": "code",
   "execution_count": 36,
   "metadata": {
    "scrolled": true
   },
   "outputs": [
    {
     "data": {
      "text/plain": [
       "1442    K265\n",
       "894     K542\n",
       "560     K406\n",
       "739      K70\n",
       "2046    K331\n",
       "1945     K94\n",
       "2177    K189\n",
       "1533     K46\n",
       "521     K259\n",
       "1479    K282\n",
       "Name: Acetylated Residues, dtype: object"
      ]
     },
     "execution_count": 36,
     "metadata": {},
     "output_type": "execute_result"
    }
   ],
   "source": [
    "# convert the list into a pandas series     \n",
    "sites = pd.concat(sites)\n",
    "\n",
    "# remove the percent confidence and brackets \n",
    "sites = sites.str.replace('\\(\\d{1,6}\\)', '').str.replace('\\[(.+)\\]', '\\g<1>')\n",
    "\n",
    "sites.rename('Acetylated Residues', inplace=True)\n",
    "\n",
    "sites.head(10)"
   ]
  },
  {
   "cell_type": "markdown",
   "metadata": {},
   "source": [
    "Now, we add the specific sites back to the dataframe and prepare to export"
   ]
  },
  {
   "cell_type": "code",
   "execution_count": 37,
   "metadata": {},
   "outputs": [],
   "source": [
    "# merge the residues back onto the dataframe\n",
    "df = df.merge(sites.to_frame(), left_index=True, right_index=True)"
   ]
  },
  {
   "cell_type": "code",
   "execution_count": 38,
   "metadata": {
    "collapsed": true
   },
   "outputs": [
    {
     "data": {
      "text/html": [
       "<div>\n",
       "<style scoped>\n",
       "    .dataframe tbody tr th:only-of-type {\n",
       "        vertical-align: middle;\n",
       "    }\n",
       "\n",
       "    .dataframe tbody tr th {\n",
       "        vertical-align: top;\n",
       "    }\n",
       "\n",
       "    .dataframe thead th {\n",
       "        text-align: right;\n",
       "    }\n",
       "</style>\n",
       "<table border=\"1\" class=\"dataframe\">\n",
       "  <thead>\n",
       "    <tr style=\"text-align: right;\">\n",
       "      <th></th>\n",
       "      <th>Accession</th>\n",
       "      <th>Name</th>\n",
       "      <th>Symbol</th>\n",
       "      <th>Gene Symbol</th>\n",
       "      <th>Entrez</th>\n",
       "      <th>Matrix</th>\n",
       "      <th>IMS</th>\n",
       "      <th>Acetylated Residues</th>\n",
       "      <th>DKO_TACvsDFC_TAC_FC</th>\n",
       "      <th>DKO_ShamvsDFC_Sham_FC</th>\n",
       "    </tr>\n",
       "  </thead>\n",
       "  <tbody>\n",
       "    <tr>\n",
       "      <th>1442</th>\n",
       "      <td>Q8QZT1</td>\n",
       "      <td>Acetyl-CoA acetyltransferase, mitochondrial</td>\n",
       "      <td>Acat1</td>\n",
       "      <td>Acat1</td>\n",
       "      <td>110446</td>\n",
       "      <td>True</td>\n",
       "      <td>False</td>\n",
       "      <td>K265</td>\n",
       "      <td>160.642323</td>\n",
       "      <td>94.129170</td>\n",
       "    </tr>\n",
       "    <tr>\n",
       "      <th>626</th>\n",
       "      <td>Q99N15</td>\n",
       "      <td>17beta-hydroxysteroid dehydrogenase type 10/sh...</td>\n",
       "      <td>Hsd17b10</td>\n",
       "      <td>Hsd17b10</td>\n",
       "      <td>15108</td>\n",
       "      <td>True</td>\n",
       "      <td>False</td>\n",
       "      <td>K104</td>\n",
       "      <td>139.822514</td>\n",
       "      <td>145.321052</td>\n",
       "    </tr>\n",
       "    <tr>\n",
       "      <th>1523</th>\n",
       "      <td>P97807-2</td>\n",
       "      <td>Isoform Cytoplasmic of Fumarate hydratase, mit...</td>\n",
       "      <td>Fh</td>\n",
       "      <td>Fh1</td>\n",
       "      <td>14194</td>\n",
       "      <td>True</td>\n",
       "      <td>False</td>\n",
       "      <td>K427</td>\n",
       "      <td>128.970548</td>\n",
       "      <td>17.079841</td>\n",
       "    </tr>\n",
       "    <tr>\n",
       "      <th>894</th>\n",
       "      <td>D3Z7X0</td>\n",
       "      <td>Acyl-Coenzyme A dehydrogenase family, member 12</td>\n",
       "      <td>Acad12</td>\n",
       "      <td>Acad12</td>\n",
       "      <td>338350</td>\n",
       "      <td>False</td>\n",
       "      <td>False</td>\n",
       "      <td>K542</td>\n",
       "      <td>128.444352</td>\n",
       "      <td>511.305328</td>\n",
       "    </tr>\n",
       "    <tr>\n",
       "      <th>560</th>\n",
       "      <td>Q8BMS1</td>\n",
       "      <td>Trifunctional enzyme subunit alpha, mitochondrial</td>\n",
       "      <td>Hadha</td>\n",
       "      <td>Hadha</td>\n",
       "      <td>97212</td>\n",
       "      <td>True</td>\n",
       "      <td>False</td>\n",
       "      <td>K406</td>\n",
       "      <td>118.666042</td>\n",
       "      <td>77.718462</td>\n",
       "    </tr>\n",
       "    <tr>\n",
       "      <th>739</th>\n",
       "      <td>Q3ULD5</td>\n",
       "      <td>Methylcrotonoyl-CoA carboxylase beta chain, mi...</td>\n",
       "      <td>Mccc2</td>\n",
       "      <td>Mccc2</td>\n",
       "      <td>78038</td>\n",
       "      <td>False</td>\n",
       "      <td>False</td>\n",
       "      <td>K70</td>\n",
       "      <td>107.057862</td>\n",
       "      <td>53.503575</td>\n",
       "    </tr>\n",
       "    <tr>\n",
       "      <th>2046</th>\n",
       "      <td>Q99LC5</td>\n",
       "      <td>Electron transfer flavoprotein subunit alpha, ...</td>\n",
       "      <td>Etfa</td>\n",
       "      <td>Etfa</td>\n",
       "      <td>110842</td>\n",
       "      <td>True</td>\n",
       "      <td>False</td>\n",
       "      <td>K331</td>\n",
       "      <td>93.576630</td>\n",
       "      <td>143.428684</td>\n",
       "    </tr>\n",
       "    <tr>\n",
       "      <th>1945</th>\n",
       "      <td>P97450</td>\n",
       "      <td>ATP synthase-coupling factor 6, mitochondrial</td>\n",
       "      <td>Atp5j</td>\n",
       "      <td>Atp5j</td>\n",
       "      <td>11957</td>\n",
       "      <td>False</td>\n",
       "      <td>True</td>\n",
       "      <td>K94</td>\n",
       "      <td>83.365383</td>\n",
       "      <td>83.507346</td>\n",
       "    </tr>\n",
       "    <tr>\n",
       "      <th>2177</th>\n",
       "      <td>Q99KR7</td>\n",
       "      <td>Peptidyl-prolyl cis-trans isomerase F, mitocho...</td>\n",
       "      <td>Ppif</td>\n",
       "      <td>Ppif</td>\n",
       "      <td>105675</td>\n",
       "      <td>True</td>\n",
       "      <td>False</td>\n",
       "      <td>K189</td>\n",
       "      <td>66.521064</td>\n",
       "      <td>137.274193</td>\n",
       "    </tr>\n",
       "    <tr>\n",
       "      <th>1533</th>\n",
       "      <td>P03930</td>\n",
       "      <td>ATP synthase protein 8</td>\n",
       "      <td>Mtatp8</td>\n",
       "      <td>ATP8</td>\n",
       "      <td>17706</td>\n",
       "      <td>False</td>\n",
       "      <td>False</td>\n",
       "      <td>K46</td>\n",
       "      <td>60.052727</td>\n",
       "      <td>48.938592</td>\n",
       "    </tr>\n",
       "    <tr>\n",
       "      <th>521</th>\n",
       "      <td>Q8BMS1</td>\n",
       "      <td>Trifunctional enzyme subunit alpha, mitochondrial</td>\n",
       "      <td>Hadha</td>\n",
       "      <td>Hadha</td>\n",
       "      <td>97212</td>\n",
       "      <td>True</td>\n",
       "      <td>False</td>\n",
       "      <td>K259</td>\n",
       "      <td>52.907242</td>\n",
       "      <td>42.800293</td>\n",
       "    </tr>\n",
       "    <tr>\n",
       "      <th>1479</th>\n",
       "      <td>Q8BH95</td>\n",
       "      <td>Enoyl-CoA hydratase, mitochondrial</td>\n",
       "      <td>Echs1</td>\n",
       "      <td>Echs1</td>\n",
       "      <td>93747</td>\n",
       "      <td>True</td>\n",
       "      <td>False</td>\n",
       "      <td>K282</td>\n",
       "      <td>51.835967</td>\n",
       "      <td>35.022340</td>\n",
       "    </tr>\n",
       "    <tr>\n",
       "      <th>459</th>\n",
       "      <td>Q9DCM2</td>\n",
       "      <td>Glutathione S-transferase kappa 1</td>\n",
       "      <td>Gstk1</td>\n",
       "      <td>Gstk1</td>\n",
       "      <td>76263</td>\n",
       "      <td>False</td>\n",
       "      <td>False</td>\n",
       "      <td>K93</td>\n",
       "      <td>48.855914</td>\n",
       "      <td>24.576768</td>\n",
       "    </tr>\n",
       "    <tr>\n",
       "      <th>1743</th>\n",
       "      <td>Q9DCT2</td>\n",
       "      <td>NADH dehydrogenase [ubiquinone] iron-sulfur pr...</td>\n",
       "      <td>Ndufs3</td>\n",
       "      <td>Ndufs3</td>\n",
       "      <td>68349</td>\n",
       "      <td>True</td>\n",
       "      <td>False</td>\n",
       "      <td>K42</td>\n",
       "      <td>48.519793</td>\n",
       "      <td>14.550915</td>\n",
       "    </tr>\n",
       "    <tr>\n",
       "      <th>565</th>\n",
       "      <td>Q8BMS1</td>\n",
       "      <td>Trifunctional enzyme subunit alpha, mitochondrial</td>\n",
       "      <td>Hadha</td>\n",
       "      <td>Hadha</td>\n",
       "      <td>97212</td>\n",
       "      <td>True</td>\n",
       "      <td>False</td>\n",
       "      <td>K411; K413</td>\n",
       "      <td>47.814431</td>\n",
       "      <td>59.602652</td>\n",
       "    </tr>\n",
       "    <tr>\n",
       "      <th>1939</th>\n",
       "      <td>P97450</td>\n",
       "      <td>ATP synthase-coupling factor 6, mitochondrial</td>\n",
       "      <td>Atp5j</td>\n",
       "      <td>Atp5j</td>\n",
       "      <td>11957</td>\n",
       "      <td>False</td>\n",
       "      <td>True</td>\n",
       "      <td>K79</td>\n",
       "      <td>47.184570</td>\n",
       "      <td>14.865695</td>\n",
       "    </tr>\n",
       "    <tr>\n",
       "      <th>2175</th>\n",
       "      <td>Q99KR7</td>\n",
       "      <td>Peptidyl-prolyl cis-trans isomerase F, mitocho...</td>\n",
       "      <td>Ppif</td>\n",
       "      <td>Ppif</td>\n",
       "      <td>105675</td>\n",
       "      <td>True</td>\n",
       "      <td>False</td>\n",
       "      <td>K181</td>\n",
       "      <td>46.395317</td>\n",
       "      <td>39.051346</td>\n",
       "    </tr>\n",
       "    <tr>\n",
       "      <th>328</th>\n",
       "      <td>Q99KI0</td>\n",
       "      <td>Aconitate hydratase, mitochondrial</td>\n",
       "      <td>Aco2</td>\n",
       "      <td>Aco2</td>\n",
       "      <td>11429</td>\n",
       "      <td>True</td>\n",
       "      <td>False</td>\n",
       "      <td>K461</td>\n",
       "      <td>44.456780</td>\n",
       "      <td>26.506585</td>\n",
       "    </tr>\n",
       "    <tr>\n",
       "      <th>2115</th>\n",
       "      <td>Q61425</td>\n",
       "      <td>Hydroxyacyl-coenzyme A dehydrogenase, mitochon...</td>\n",
       "      <td>Hadh</td>\n",
       "      <td>Hadh</td>\n",
       "      <td>15107</td>\n",
       "      <td>True</td>\n",
       "      <td>False</td>\n",
       "      <td>K312</td>\n",
       "      <td>40.524037</td>\n",
       "      <td>111.360015</td>\n",
       "    </tr>\n",
       "    <tr>\n",
       "      <th>500</th>\n",
       "      <td>Q91V16</td>\n",
       "      <td>Electron transfer flavoprotein regulatory fact...</td>\n",
       "      <td>Etfrf1</td>\n",
       "      <td>Lyrm5; Etfrf1</td>\n",
       "      <td>67636</td>\n",
       "      <td>False</td>\n",
       "      <td>False</td>\n",
       "      <td>K40</td>\n",
       "      <td>39.726934</td>\n",
       "      <td>15.240352</td>\n",
       "    </tr>\n",
       "    <tr>\n",
       "      <th>912</th>\n",
       "      <td>Q80XN0</td>\n",
       "      <td>D-beta-hydroxybutyrate dehydrogenase, mitochon...</td>\n",
       "      <td>Bdh1</td>\n",
       "      <td>Bdh1</td>\n",
       "      <td>71911</td>\n",
       "      <td>True</td>\n",
       "      <td>False</td>\n",
       "      <td>K103</td>\n",
       "      <td>39.305408</td>\n",
       "      <td>6.786920</td>\n",
       "    </tr>\n",
       "    <tr>\n",
       "      <th>610</th>\n",
       "      <td>Q9D0K2</td>\n",
       "      <td>Succinyl-CoA:3-ketoacid coenzyme A transferase...</td>\n",
       "      <td>Oxct1</td>\n",
       "      <td>Oxct1</td>\n",
       "      <td>67041</td>\n",
       "      <td>True</td>\n",
       "      <td>False</td>\n",
       "      <td>K291</td>\n",
       "      <td>38.896741</td>\n",
       "      <td>30.567863</td>\n",
       "    </tr>\n",
       "    <tr>\n",
       "      <th>2133</th>\n",
       "      <td>Q61425</td>\n",
       "      <td>Hydroxyacyl-coenzyme A dehydrogenase, mitochon...</td>\n",
       "      <td>Hadh</td>\n",
       "      <td>Hadh</td>\n",
       "      <td>15107</td>\n",
       "      <td>True</td>\n",
       "      <td>False</td>\n",
       "      <td>K75</td>\n",
       "      <td>36.885228</td>\n",
       "      <td>12.156977</td>\n",
       "    </tr>\n",
       "    <tr>\n",
       "      <th>574</th>\n",
       "      <td>Q99MN9</td>\n",
       "      <td>Propionyl-CoA carboxylase beta chain, mitochon...</td>\n",
       "      <td>Pccb</td>\n",
       "      <td>Pccb</td>\n",
       "      <td>66904</td>\n",
       "      <td>False</td>\n",
       "      <td>False</td>\n",
       "      <td>K101</td>\n",
       "      <td>35.921385</td>\n",
       "      <td>30.266997</td>\n",
       "    </tr>\n",
       "    <tr>\n",
       "      <th>553</th>\n",
       "      <td>Q8BMS1</td>\n",
       "      <td>Trifunctional enzyme subunit alpha, mitochondrial</td>\n",
       "      <td>Hadha</td>\n",
       "      <td>Hadha</td>\n",
       "      <td>97212</td>\n",
       "      <td>True</td>\n",
       "      <td>False</td>\n",
       "      <td>K259</td>\n",
       "      <td>35.050726</td>\n",
       "      <td>40.918839</td>\n",
       "    </tr>\n",
       "  </tbody>\n",
       "</table>\n",
       "</div>"
      ],
      "text/plain": [
       "     Accession                                               Name    Symbol  \\\n",
       "1442    Q8QZT1        Acetyl-CoA acetyltransferase, mitochondrial     Acat1   \n",
       "626     Q99N15  17beta-hydroxysteroid dehydrogenase type 10/sh...  Hsd17b10   \n",
       "1523  P97807-2  Isoform Cytoplasmic of Fumarate hydratase, mit...        Fh   \n",
       "894     D3Z7X0    Acyl-Coenzyme A dehydrogenase family, member 12    Acad12   \n",
       "560     Q8BMS1  Trifunctional enzyme subunit alpha, mitochondrial     Hadha   \n",
       "739     Q3ULD5  Methylcrotonoyl-CoA carboxylase beta chain, mi...     Mccc2   \n",
       "2046    Q99LC5  Electron transfer flavoprotein subunit alpha, ...      Etfa   \n",
       "1945    P97450      ATP synthase-coupling factor 6, mitochondrial     Atp5j   \n",
       "2177    Q99KR7  Peptidyl-prolyl cis-trans isomerase F, mitocho...      Ppif   \n",
       "1533    P03930                             ATP synthase protein 8    Mtatp8   \n",
       "521     Q8BMS1  Trifunctional enzyme subunit alpha, mitochondrial     Hadha   \n",
       "1479    Q8BH95                 Enoyl-CoA hydratase, mitochondrial     Echs1   \n",
       "459     Q9DCM2                  Glutathione S-transferase kappa 1     Gstk1   \n",
       "1743    Q9DCT2  NADH dehydrogenase [ubiquinone] iron-sulfur pr...    Ndufs3   \n",
       "565     Q8BMS1  Trifunctional enzyme subunit alpha, mitochondrial     Hadha   \n",
       "1939    P97450      ATP synthase-coupling factor 6, mitochondrial     Atp5j   \n",
       "2175    Q99KR7  Peptidyl-prolyl cis-trans isomerase F, mitocho...      Ppif   \n",
       "328     Q99KI0                 Aconitate hydratase, mitochondrial      Aco2   \n",
       "2115    Q61425  Hydroxyacyl-coenzyme A dehydrogenase, mitochon...      Hadh   \n",
       "500     Q91V16  Electron transfer flavoprotein regulatory fact...    Etfrf1   \n",
       "912     Q80XN0  D-beta-hydroxybutyrate dehydrogenase, mitochon...      Bdh1   \n",
       "610     Q9D0K2  Succinyl-CoA:3-ketoacid coenzyme A transferase...     Oxct1   \n",
       "2133    Q61425  Hydroxyacyl-coenzyme A dehydrogenase, mitochon...      Hadh   \n",
       "574     Q99MN9  Propionyl-CoA carboxylase beta chain, mitochon...      Pccb   \n",
       "553     Q8BMS1  Trifunctional enzyme subunit alpha, mitochondrial     Hadha   \n",
       "\n",
       "        Gene Symbol  Entrez  Matrix    IMS Acetylated Residues  \\\n",
       "1442          Acat1  110446    True  False                K265   \n",
       "626        Hsd17b10   15108    True  False                K104   \n",
       "1523            Fh1   14194    True  False                K427   \n",
       "894          Acad12  338350   False  False                K542   \n",
       "560           Hadha   97212    True  False                K406   \n",
       "739           Mccc2   78038   False  False                 K70   \n",
       "2046           Etfa  110842    True  False                K331   \n",
       "1945          Atp5j   11957   False   True                 K94   \n",
       "2177           Ppif  105675    True  False                K189   \n",
       "1533           ATP8   17706   False  False                 K46   \n",
       "521           Hadha   97212    True  False                K259   \n",
       "1479          Echs1   93747    True  False                K282   \n",
       "459           Gstk1   76263   False  False                 K93   \n",
       "1743         Ndufs3   68349    True  False                 K42   \n",
       "565           Hadha   97212    True  False          K411; K413   \n",
       "1939          Atp5j   11957   False   True                 K79   \n",
       "2175           Ppif  105675    True  False                K181   \n",
       "328            Aco2   11429    True  False                K461   \n",
       "2115           Hadh   15107    True  False                K312   \n",
       "500   Lyrm5; Etfrf1   67636   False  False                 K40   \n",
       "912            Bdh1   71911    True  False                K103   \n",
       "610           Oxct1   67041    True  False                K291   \n",
       "2133           Hadh   15107    True  False                 K75   \n",
       "574            Pccb   66904   False  False                K101   \n",
       "553           Hadha   97212    True  False                K259   \n",
       "\n",
       "      DKO_TACvsDFC_TAC_FC  DKO_ShamvsDFC_Sham_FC  \n",
       "1442           160.642323              94.129170  \n",
       "626            139.822514             145.321052  \n",
       "1523           128.970548              17.079841  \n",
       "894            128.444352             511.305328  \n",
       "560            118.666042              77.718462  \n",
       "739            107.057862              53.503575  \n",
       "2046            93.576630             143.428684  \n",
       "1945            83.365383              83.507346  \n",
       "2177            66.521064             137.274193  \n",
       "1533            60.052727              48.938592  \n",
       "521             52.907242              42.800293  \n",
       "1479            51.835967              35.022340  \n",
       "459             48.855914              24.576768  \n",
       "1743            48.519793              14.550915  \n",
       "565             47.814431              59.602652  \n",
       "1939            47.184570              14.865695  \n",
       "2175            46.395317              39.051346  \n",
       "328             44.456780              26.506585  \n",
       "2115            40.524037             111.360015  \n",
       "500             39.726934              15.240352  \n",
       "912             39.305408               6.786920  \n",
       "610             38.896741              30.567863  \n",
       "2133            36.885228              12.156977  \n",
       "574             35.921385              30.266997  \n",
       "553             35.050726              40.918839  "
      ]
     },
     "execution_count": 38,
     "metadata": {},
     "output_type": "execute_result"
    }
   ],
   "source": [
    "export_cols = ['Accession', 'Name', 'Symbol', 'Gene Symbol', 'Entrez', \n",
    "               'Matrix', 'IMS', 'Acetylated Residues', 'DKO_TACvsDFC_TAC_FC', 'DKO_ShamvsDFC_Sham_FC']\n",
    "\n",
    "# look at the top TACMI changing values\n",
    "df[export_cols].sort_values('DKO_TACvsDFC_TAC_FC', ascending=False).head(25)\n"
   ]
  },
  {
   "cell_type": "code",
   "execution_count": 39,
   "metadata": {},
   "outputs": [],
   "source": [
    "writer = pd.ExcelWriter('processed_files/Exp3_DKOTAC_Top25.xlsx', options={'strings_to_numbers': True})\n",
    "\n",
    "df[export_cols].sort_values('DKO_TACvsDFC_TAC_FC', ascending=False).head(25).to_excel(writer, sheet_name='Exp3_Top25_Kac_TAC_Comp', index=False)\n",
    "df[export_cols].sort_values('DKO_ShamvsDFC_Sham_FC', ascending=False).head(25).to_excel(writer, sheet_name='Exp3_Top25_Kac_Sham_Comp', index=False)\n",
    "\n",
    "writer.save()\n",
    "\n",
    "\n",
    "df[export_cols].sort_values('DKO_TACvsDFC_TAC_FC', ascending=False).head(25).to_csv('processed_files/Exp3_Top25_Kac_TAC_Comp.csv', index=False)\n",
    "df[export_cols].sort_values('DKO_ShamvsDFC_Sham_FC', ascending=False).head(25).to_csv('processed_files/Exp3_Top25_Kac_Sham_Comp.csv', index=False)\n"
   ]
  },
  {
   "cell_type": "code",
   "execution_count": null,
   "metadata": {},
   "outputs": [],
   "source": []
  }
 ],
 "metadata": {
  "kernelspec": {
   "display_name": "Python 3",
   "language": "python",
   "name": "python3"
  },
  "language_info": {
   "codemirror_mode": {
    "name": "ipython",
    "version": 3
   },
   "file_extension": ".py",
   "mimetype": "text/x-python",
   "name": "python",
   "nbconvert_exporter": "python",
   "pygments_lexer": "ipython3",
   "version": "3.7.0"
  },
  "toc": {
   "base_numbering": 1,
   "nav_menu": {},
   "number_sections": true,
   "sideBar": true,
   "skip_h1_title": false,
   "title_cell": "Table of Contents",
   "title_sidebar": "Contents",
   "toc_cell": false,
   "toc_position": {},
   "toc_section_display": true,
   "toc_window_display": false
  },
  "varInspector": {
   "cols": {
    "lenName": 16,
    "lenType": 16,
    "lenVar": 40
   },
   "kernels_config": {
    "python": {
     "delete_cmd_postfix": "",
     "delete_cmd_prefix": "del ",
     "library": "var_list.py",
     "varRefreshCmd": "print(var_dic_list())"
    },
    "r": {
     "delete_cmd_postfix": ") ",
     "delete_cmd_prefix": "rm(",
     "library": "var_list.r",
     "varRefreshCmd": "cat(var_dic_list()) "
    }
   },
   "types_to_exclude": [
    "module",
    "function",
    "builtin_function_or_method",
    "instance",
    "_Feature"
   ],
   "window_display": false
  }
 },
 "nbformat": 4,
 "nbformat_minor": 2
}
