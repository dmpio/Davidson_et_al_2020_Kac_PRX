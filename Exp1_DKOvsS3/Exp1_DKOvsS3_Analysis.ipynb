{
 "cells": [
  {
   "cell_type": "code",
   "execution_count": 1,
   "metadata": {},
   "outputs": [],
   "source": [
    "# Initialize\n",
    "import numpy as np\n",
    "import pandas as pd\n",
    "import re"
   ]
  },
  {
   "cell_type": "code",
   "execution_count": 2,
   "metadata": {},
   "outputs": [],
   "source": [
    "peptides_file = 'pd22_exports/pd22_export_exp1_Heart_DKO-Sirt3-Comparison_PeptideGroups.txt'\n",
    "proteins_file = 'pd22_exports/pd22_export_exp1_Heart_DKO-Sirt3-Comparison_Proteins.txt'\n",
    "pep = pd.read_csv(peptides_file, sep='\\t', low_memory=False)\n",
    "pro = pd.read_csv(proteins_file, sep='\\t', low_memory=False)"
   ]
  },
  {
   "cell_type": "markdown",
   "metadata": {},
   "source": [
    "# Import data from proteome discoverer"
   ]
  },
  {
   "cell_type": "markdown",
   "metadata": {},
   "source": [
    "For the peptides dataframe, use the first listed Master Protein Accession ID as the primary identifier. This identifier will be matched in the Proteins dataframe and used to pull additional information about the peptide. "
   ]
  },
  {
   "cell_type": "code",
   "execution_count": 3,
   "metadata": {},
   "outputs": [],
   "source": [
    "pep['Accession'] = pep['Master Protein Accessions'].str.split('; ', expand=True)[0]\n",
    "pro['Entrez'] = pro['Entrez Gene ID'].str.split('; ', expand=True)[0]\n",
    "pro['Ensembl'] = pro['Ensembl Gene ID'].str.split('; ', expand=True)[0]\n",
    "\n",
    "pep = pep.merge(pro[['Accession', 'Description', 'Entrez', 'Gene Symbol']], on='Accession')"
   ]
  },
  {
   "cell_type": "markdown",
   "metadata": {},
   "source": [
    "Next, import a pre-generated dataframe (stored as a pickled binary format). The information is based on the MitoCarta2 database, pulled from MitoMiner (http://mitominer.mrc-mbu.cam.ac.uk/release-4.0/begin.do) with additional, manually curated information about the particular location within the mitochondria. This will be used to identify peptides and proteins as mitochondrial.\n",
    "\n",
    "IMS = intermembrane space\n",
    "\n",
    "matrix = mitochondrial matrix"
   ]
  },
  {
   "cell_type": "code",
   "execution_count": 4,
   "metadata": {},
   "outputs": [],
   "source": [
    "mitocarta_df = pd.read_csv('mitocarta.csv')\n",
    "\n",
    "pep['MitoCarta2_List'] = pep.Entrez.isin(mitocarta_df.MouseGeneID.astype(str))\n",
    "pep['Matrix'] = pep.Entrez.isin(mitocarta_df.MouseGeneID[mitocarta_df.Matrix].astype(str))\n",
    "pep['IMS'] = pep.Entrez.isin(mitocarta_df.MouseGeneID[mitocarta_df.IMS].astype(str))\n",
    "\n",
    "pro['MitoCarta2_List'] = pro.Entrez.isin(mitocarta_df.MouseGeneID.astype(str))\n",
    "pro['Matrix'] = pro.Entrez.isin(mitocarta_df.MouseGeneID[mitocarta_df.Matrix].astype(str))\n",
    "pro['IMS'] = pro.Entrez.isin(mitocarta_df.MouseGeneID[mitocarta_df.IMS].astype(str))"
   ]
  },
  {
   "cell_type": "markdown",
   "metadata": {},
   "source": [
    "Next, we will identify columns that we want to store in a \"Master Index\". This will contian key information we want to retain from the proteome discoverer 2.2 exported file"
   ]
  },
  {
   "cell_type": "code",
   "execution_count": 5,
   "metadata": {
    "code_folding": [
     1,
     19
    ]
   },
   "outputs": [],
   "source": [
    "# a list to of columns to make a master index\n",
    "protein_mi_list = ['Accession', \n",
    "                   'Description',\n",
    "                   'Entrez',\n",
    "                   'Gene Symbol',\n",
    "                   'Ensembl',\n",
    "                   'MitoCarta2_List',\n",
    "                   'Matrix', \n",
    "                   'IMS',\n",
    "                   'Coverage [%]',\n",
    "                   '# Peptides',\n",
    "                   '# PSMs',\n",
    "                   '# Protein Unique Peptides',\n",
    "                   '# Unique Peptides', \n",
    "                   'Chromosome',\n",
    "                   'Modifications',\n",
    "                   'Acetyl (K) Count',\n",
    "                   'Acetyl (K) Positions']\n",
    "\n",
    "peptide_mi_list = ['Accession', \n",
    "                   'Description',\n",
    "                   'Entrez',\n",
    "                   'Gene Symbol',\n",
    "                   'Modifications', \n",
    "                   'MitoCarta2_List',\n",
    "                   'Matrix', \n",
    "                   'IMS', \n",
    "                   'Modifications in Proteins',\n",
    "                   'Modifications in Proteins (all Sites)',\n",
    "                   'Positions in Proteins',]"
   ]
  },
  {
   "cell_type": "markdown",
   "metadata": {},
   "source": [
    "Now, we identify the abundance columns from the experiment. These contain the quantification data for each TMT channel. There are 2 fractions that are mentioned:\n",
    "\n",
    "- F1 = \"Input\", the unenriched, pooled TMT-labeled peptides for all 10 samples. \n",
    "- F2 = \"Acetyl\", the Acetyl-lysine IP-enriched fraction \n",
    "\n",
    "The numbers (126, 130C) indicate the specific TMT tag associated with the column. \n",
    "\n",
    "Genotypes:\n",
    "- S3FL = Sirt3 floxed control\n",
    "- S3KO = Sirt3 knockout (via MCK-Cre)\n",
    "- DFC = Dual flox control (Sirt3 and Crat floxed)\n",
    "- DKO = Dual Knock-out (Sirt3 and Crat knockout via MCK-Cre)"
   ]
  },
  {
   "cell_type": "code",
   "execution_count": 6,
   "metadata": {
    "code_folding": [
     0,
     11
    ]
   },
   "outputs": [],
   "source": [
    "input_abundance_list = ['Abundance: F1: 126, Sample, Input (Fraction), S3KO (Genotype)',\n",
    "                         'Abundance: F1: 127C, Sample, Input (Fraction), S3KO (Genotype)',\n",
    "                         'Abundance: F1: 129N, Sample, Input (Fraction), S3KO (Genotype)',\n",
    "                         'Abundance: F1: 127N, Sample, Input (Fraction), S3FL (Genotype)',\n",
    "                         'Abundance: F1: 130N, Sample, Input (Fraction), S3FL (Genotype)',\n",
    "                         'Abundance: F1: 128N, Sample, Input (Fraction), DFC (Genotype)',\n",
    "                         'Abundance: F1: 129C, Sample, Input (Fraction), DFC (Genotype)',\n",
    "                         'Abundance: F1: 128C, Sample, Input (Fraction), DKO (Genotype)',\n",
    "                         'Abundance: F1: 130C, Sample, Input (Fraction), DKO (Genotype)',\n",
    "                         'Abundance: F1: 131, Sample, Input (Fraction), DKO (Genotype)',]\n",
    "\n",
    "acetyl_abundance_list = ['Abundance: F2: 126, Sample, Acetyl (Fraction), S3KO (Genotype)',\n",
    "                         'Abundance: F2: 127C, Sample, Acetyl (Fraction), S3KO (Genotype)',\n",
    "                         'Abundance: F2: 129N, Sample, Acetyl (Fraction), S3KO (Genotype)',\n",
    "                         'Abundance: F2: 127N, Sample, Acetyl (Fraction), S3FL (Genotype)',\n",
    "                         'Abundance: F2: 130N, Sample, Acetyl (Fraction), S3FL (Genotype)',\n",
    "                         'Abundance: F2: 128N, Sample, Acetyl (Fraction), DFC (Genotype)',\n",
    "                         'Abundance: F2: 129C, Sample, Acetyl (Fraction), DFC (Genotype)',\n",
    "                         'Abundance: F2: 128C, Sample, Acetyl (Fraction), DKO (Genotype)',\n",
    "                         'Abundance: F2: 130C, Sample, Acetyl (Fraction), DKO (Genotype)',\n",
    "                         'Abundance: F2: 131, Sample, Acetyl (Fraction), DKO (Genotype)',]"
   ]
  },
  {
   "cell_type": "markdown",
   "metadata": {},
   "source": [
    "These are shorter, more friendly versions of those identifier that will be used to rename the columns"
   ]
  },
  {
   "cell_type": "code",
   "execution_count": 7,
   "metadata": {
    "code_folding": [
     0,
     11
    ]
   },
   "outputs": [],
   "source": [
    "input_consolidated_list = ['S3KO,126,Input',\n",
    "                           'S3KO,127C,Input',\n",
    "                           'S3KO,129N,Input',\n",
    "                           'S3FL,127N,Input',\n",
    "                           'S3FL,130N,Input',\n",
    "                           'DFC,128N,Input',\n",
    "                           'DFC,129C,Input',\n",
    "                           'DKO,128C,Input',\n",
    "                           'DKO,130C,Input',\n",
    "                           'DKO,131,Input']\n",
    "\n",
    "acetyl_consolidated_list = ['S3KO,126,Acetyl',\n",
    "                            'S3KO,127C,Acetyl',\n",
    "                            'S3KO,129N,Acetyl',\n",
    "                            'S3FL,127N,Acetyl',\n",
    "                            'S3FL,130N,Acetyl',\n",
    "                            'DFC,128N,Acetyl',\n",
    "                            'DFC,129C,Acetyl',\n",
    "                            'DKO,128C,Acetyl',\n",
    "                            'DKO,130C,Acetyl',\n",
    "                            'DKO,131,Acetyl']"
   ]
  },
  {
   "cell_type": "code",
   "execution_count": 8,
   "metadata": {},
   "outputs": [],
   "source": [
    "acetyl_columns_df = pd.DataFrame.from_records([col.split(',') for col in acetyl_consolidated_list], \n",
    "                                              columns=['Genotype', 'Channel', 'Fraction'])\n",
    "\n",
    "input_columns_df = pd.DataFrame.from_records([col.split(',') for col in input_consolidated_list], \n",
    "                                              columns=['Genotype', 'Channel', 'Fraction'])\n",
    "\n",
    "acetyl_columns_df.set_index(acetyl_columns_df.columns.tolist(), inplace=True)\n",
    "input_columns_df.set_index(input_columns_df.columns.tolist(), inplace=True)"
   ]
  },
  {
   "cell_type": "markdown",
   "metadata": {},
   "source": [
    "## Locate the Acetyl Peptides (Kac)"
   ]
  },
  {
   "cell_type": "markdown",
   "metadata": {},
   "source": [
    "We look for peptides that were quantified from the Acetyl fraction AND contain an identified actyl-lysine residue present. While the acetyl fraction is enriched for acetylated lysine residues, not all identified peptides within this fraction contain this post-translational modification. "
   ]
  },
  {
   "cell_type": "code",
   "execution_count": 9,
   "metadata": {},
   "outputs": [],
   "source": [
    "acetyl_df = pep[pep['Modifications'].str.contains('Acetyl')][acetyl_abundance_list].dropna()\n",
    "acetyl_df.columns = acetyl_columns_df.index\n",
    "\n",
    "# Flatten the column headers for working in R\n",
    "acetyl_df.columns = ['_'.join(col).strip() for col in acetyl_df.columns.values]"
   ]
  },
  {
   "cell_type": "code",
   "execution_count": 10,
   "metadata": {},
   "outputs": [],
   "source": [
    "# Define the input - i.e., everything identified in the non-enriched fraction\n",
    "input_df = pep[input_abundance_list].dropna()\n",
    "input_df.columns = input_columns_df.index\n",
    "\n",
    "# Flatten the column headers for symmetry with acetyl\n",
    "input_df.columns = ['_'.join(col).strip() for col in input_df.columns.values]"
   ]
  },
  {
   "cell_type": "markdown",
   "metadata": {},
   "source": [
    "## Locate the protein abundances\n",
    "- Use values obtained from the input fraction - these represent the total proteome\n",
    "- Only select proteins that are called \"Master Proteins\" by proteome discoverer 2.2 wiht a FDR < 0.01"
   ]
  },
  {
   "cell_type": "code",
   "execution_count": 11,
   "metadata": {},
   "outputs": [],
   "source": [
    "protein_df = (pro[(pro.Master=='IsMasterProtein')\n",
    "                  &(pro['Exp. q-value: Combined']<=0.01)]\n",
    "              [input_abundance_list]\n",
    "              .dropna(how='all')\n",
    "              .copy())\n",
    "\n",
    "# copy the input headers and rename for proteins\n",
    "protein_df.columns = input_df.columns\n",
    "protein_df.rename(columns=lambda x: x.replace('Input', 'Proteins'), inplace=True)\n"
   ]
  },
  {
   "cell_type": "markdown",
   "metadata": {},
   "source": [
    "# Normalize Data\n",
    "- Correct for variations in total protein loading per kit\n",
    "- use the mean of the sums of total peptide loading (input fraction) to generate a correction factor\n",
    "- apply this correction factor to the acetyl peptides, 'input fraction', and proteins"
   ]
  },
  {
   "cell_type": "markdown",
   "metadata": {},
   "source": [
    "## Calculate the scaling factor for each plex "
   ]
  },
  {
   "cell_type": "code",
   "execution_count": 12,
   "metadata": {},
   "outputs": [],
   "source": [
    "channel_sums = input_df.sum(axis=0)"
   ]
  },
  {
   "cell_type": "code",
   "execution_count": 13,
   "metadata": {},
   "outputs": [
    {
     "name": "stdout",
     "output_type": "stream",
     "text": [
      "Individual Channel, Loading relative to the mean\n"
     ]
    },
    {
     "data": {
      "text/plain": [
       "S3KO_126_Input     1.066501\n",
       "S3KO_127C_Input    1.056243\n",
       "S3KO_129N_Input    0.918495\n",
       "S3FL_127N_Input    1.041513\n",
       "S3FL_130N_Input    1.012348\n",
       "DFC_128N_Input     1.107858\n",
       "DFC_129C_Input     0.830616\n",
       "DKO_128C_Input     0.909889\n",
       "DKO_130C_Input     1.002346\n",
       "DKO_131_Input      1.054191\n",
       "dtype: float64"
      ]
     },
     "execution_count": 13,
     "metadata": {},
     "output_type": "execute_result"
    }
   ],
   "source": [
    "print('Individual Channel, Loading relative to the mean')\n",
    "\n",
    "channel_sums.divide(channel_sums.mean())"
   ]
  },
  {
   "cell_type": "code",
   "execution_count": 14,
   "metadata": {},
   "outputs": [
    {
     "name": "stdout",
     "output_type": "stream",
     "text": [
      "Scaling factor to adjust relative loading to 1\n"
     ]
    },
    {
     "data": {
      "text/plain": [
       "S3KO_126_Input     0.937645\n",
       "S3KO_127C_Input    0.946752\n",
       "S3KO_129N_Input    1.088738\n",
       "S3FL_127N_Input    0.960142\n",
       "S3FL_130N_Input    0.987803\n",
       "DFC_128N_Input     0.902643\n",
       "DFC_129C_Input     1.203925\n",
       "DKO_128C_Input     1.099035\n",
       "DKO_130C_Input     0.997660\n",
       "DKO_131_Input      0.948595\n",
       "dtype: float64"
      ]
     },
     "execution_count": 14,
     "metadata": {},
     "output_type": "execute_result"
    }
   ],
   "source": [
    "print('Scaling factor to adjust relative loading to 1')\n",
    "\n",
    "scaling_factor = 1/channel_sums.divide(channel_sums.mean())\n",
    "scaling_factor"
   ]
  },
  {
   "cell_type": "markdown",
   "metadata": {},
   "source": [
    "## Apply the Scaling Factor"
   ]
  },
  {
   "cell_type": "code",
   "execution_count": 15,
   "metadata": {},
   "outputs": [
    {
     "data": {
      "text/plain": [
       "S3KO_126_Input_norm     4519881.01\n",
       "S3KO_127C_Input_norm    4519881.01\n",
       "S3KO_129N_Input_norm    4519881.01\n",
       "S3FL_127N_Input_norm    4519881.01\n",
       "S3FL_130N_Input_norm    4519881.01\n",
       "DFC_128N_Input_norm     4519881.01\n",
       "DFC_129C_Input_norm     4519881.01\n",
       "DKO_128C_Input_norm     4519881.01\n",
       "DKO_130C_Input_norm     4519881.01\n",
       "DKO_131_Input_norm      4519881.01\n",
       "dtype: float64"
      ]
     },
     "execution_count": 15,
     "metadata": {},
     "output_type": "execute_result"
    }
   ],
   "source": [
    "input_norm = (input_df * scaling_factor)\n",
    "input_norm.columns = [str(col) + '_norm' for col in input_norm.columns]\n",
    "input_norm.sum()"
   ]
  },
  {
   "cell_type": "code",
   "execution_count": 16,
   "metadata": {},
   "outputs": [
    {
     "data": {
      "text/plain": [
       "S3KO_126_Proteins_norm     3.368394e+06\n",
       "S3KO_127C_Proteins_norm    3.355619e+06\n",
       "S3KO_129N_Proteins_norm    3.366916e+06\n",
       "S3FL_127N_Proteins_norm    3.373693e+06\n",
       "S3FL_130N_Proteins_norm    3.388580e+06\n",
       "DFC_128N_Proteins_norm     3.372285e+06\n",
       "DFC_129C_Proteins_norm     3.350314e+06\n",
       "DKO_128C_Proteins_norm     3.407567e+06\n",
       "DKO_130C_Proteins_norm     3.388112e+06\n",
       "DKO_131_Proteins_norm      3.392775e+06\n",
       "dtype: float64"
      ]
     },
     "execution_count": 16,
     "metadata": {},
     "output_type": "execute_result"
    }
   ],
   "source": [
    "protein_norm = (protein_df * scaling_factor.rename(lambda x: x.replace('Input', 'Proteins')))\n",
    "protein_norm.columns = [str(col) + '_norm' for col in protein_norm.columns]\n",
    "protein_norm.sum()"
   ]
  },
  {
   "cell_type": "code",
   "execution_count": 17,
   "metadata": {},
   "outputs": [
    {
     "data": {
      "text/plain": [
       "S3KO_126_Acetyl_norm     31099.821915\n",
       "S3KO_127C_Acetyl_norm    30695.293585\n",
       "S3KO_129N_Acetyl_norm    32907.544787\n",
       "S3FL_127N_Acetyl_norm    17414.186533\n",
       "S3FL_130N_Acetyl_norm    16294.502693\n",
       "DFC_128N_Acetyl_norm     16131.940891\n",
       "DFC_129C_Acetyl_norm     17898.273591\n",
       "DKO_128C_Acetyl_norm     43946.024195\n",
       "DKO_130C_Acetyl_norm     47172.138868\n",
       "DKO_131_Acetyl_norm      47682.056225\n",
       "dtype: float64"
      ]
     },
     "execution_count": 17,
     "metadata": {},
     "output_type": "execute_result"
    }
   ],
   "source": [
    "acetyl_norm = acetyl_df * scaling_factor.rename(lambda x: x.replace('Input', 'Acetyl'))\n",
    "acetyl_norm.columns = [str(col) + '_norm' for col in acetyl_norm.columns]\n",
    "acetyl_norm.sum()"
   ]
  },
  {
   "cell_type": "markdown",
   "metadata": {},
   "source": [
    "# Calculate the \"relative occupancy\" for each plex\n",
    "- This adjusts the acetyl peptide quantification based on changes in protein quantification. This corrects not for experimental loading, but for genetic changes that may occur between the genetic knock-out and the flox control.\n",
    "- The relative occupancy corrections will be almost un-noticed in these animals, however. "
   ]
  },
  {
   "cell_type": "code",
   "execution_count": 18,
   "metadata": {},
   "outputs": [
    {
     "name": "stderr",
     "output_type": "stream",
     "text": [
      "C:\\Anaconda3\\lib\\site-packages\\ipykernel_launcher.py:3: RuntimeWarning: divide by zero encountered in log2\n",
      "  This is separate from the ipykernel package so we can avoid doing imports until\n",
      "C:\\Anaconda3\\lib\\site-packages\\ipykernel_launcher.py:4: RuntimeWarning: divide by zero encountered in log2\n",
      "  after removing the cwd from sys.path.\n"
     ]
    }
   ],
   "source": [
    "# convert the input-normalized data into the log2 space\n",
    "# subtract the row mean from each column to center each row around 0 (in log 2)\n",
    "acetyl_norm_log2 = np.log2(acetyl_norm).sub(np.log2(acetyl_norm).mean(axis=1), axis='index')\n",
    "input_norm_log2 = np.log2(input_norm).sub(np.log2(input_norm).mean(axis=1), axis='index')\n",
    "protein_norm_log2 = np.log2(protein_norm).sub(np.log2(protein_norm).mean(axis=1), axis='index')\n",
    "\n",
    "\n",
    "# rename columns to save the information\n",
    "acetyl_norm_log2.columns = [str(col) + '_log2' for col in acetyl_norm_log2.columns]\n",
    "input_norm_log2.columns = [str(col) + '_log2' for col in input_norm_log2.columns]\n",
    "protein_norm_log2.columns = [str(col) + '_log2' for col in protein_norm_log2.columns]\n"
   ]
  },
  {
   "cell_type": "markdown",
   "metadata": {},
   "source": [
    "Combine the the \"raw\", load-normalized, and log2-transformed data into a single dataframe"
   ]
  },
  {
   "cell_type": "code",
   "execution_count": 19,
   "metadata": {},
   "outputs": [],
   "source": [
    "acetyl = pd.concat([pep.loc[acetyl_norm.index][peptide_mi_list], \n",
    "                    acetyl_df, \n",
    "                    acetyl_norm, \n",
    "                    acetyl_norm_log2,], \n",
    "                   axis=1)\n",
    "\n",
    "inputs = pd.concat([pep.loc[input_norm.index][peptide_mi_list], \n",
    "                    input_df, \n",
    "                    input_norm, \n",
    "                    input_norm_log2], \n",
    "                   axis=1)\n",
    "\n",
    "protein = pd.concat([pro.loc[protein_df.index][protein_mi_list], \n",
    "                     protein_df, \n",
    "                     protein_norm, \n",
    "                     protein_norm_log2], \n",
    "                    axis=1)\n"
   ]
  },
  {
   "cell_type": "markdown",
   "metadata": {},
   "source": [
    "## Calculate the RO\n",
    "- Merge protein information along with acetyl information into a single dataframe\n",
    "- The protein abundance information will be used to correc the acetyl data (the relative occupancy)"
   ]
  },
  {
   "cell_type": "code",
   "execution_count": 20,
   "metadata": {},
   "outputs": [],
   "source": [
    "protein_merge_cols = protein.filter(regex='_log2').columns.tolist() + ['Accession']"
   ]
  },
  {
   "cell_type": "code",
   "execution_count": 21,
   "metadata": {},
   "outputs": [],
   "source": [
    "merged_acetyl = acetyl.merge(protein[protein_merge_cols], \n",
    "                             on='Accession', \n",
    "                             how='left', \n",
    "                             validate='m:1')"
   ]
  },
  {
   "cell_type": "markdown",
   "metadata": {},
   "source": [
    "The relative occupancy of the post-translational modification is calculated by subtracting changes in the protien abundance from the acetyl-peptide abundance. For example, if a PTM site is found to be increasing by 2 fold, but the protein abundnace is also increasing by 2 fold, then the relative occupancy would be 0. "
   ]
  },
  {
   "cell_type": "code",
   "execution_count": 22,
   "metadata": {},
   "outputs": [
    {
     "data": {
      "text/html": [
       "<div>\n",
       "<style scoped>\n",
       "    .dataframe tbody tr th:only-of-type {\n",
       "        vertical-align: middle;\n",
       "    }\n",
       "\n",
       "    .dataframe tbody tr th {\n",
       "        vertical-align: top;\n",
       "    }\n",
       "\n",
       "    .dataframe thead th {\n",
       "        text-align: right;\n",
       "    }\n",
       "</style>\n",
       "<table border=\"1\" class=\"dataframe\">\n",
       "  <thead>\n",
       "    <tr style=\"text-align: right;\">\n",
       "      <th></th>\n",
       "      <th>S3KO_126_Acetyl_norm_log2_ro</th>\n",
       "      <th>S3KO_127C_Acetyl_norm_log2_ro</th>\n",
       "      <th>S3KO_129N_Acetyl_norm_log2_ro</th>\n",
       "      <th>S3FL_127N_Acetyl_norm_log2_ro</th>\n",
       "      <th>S3FL_130N_Acetyl_norm_log2_ro</th>\n",
       "      <th>DFC_128N_Acetyl_norm_log2_ro</th>\n",
       "      <th>DFC_129C_Acetyl_norm_log2_ro</th>\n",
       "      <th>DKO_128C_Acetyl_norm_log2_ro</th>\n",
       "      <th>DKO_130C_Acetyl_norm_log2_ro</th>\n",
       "      <th>DKO_131_Acetyl_norm_log2_ro</th>\n",
       "    </tr>\n",
       "  </thead>\n",
       "  <tbody>\n",
       "    <tr>\n",
       "      <th>0</th>\n",
       "      <td>1.060937</td>\n",
       "      <td>-0.107952</td>\n",
       "      <td>0.102072</td>\n",
       "      <td>-0.320426</td>\n",
       "      <td>-0.104683</td>\n",
       "      <td>-1.992402</td>\n",
       "      <td>-0.375107</td>\n",
       "      <td>0.516447</td>\n",
       "      <td>0.598744</td>\n",
       "      <td>0.622369</td>\n",
       "    </tr>\n",
       "    <tr>\n",
       "      <th>1</th>\n",
       "      <td>0.211162</td>\n",
       "      <td>-0.049224</td>\n",
       "      <td>0.366715</td>\n",
       "      <td>-0.771666</td>\n",
       "      <td>-0.891082</td>\n",
       "      <td>-0.937294</td>\n",
       "      <td>-0.792389</td>\n",
       "      <td>0.979806</td>\n",
       "      <td>0.896988</td>\n",
       "      <td>0.986983</td>\n",
       "    </tr>\n",
       "    <tr>\n",
       "      <th>2</th>\n",
       "      <td>0.540714</td>\n",
       "      <td>0.858363</td>\n",
       "      <td>0.429939</td>\n",
       "      <td>-1.035488</td>\n",
       "      <td>-1.104956</td>\n",
       "      <td>-1.094247</td>\n",
       "      <td>-1.427995</td>\n",
       "      <td>0.659270</td>\n",
       "      <td>1.043544</td>\n",
       "      <td>1.130856</td>\n",
       "    </tr>\n",
       "    <tr>\n",
       "      <th>3</th>\n",
       "      <td>0.857344</td>\n",
       "      <td>0.428944</td>\n",
       "      <td>0.577243</td>\n",
       "      <td>-0.705415</td>\n",
       "      <td>-1.047717</td>\n",
       "      <td>-1.406975</td>\n",
       "      <td>-2.076860</td>\n",
       "      <td>0.896228</td>\n",
       "      <td>1.296531</td>\n",
       "      <td>1.180675</td>\n",
       "    </tr>\n",
       "    <tr>\n",
       "      <th>4</th>\n",
       "      <td>0.851653</td>\n",
       "      <td>0.736769</td>\n",
       "      <td>0.236516</td>\n",
       "      <td>-1.155680</td>\n",
       "      <td>-0.847551</td>\n",
       "      <td>-1.721933</td>\n",
       "      <td>-1.484057</td>\n",
       "      <td>0.833412</td>\n",
       "      <td>1.195101</td>\n",
       "      <td>1.355769</td>\n",
       "    </tr>\n",
       "  </tbody>\n",
       "</table>\n",
       "</div>"
      ],
      "text/plain": [
       "   S3KO_126_Acetyl_norm_log2_ro  S3KO_127C_Acetyl_norm_log2_ro  \\\n",
       "0                      1.060937                      -0.107952   \n",
       "1                      0.211162                      -0.049224   \n",
       "2                      0.540714                       0.858363   \n",
       "3                      0.857344                       0.428944   \n",
       "4                      0.851653                       0.736769   \n",
       "\n",
       "   S3KO_129N_Acetyl_norm_log2_ro  S3FL_127N_Acetyl_norm_log2_ro  \\\n",
       "0                       0.102072                      -0.320426   \n",
       "1                       0.366715                      -0.771666   \n",
       "2                       0.429939                      -1.035488   \n",
       "3                       0.577243                      -0.705415   \n",
       "4                       0.236516                      -1.155680   \n",
       "\n",
       "   S3FL_130N_Acetyl_norm_log2_ro  DFC_128N_Acetyl_norm_log2_ro  \\\n",
       "0                      -0.104683                     -1.992402   \n",
       "1                      -0.891082                     -0.937294   \n",
       "2                      -1.104956                     -1.094247   \n",
       "3                      -1.047717                     -1.406975   \n",
       "4                      -0.847551                     -1.721933   \n",
       "\n",
       "   DFC_129C_Acetyl_norm_log2_ro  DKO_128C_Acetyl_norm_log2_ro  \\\n",
       "0                     -0.375107                      0.516447   \n",
       "1                     -0.792389                      0.979806   \n",
       "2                     -1.427995                      0.659270   \n",
       "3                     -2.076860                      0.896228   \n",
       "4                     -1.484057                      0.833412   \n",
       "\n",
       "   DKO_130C_Acetyl_norm_log2_ro  DKO_131_Acetyl_norm_log2_ro  \n",
       "0                      0.598744                     0.622369  \n",
       "1                      0.896988                     0.986983  \n",
       "2                      1.043544                     1.130856  \n",
       "3                      1.296531                     1.180675  \n",
       "4                      1.195101                     1.355769  "
      ]
     },
     "execution_count": 22,
     "metadata": {},
     "output_type": "execute_result"
    }
   ],
   "source": [
    "# calculate relative occupancy in acetyl peptides\n",
    "\n",
    "relative_occupancy = (merged_acetyl.filter(regex='Acetyl_norm_log2')\n",
    "                      .sub(merged_acetyl.filter(regex='Proteins_norm_log2')\n",
    "                           # rename the protein column headers to enable easy dataframe subtraction\n",
    "                           .rename(columns=lambda x: x.replace('Proteins', 'Acetyl'))))\n",
    "\n",
    "relative_occupancy.rename(columns=lambda x: x+'_ro', inplace=True)\n",
    "\n",
    "relative_occupancy.head()"
   ]
  },
  {
   "cell_type": "code",
   "execution_count": 23,
   "metadata": {},
   "outputs": [],
   "source": [
    "# stick the relative occupancy data onto the merged data\n",
    "merged_acetyl = pd.concat([merged_acetyl, relative_occupancy], axis=1)\n",
    "\n",
    "# drop the protein columns out of the data\n",
    "merged_acetyl.drop(columns=merged_acetyl.filter(regex='_Protein').columns.tolist(), \n",
    "                   inplace=True)"
   ]
  },
  {
   "cell_type": "markdown",
   "metadata": {},
   "source": [
    "# *limma* analysis"
   ]
  },
  {
   "cell_type": "markdown",
   "metadata": {},
   "source": [
    "## Export Files for *limma* analysis"
   ]
  },
  {
   "cell_type": "markdown",
   "metadata": {},
   "source": [
    "It is probably just as easy to do this entire analysis in R, with the limma component incorporated into the data processing. I'm not very experienced in R, so the disjointed analysis with R and python was faster for me. Exporting the data from Python into a CSV to import into R was the quickest method for my purposes. One could also try the rpy2 library (I tinkered with it, but found it to be too much effort for the payoff) or exporting the dataframes from pandas into a feather/arrow format."
   ]
  },
  {
   "cell_type": "code",
   "execution_count": 24,
   "metadata": {},
   "outputs": [],
   "source": [
    "acetyl_norm.to_csv('limma/limma_export_dko-s3_kac.csv')\n",
    "\n",
    "merged_acetyl.filter(regex='_ro$').to_csv('limma/limma_export_dko-s3_RO_kac.csv')\n",
    "\n",
    "protein.filter(regex='.+_norm$').to_csv('limma/limma_export_dko-s3_proteins.csv')"
   ]
  },
  {
   "cell_type": "markdown",
   "metadata": {},
   "source": [
    "## Read Files from *limma* analysis"
   ]
  },
  {
   "cell_type": "code",
   "execution_count": 25,
   "metadata": {},
   "outputs": [],
   "source": [
    "kac_limma = pd.read_csv('limma/eb_fit_dko-s3_kac.tsv', sep='\\t')\n",
    "kac_ro_limma = pd.read_csv('limma/eb_fit_dko-s3_RO_kac.tsv', sep='\\t')\n",
    "prot_limma = pd.read_csv('limma/eb_fit_dko-s3_proteins.tsv', sep='\\t')"
   ]
  },
  {
   "cell_type": "code",
   "execution_count": 26,
   "metadata": {},
   "outputs": [],
   "source": [
    "# merge back onto data\n",
    "acetyl = pd.concat([acetyl, kac_limma], axis=1)\n",
    "\n",
    "protein = pd.concat([protein, prot_limma], axis=1)\n",
    "\n",
    "merged_acetyl = pd.concat([merged_acetyl, kac_ro_limma], axis=1)\n",
    "\n",
    "# rename to somethign more fitting now\n",
    "ro_acetyl = merged_acetyl"
   ]
  },
  {
   "cell_type": "markdown",
   "metadata": {},
   "source": [
    "Rename the limma results to have more intuitive names\n",
    "\n",
    "- `Coef` = Log2 Fold Change comparison between two groups\n",
    "- `Res` = Significance. \n",
    "    - 0 = not significant\n",
    "    - 1 = significant difference increasing\n",
    "    - -1 = significant difference decreasing"
   ]
  },
  {
   "cell_type": "code",
   "execution_count": 27,
   "metadata": {},
   "outputs": [],
   "source": [
    "limma_match = ['Coef\\.', 'p\\.value\\.', 't\\.', 'Res\\.']\n",
    "limma_replace = ['_Log2FC', '_p_value', '_t', '_significant']\n",
    "\n",
    "for match, replace in zip(limma_match, limma_replace):\n",
    "    acetyl.rename(columns=lambda x: re.sub(match + '(.+)', '\\g<1>' + replace, x), inplace=True)\n",
    "    protein.rename(columns=lambda x: re.sub(match + '(.+)', '\\g<1>' + replace, x), inplace=True)\n",
    "    ro_acetyl.rename(columns=lambda x: re.sub(match + '(.+)', '\\g<1>' + replace, x), inplace=True)"
   ]
  },
  {
   "cell_type": "markdown",
   "metadata": {},
   "source": [
    "Pull out useful information from the Description field into separate columns. Although there is a Gene Symbol field present, it isn't always populated and isn't always the same"
   ]
  },
  {
   "cell_type": "code",
   "execution_count": 28,
   "metadata": {},
   "outputs": [],
   "source": [
    "acetyl['Name'] = acetyl.Description.str.split(' [OSGNPESV]{2}=', expand=True)[0]\n",
    "acetyl['Symbol'] = acetyl.Description.str.split(' [OSGNPESV]{2}=', expand=True)[2]\n",
    "\n",
    "protein['Name'] = protein.Description.str.split(' [OSGNPESV]{2}=', expand=True)[0]\n",
    "protein['Symbol'] = protein.Description.str.split(' [OSGNPESV]{2}=', expand=True)[2]\n",
    "\n",
    "ro_acetyl['Name'] = ro_acetyl.Description.str.split(' [OSGNPESV]{2}=', expand=True)[0]\n",
    "ro_acetyl['Symbol'] = ro_acetyl.Description.str.split(' [OSGNPESV]{2}=', expand=True)[2]\n",
    "\n",
    "# reorder the columns so the information\n",
    "acetyl = acetyl[acetyl.columns.tolist()[-2:] + acetyl.columns.tolist()[:-2]]\n",
    "protein = protein[protein.columns.tolist()[-2:] + protein.columns.tolist()[:-2]]\n",
    "ro_acetyl = ro_acetyl[ro_acetyl.columns.tolist()[-2:] + ro_acetyl.columns.tolist()[:-2]]"
   ]
  },
  {
   "cell_type": "markdown",
   "metadata": {},
   "source": [
    "Sort the data"
   ]
  },
  {
   "cell_type": "code",
   "execution_count": 29,
   "metadata": {},
   "outputs": [],
   "source": [
    "protein.sort_values('Acetyl (K) Count', ascending=False, inplace=True)\n",
    "acetyl.sort_values('DKOvsDFC_Log2FC', ascending=False, inplace=True)\n",
    "ro_acetyl.sort_values('DKOvsDFC_Log2FC', ascending=False, inplace=True)"
   ]
  },
  {
   "cell_type": "markdown",
   "metadata": {},
   "source": [
    "# Export the Data"
   ]
  },
  {
   "cell_type": "code",
   "execution_count": 30,
   "metadata": {},
   "outputs": [],
   "source": [
    "writer = pd.ExcelWriter('processed_files/Exp1_DKOvsSirt3_10plex.xlsx', options={'strings_to_numbers': True})\n",
    "\n",
    "ro_acetyl.to_excel(writer, sheet_name='Exp1_DKOvsSirt3_RO_Kac', index=False)\n",
    "acetyl.to_excel(writer, sheet_name='Exp1_DKOvsSirt3_Kac', index=False)\n",
    "protein.to_excel(writer, sheet_name='Exp1_DKOvsSirt3_Protein', index=False)\n",
    "\n",
    "writer.save()"
   ]
  },
  {
   "cell_type": "code",
   "execution_count": 31,
   "metadata": {},
   "outputs": [],
   "source": [
    "ro_acetyl.to_csv('processed_files/Exp1_DKOvsSirt3_RO_Kac.csv', index=False)\n",
    "acetyl.to_csv('processed_files/Exp1_DKOvsSirt3_Kac.csv', index=False)\n",
    "protein.to_csv('processed_files/Exp1_DKOvsSirt3_Protein.csv', index=False)"
   ]
  },
  {
   "cell_type": "markdown",
   "metadata": {},
   "source": [
    "# Top 25 Fold Changes"
   ]
  },
  {
   "cell_type": "markdown",
   "metadata": {},
   "source": [
    "This is one (simple) method to assess the severity of hyperacetylation. We'll only look at the relative occupancy corrected acetylpeptide abundances for this analysis"
   ]
  },
  {
   "cell_type": "markdown",
   "metadata": {},
   "source": [
    "First, we will limit our analysis to the mitochondria as defined by the mitocarta2 dataset"
   ]
  },
  {
   "cell_type": "code",
   "execution_count": 32,
   "metadata": {},
   "outputs": [],
   "source": [
    "df = ro_acetyl[ro_acetyl.MitoCarta2_List==True].copy()"
   ]
  },
  {
   "cell_type": "markdown",
   "metadata": {},
   "source": [
    "Now, we will move out of the log2 space for more intuitive comparisons"
   ]
  },
  {
   "cell_type": "code",
   "execution_count": 33,
   "metadata": {},
   "outputs": [],
   "source": [
    "df['DKOvsDFC_FC'] = np.exp2(df.DKOvsDFC_Log2FC)\n",
    "df['S3KOvsS3FL_FC'] = np.exp2(df.S3KOvsS3FL_Log2FC)"
   ]
  },
  {
   "cell_type": "markdown",
   "metadata": {},
   "source": [
    "Now, we want to pull out the specific lysine residues acetylated on each individual peptide. We want these residue positions related back to the master protein (i.e., not the position within the peptide). This isn't easily achieved in how the PD data is currently exported. Some peptides could correspond to multiple protein accessions, each with different lysine positions. All possible accessions and positions are listed in the peptide output - however, the order is arbitrary. Therefor, we need to iterate though the accessions listed and match them back to the master protein accession. "
   ]
  },
  {
   "cell_type": "code",
   "execution_count": 34,
   "metadata": {},
   "outputs": [
    {
     "data": {
      "text/html": [
       "<div>\n",
       "<style scoped>\n",
       "    .dataframe tbody tr th:only-of-type {\n",
       "        vertical-align: middle;\n",
       "    }\n",
       "\n",
       "    .dataframe tbody tr th {\n",
       "        vertical-align: top;\n",
       "    }\n",
       "\n",
       "    .dataframe thead th {\n",
       "        text-align: right;\n",
       "    }\n",
       "</style>\n",
       "<table border=\"1\" class=\"dataframe\">\n",
       "  <thead>\n",
       "    <tr style=\"text-align: right;\">\n",
       "      <th></th>\n",
       "      <th>0</th>\n",
       "      <th>1</th>\n",
       "      <th>2</th>\n",
       "      <th>3</th>\n",
       "      <th>4</th>\n",
       "      <th>5</th>\n",
       "      <th>6</th>\n",
       "      <th>7</th>\n",
       "      <th>8</th>\n",
       "      <th>9</th>\n",
       "    </tr>\n",
       "  </thead>\n",
       "  <tbody>\n",
       "    <tr>\n",
       "      <th>225</th>\n",
       "      <td>O08756 1xAcetyl [K104(100)]</td>\n",
       "      <td>A2AFQ2 1xAcetyl [K104(100)]</td>\n",
       "      <td>Q99N15 1xAcetyl [K104(100)]</td>\n",
       "      <td>None</td>\n",
       "      <td>None</td>\n",
       "      <td>None</td>\n",
       "      <td>None</td>\n",
       "      <td>None</td>\n",
       "      <td>None</td>\n",
       "      <td>None</td>\n",
       "    </tr>\n",
       "    <tr>\n",
       "      <th>146</th>\n",
       "      <td>Q8QZT1 1xAcetyl [K260(100)]</td>\n",
       "      <td>None</td>\n",
       "      <td>None</td>\n",
       "      <td>None</td>\n",
       "      <td>None</td>\n",
       "      <td>None</td>\n",
       "      <td>None</td>\n",
       "      <td>None</td>\n",
       "      <td>None</td>\n",
       "      <td>None</td>\n",
       "    </tr>\n",
       "    <tr>\n",
       "      <th>20</th>\n",
       "      <td>Q8BMS1 1xAcetyl [K289(100)]</td>\n",
       "      <td>None</td>\n",
       "      <td>None</td>\n",
       "      <td>None</td>\n",
       "      <td>None</td>\n",
       "      <td>None</td>\n",
       "      <td>None</td>\n",
       "      <td>None</td>\n",
       "      <td>None</td>\n",
       "      <td>None</td>\n",
       "    </tr>\n",
       "    <tr>\n",
       "      <th>7</th>\n",
       "      <td>Q8BMS1 2xAcetyl [K411(100); K414(100)]</td>\n",
       "      <td>None</td>\n",
       "      <td>None</td>\n",
       "      <td>None</td>\n",
       "      <td>None</td>\n",
       "      <td>None</td>\n",
       "      <td>None</td>\n",
       "      <td>None</td>\n",
       "      <td>None</td>\n",
       "      <td>None</td>\n",
       "    </tr>\n",
       "    <tr>\n",
       "      <th>250</th>\n",
       "      <td>Q99JY0 1xAcetyl [K189(100)]</td>\n",
       "      <td>None</td>\n",
       "      <td>None</td>\n",
       "      <td>None</td>\n",
       "      <td>None</td>\n",
       "      <td>None</td>\n",
       "      <td>None</td>\n",
       "      <td>None</td>\n",
       "      <td>None</td>\n",
       "      <td>None</td>\n",
       "    </tr>\n",
       "  </tbody>\n",
       "</table>\n",
       "</div>"
      ],
      "text/plain": [
       "                                          0                            1  \\\n",
       "225             O08756 1xAcetyl [K104(100)]  A2AFQ2 1xAcetyl [K104(100)]   \n",
       "146             Q8QZT1 1xAcetyl [K260(100)]                         None   \n",
       "20              Q8BMS1 1xAcetyl [K289(100)]                         None   \n",
       "7    Q8BMS1 2xAcetyl [K411(100); K414(100)]                         None   \n",
       "250             Q99JY0 1xAcetyl [K189(100)]                         None   \n",
       "\n",
       "                               2     3     4     5     6     7     8     9  \n",
       "225  Q99N15 1xAcetyl [K104(100)]  None  None  None  None  None  None  None  \n",
       "146                         None  None  None  None  None  None  None  None  \n",
       "20                          None  None  None  None  None  None  None  None  \n",
       "7                           None  None  None  None  None  None  None  None  \n",
       "250                         None  None  None  None  None  None  None  None  "
      ]
     },
     "execution_count": 34,
     "metadata": {},
     "output_type": "execute_result"
    }
   ],
   "source": [
    "kac_sites = df['Modifications in Proteins'].str.split('; (?!K)', expand=True, )\n",
    "kac_sites.head()"
   ]
  },
  {
   "cell_type": "markdown",
   "metadata": {},
   "source": [
    "In the above data, the peptide at index 225 is linked to the master protein accession Q99N15, located in column 3. In other rows with multiple accessions, the master protein accession can be found in any of the 10 columns listed. Therefore, we will iterate through the columns of these sites to match them back to the original accession. The matches will be combined into a list, and the list will be transformed into a Series"
   ]
  },
  {
   "cell_type": "code",
   "execution_count": 35,
   "metadata": {},
   "outputs": [],
   "source": [
    "# list to hold the sites associated with the same master protein accession\n",
    "sites = []\n",
    "for i in np.arange(0, kac_sites.columns[-1]+1):\n",
    "    bool_mask = df.Accession == kac_sites[i].str.split(' ', expand=True)[0]\n",
    "    try:\n",
    "        temp_sites = kac_sites[i].loc[bool_mask].str.split('(?<!;)\\s', expand=True)[2]\n",
    "        sites.append(temp_sites)\n",
    "    except:\n",
    "        continue"
   ]
  },
  {
   "cell_type": "code",
   "execution_count": 36,
   "metadata": {
    "scrolled": true
   },
   "outputs": [
    {
     "data": {
      "text/plain": [
       "146          K260\n",
       "20           K289\n",
       "7      K411; K414\n",
       "250          K189\n",
       "293           K46\n",
       "19           K406\n",
       "166          K316\n",
       "262           K70\n",
       "292           K46\n",
       "17           K350\n",
       "Name: Acetylated Residues, dtype: object"
      ]
     },
     "execution_count": 36,
     "metadata": {},
     "output_type": "execute_result"
    }
   ],
   "source": [
    "# convert the list into a pandas series     \n",
    "sites = pd.concat(sites)\n",
    "\n",
    "# remove the percent confidence and brackets \n",
    "sites = sites.str.replace('\\(\\d{1,6}\\)', '').str.replace('\\[(.+)\\]', '\\g<1>')\n",
    "\n",
    "sites.rename('Acetylated Residues', inplace=True)\n",
    "\n",
    "sites.head(10)"
   ]
  },
  {
   "cell_type": "markdown",
   "metadata": {},
   "source": [
    "Now, we add the specific sites back to the dataframe and prepare to export"
   ]
  },
  {
   "cell_type": "code",
   "execution_count": 37,
   "metadata": {},
   "outputs": [],
   "source": [
    "# merge the residues back onto the dataframe\n",
    "df = df.merge(sites.to_frame(), left_index=True, right_index=True)"
   ]
  },
  {
   "cell_type": "code",
   "execution_count": 38,
   "metadata": {},
   "outputs": [
    {
     "data": {
      "text/html": [
       "<div>\n",
       "<style scoped>\n",
       "    .dataframe tbody tr th:only-of-type {\n",
       "        vertical-align: middle;\n",
       "    }\n",
       "\n",
       "    .dataframe tbody tr th {\n",
       "        vertical-align: top;\n",
       "    }\n",
       "\n",
       "    .dataframe thead th {\n",
       "        text-align: right;\n",
       "    }\n",
       "</style>\n",
       "<table border=\"1\" class=\"dataframe\">\n",
       "  <thead>\n",
       "    <tr style=\"text-align: right;\">\n",
       "      <th></th>\n",
       "      <th>Accession</th>\n",
       "      <th>Name</th>\n",
       "      <th>Symbol</th>\n",
       "      <th>Gene Symbol</th>\n",
       "      <th>Entrez</th>\n",
       "      <th>Matrix</th>\n",
       "      <th>IMS</th>\n",
       "      <th>Acetylated Residues</th>\n",
       "      <th>DKOvsDFC_FC</th>\n",
       "      <th>S3KOvsS3FL_FC</th>\n",
       "    </tr>\n",
       "  </thead>\n",
       "  <tbody>\n",
       "    <tr>\n",
       "      <th>225</th>\n",
       "      <td>Q99N15</td>\n",
       "      <td>17beta-hydroxysteroid dehydrogenase type 10/sh...</td>\n",
       "      <td>Hsd17b10</td>\n",
       "      <td>Hsd17b10</td>\n",
       "      <td>15108</td>\n",
       "      <td>True</td>\n",
       "      <td>False</td>\n",
       "      <td>K104</td>\n",
       "      <td>608.826588</td>\n",
       "      <td>76.675257</td>\n",
       "    </tr>\n",
       "    <tr>\n",
       "      <th>146</th>\n",
       "      <td>Q8QZT1</td>\n",
       "      <td>Acetyl-CoA acetyltransferase, mitochondrial</td>\n",
       "      <td>Acat1</td>\n",
       "      <td>Acat1</td>\n",
       "      <td>110446</td>\n",
       "      <td>True</td>\n",
       "      <td>False</td>\n",
       "      <td>K260</td>\n",
       "      <td>452.538272</td>\n",
       "      <td>117.104532</td>\n",
       "    </tr>\n",
       "    <tr>\n",
       "      <th>20</th>\n",
       "      <td>Q8BMS1</td>\n",
       "      <td>Trifunctional enzyme subunit alpha, mitochondrial</td>\n",
       "      <td>Hadha</td>\n",
       "      <td>Hadha</td>\n",
       "      <td>97212</td>\n",
       "      <td>True</td>\n",
       "      <td>False</td>\n",
       "      <td>K289</td>\n",
       "      <td>323.774243</td>\n",
       "      <td>79.883697</td>\n",
       "    </tr>\n",
       "    <tr>\n",
       "      <th>7</th>\n",
       "      <td>Q8BMS1</td>\n",
       "      <td>Trifunctional enzyme subunit alpha, mitochondrial</td>\n",
       "      <td>Hadha</td>\n",
       "      <td>Hadha</td>\n",
       "      <td>97212</td>\n",
       "      <td>True</td>\n",
       "      <td>False</td>\n",
       "      <td>K411; K414</td>\n",
       "      <td>240.042300</td>\n",
       "      <td>3.405044</td>\n",
       "    </tr>\n",
       "    <tr>\n",
       "      <th>250</th>\n",
       "      <td>Q99JY0</td>\n",
       "      <td>Trifunctional enzyme subunit beta, mitochondrial</td>\n",
       "      <td>Hadhb</td>\n",
       "      <td>Hadhb</td>\n",
       "      <td>231086</td>\n",
       "      <td>False</td>\n",
       "      <td>False</td>\n",
       "      <td>K189</td>\n",
       "      <td>140.717881</td>\n",
       "      <td>31.524822</td>\n",
       "    </tr>\n",
       "    <tr>\n",
       "      <th>293</th>\n",
       "      <td>P03930</td>\n",
       "      <td>ATP synthase protein 8</td>\n",
       "      <td>Mtatp8</td>\n",
       "      <td>ATP8</td>\n",
       "      <td>17706</td>\n",
       "      <td>False</td>\n",
       "      <td>False</td>\n",
       "      <td>K46</td>\n",
       "      <td>117.415371</td>\n",
       "      <td>69.121741</td>\n",
       "    </tr>\n",
       "    <tr>\n",
       "      <th>19</th>\n",
       "      <td>Q8BMS1</td>\n",
       "      <td>Trifunctional enzyme subunit alpha, mitochondrial</td>\n",
       "      <td>Hadha</td>\n",
       "      <td>Hadha</td>\n",
       "      <td>97212</td>\n",
       "      <td>True</td>\n",
       "      <td>False</td>\n",
       "      <td>K406</td>\n",
       "      <td>101.754690</td>\n",
       "      <td>103.153493</td>\n",
       "    </tr>\n",
       "    <tr>\n",
       "      <th>166</th>\n",
       "      <td>O35459</td>\n",
       "      <td>Delta(3,5)-Delta(2,4)-dienoyl-CoA isomerase, m...</td>\n",
       "      <td>Ech1</td>\n",
       "      <td>Ech1</td>\n",
       "      <td>51798</td>\n",
       "      <td>True</td>\n",
       "      <td>False</td>\n",
       "      <td>K316</td>\n",
       "      <td>96.442740</td>\n",
       "      <td>9.748235</td>\n",
       "    </tr>\n",
       "    <tr>\n",
       "      <th>262</th>\n",
       "      <td>Q3ULD5</td>\n",
       "      <td>Methylcrotonoyl-CoA carboxylase beta chain, mi...</td>\n",
       "      <td>Mccc2</td>\n",
       "      <td>Mccc2</td>\n",
       "      <td>78038</td>\n",
       "      <td>False</td>\n",
       "      <td>False</td>\n",
       "      <td>K70</td>\n",
       "      <td>81.816498</td>\n",
       "      <td>31.088696</td>\n",
       "    </tr>\n",
       "    <tr>\n",
       "      <th>292</th>\n",
       "      <td>P03930</td>\n",
       "      <td>ATP synthase protein 8</td>\n",
       "      <td>Mtatp8</td>\n",
       "      <td>ATP8</td>\n",
       "      <td>17706</td>\n",
       "      <td>False</td>\n",
       "      <td>False</td>\n",
       "      <td>K46</td>\n",
       "      <td>65.599156</td>\n",
       "      <td>77.843621</td>\n",
       "    </tr>\n",
       "    <tr>\n",
       "      <th>164</th>\n",
       "      <td>Q9DB20</td>\n",
       "      <td>ATP synthase subunit O, mitochondrial</td>\n",
       "      <td>Atp5o</td>\n",
       "      <td>Atp5o; LOC100047429; LOC102641678</td>\n",
       "      <td>28080</td>\n",
       "      <td>True</td>\n",
       "      <td>False</td>\n",
       "      <td>K97</td>\n",
       "      <td>63.171510</td>\n",
       "      <td>133.433794</td>\n",
       "    </tr>\n",
       "    <tr>\n",
       "      <th>17</th>\n",
       "      <td>Q8BMS1</td>\n",
       "      <td>Trifunctional enzyme subunit alpha, mitochondrial</td>\n",
       "      <td>Hadha</td>\n",
       "      <td>Hadha</td>\n",
       "      <td>97212</td>\n",
       "      <td>True</td>\n",
       "      <td>False</td>\n",
       "      <td>K350</td>\n",
       "      <td>60.174030</td>\n",
       "      <td>48.228150</td>\n",
       "    </tr>\n",
       "    <tr>\n",
       "      <th>117</th>\n",
       "      <td>Q61425</td>\n",
       "      <td>Hydroxyacyl-coenzyme A dehydrogenase, mitochon...</td>\n",
       "      <td>Hadh</td>\n",
       "      <td>Hadh</td>\n",
       "      <td>15107</td>\n",
       "      <td>True</td>\n",
       "      <td>False</td>\n",
       "      <td>K75</td>\n",
       "      <td>59.189974</td>\n",
       "      <td>79.494470</td>\n",
       "    </tr>\n",
       "    <tr>\n",
       "      <th>50</th>\n",
       "      <td>Q9CZU6</td>\n",
       "      <td>Citrate synthase, mitochondrial</td>\n",
       "      <td>Cs</td>\n",
       "      <td>Cs</td>\n",
       "      <td>12974</td>\n",
       "      <td>True</td>\n",
       "      <td>False</td>\n",
       "      <td>K52</td>\n",
       "      <td>56.079056</td>\n",
       "      <td>27.048233</td>\n",
       "    </tr>\n",
       "    <tr>\n",
       "      <th>311</th>\n",
       "      <td>P56382</td>\n",
       "      <td>ATP synthase subunit epsilon, mitochondrial</td>\n",
       "      <td>Atp5e</td>\n",
       "      <td>Atp5e</td>\n",
       "      <td>67126</td>\n",
       "      <td>False</td>\n",
       "      <td>False</td>\n",
       "      <td>K44</td>\n",
       "      <td>53.134396</td>\n",
       "      <td>15.759487</td>\n",
       "    </tr>\n",
       "    <tr>\n",
       "      <th>129</th>\n",
       "      <td>O09111</td>\n",
       "      <td>NADH dehydrogenase [ubiquinone] 1 beta subcomp...</td>\n",
       "      <td>Ndufb11</td>\n",
       "      <td>Ndufb11</td>\n",
       "      <td>104130</td>\n",
       "      <td>True</td>\n",
       "      <td>True</td>\n",
       "      <td>K43</td>\n",
       "      <td>50.818118</td>\n",
       "      <td>4.102071</td>\n",
       "    </tr>\n",
       "    <tr>\n",
       "      <th>15</th>\n",
       "      <td>Q8BMS1</td>\n",
       "      <td>Trifunctional enzyme subunit alpha, mitochondrial</td>\n",
       "      <td>Hadha</td>\n",
       "      <td>Hadha</td>\n",
       "      <td>97212</td>\n",
       "      <td>True</td>\n",
       "      <td>False</td>\n",
       "      <td>K289</td>\n",
       "      <td>49.041832</td>\n",
       "      <td>19.794004</td>\n",
       "    </tr>\n",
       "    <tr>\n",
       "      <th>18</th>\n",
       "      <td>Q8BMS1</td>\n",
       "      <td>Trifunctional enzyme subunit alpha, mitochondrial</td>\n",
       "      <td>Hadha</td>\n",
       "      <td>Hadha</td>\n",
       "      <td>97212</td>\n",
       "      <td>True</td>\n",
       "      <td>False</td>\n",
       "      <td>K259</td>\n",
       "      <td>48.799025</td>\n",
       "      <td>113.996915</td>\n",
       "    </tr>\n",
       "    <tr>\n",
       "      <th>44</th>\n",
       "      <td>Q8K2B3</td>\n",
       "      <td>Succinate dehydrogenase [ubiquinone] flavoprot...</td>\n",
       "      <td>Sdha</td>\n",
       "      <td>Sdha</td>\n",
       "      <td>66945</td>\n",
       "      <td>True</td>\n",
       "      <td>False</td>\n",
       "      <td>K179</td>\n",
       "      <td>45.707945</td>\n",
       "      <td>38.759227</td>\n",
       "    </tr>\n",
       "    <tr>\n",
       "      <th>274</th>\n",
       "      <td>Q9WUR2</td>\n",
       "      <td>Enoyl-CoA delta isomerase 2, mitochondrial</td>\n",
       "      <td>Eci2</td>\n",
       "      <td>Eci2</td>\n",
       "      <td>23986</td>\n",
       "      <td>True</td>\n",
       "      <td>False</td>\n",
       "      <td>K60</td>\n",
       "      <td>45.241729</td>\n",
       "      <td>36.476639</td>\n",
       "    </tr>\n",
       "    <tr>\n",
       "      <th>49</th>\n",
       "      <td>Q9CZU6</td>\n",
       "      <td>Citrate synthase, mitochondrial</td>\n",
       "      <td>Cs</td>\n",
       "      <td>Cs</td>\n",
       "      <td>12974</td>\n",
       "      <td>True</td>\n",
       "      <td>False</td>\n",
       "      <td>K103</td>\n",
       "      <td>39.045216</td>\n",
       "      <td>20.494896</td>\n",
       "    </tr>\n",
       "    <tr>\n",
       "      <th>145</th>\n",
       "      <td>Q8QZT1</td>\n",
       "      <td>Acetyl-CoA acetyltransferase, mitochondrial</td>\n",
       "      <td>Acat1</td>\n",
       "      <td>Acat1</td>\n",
       "      <td>110446</td>\n",
       "      <td>True</td>\n",
       "      <td>False</td>\n",
       "      <td>K260</td>\n",
       "      <td>34.681067</td>\n",
       "      <td>81.371118</td>\n",
       "    </tr>\n",
       "    <tr>\n",
       "      <th>47</th>\n",
       "      <td>Q9CZU6</td>\n",
       "      <td>Citrate synthase, mitochondrial</td>\n",
       "      <td>Cs</td>\n",
       "      <td>Cs</td>\n",
       "      <td>12974</td>\n",
       "      <td>True</td>\n",
       "      <td>False</td>\n",
       "      <td>K49; K52</td>\n",
       "      <td>33.467053</td>\n",
       "      <td>2.805847</td>\n",
       "    </tr>\n",
       "    <tr>\n",
       "      <th>62</th>\n",
       "      <td>P08249</td>\n",
       "      <td>Malate dehydrogenase, mitochondrial</td>\n",
       "      <td>Mdh2</td>\n",
       "      <td>Mdh2</td>\n",
       "      <td>17448</td>\n",
       "      <td>True</td>\n",
       "      <td>False</td>\n",
       "      <td>K335</td>\n",
       "      <td>28.949806</td>\n",
       "      <td>14.617550</td>\n",
       "    </tr>\n",
       "    <tr>\n",
       "      <th>249</th>\n",
       "      <td>Q99JY0</td>\n",
       "      <td>Trifunctional enzyme subunit beta, mitochondrial</td>\n",
       "      <td>Hadhb</td>\n",
       "      <td>Hadhb</td>\n",
       "      <td>231086</td>\n",
       "      <td>False</td>\n",
       "      <td>False</td>\n",
       "      <td>K189</td>\n",
       "      <td>28.681793</td>\n",
       "      <td>18.404674</td>\n",
       "    </tr>\n",
       "  </tbody>\n",
       "</table>\n",
       "</div>"
      ],
      "text/plain": [
       "    Accession                                               Name    Symbol  \\\n",
       "225    Q99N15  17beta-hydroxysteroid dehydrogenase type 10/sh...  Hsd17b10   \n",
       "146    Q8QZT1        Acetyl-CoA acetyltransferase, mitochondrial     Acat1   \n",
       "20     Q8BMS1  Trifunctional enzyme subunit alpha, mitochondrial     Hadha   \n",
       "7      Q8BMS1  Trifunctional enzyme subunit alpha, mitochondrial     Hadha   \n",
       "250    Q99JY0   Trifunctional enzyme subunit beta, mitochondrial     Hadhb   \n",
       "293    P03930                             ATP synthase protein 8    Mtatp8   \n",
       "19     Q8BMS1  Trifunctional enzyme subunit alpha, mitochondrial     Hadha   \n",
       "166    O35459  Delta(3,5)-Delta(2,4)-dienoyl-CoA isomerase, m...      Ech1   \n",
       "262    Q3ULD5  Methylcrotonoyl-CoA carboxylase beta chain, mi...     Mccc2   \n",
       "292    P03930                             ATP synthase protein 8    Mtatp8   \n",
       "164    Q9DB20              ATP synthase subunit O, mitochondrial     Atp5o   \n",
       "17     Q8BMS1  Trifunctional enzyme subunit alpha, mitochondrial     Hadha   \n",
       "117    Q61425  Hydroxyacyl-coenzyme A dehydrogenase, mitochon...      Hadh   \n",
       "50     Q9CZU6                    Citrate synthase, mitochondrial        Cs   \n",
       "311    P56382        ATP synthase subunit epsilon, mitochondrial     Atp5e   \n",
       "129    O09111  NADH dehydrogenase [ubiquinone] 1 beta subcomp...   Ndufb11   \n",
       "15     Q8BMS1  Trifunctional enzyme subunit alpha, mitochondrial     Hadha   \n",
       "18     Q8BMS1  Trifunctional enzyme subunit alpha, mitochondrial     Hadha   \n",
       "44     Q8K2B3  Succinate dehydrogenase [ubiquinone] flavoprot...      Sdha   \n",
       "274    Q9WUR2         Enoyl-CoA delta isomerase 2, mitochondrial      Eci2   \n",
       "49     Q9CZU6                    Citrate synthase, mitochondrial        Cs   \n",
       "145    Q8QZT1        Acetyl-CoA acetyltransferase, mitochondrial     Acat1   \n",
       "47     Q9CZU6                    Citrate synthase, mitochondrial        Cs   \n",
       "62     P08249                Malate dehydrogenase, mitochondrial      Mdh2   \n",
       "249    Q99JY0   Trifunctional enzyme subunit beta, mitochondrial     Hadhb   \n",
       "\n",
       "                           Gene Symbol  Entrez  Matrix    IMS  \\\n",
       "225                           Hsd17b10   15108    True  False   \n",
       "146                              Acat1  110446    True  False   \n",
       "20                               Hadha   97212    True  False   \n",
       "7                                Hadha   97212    True  False   \n",
       "250                              Hadhb  231086   False  False   \n",
       "293                               ATP8   17706   False  False   \n",
       "19                               Hadha   97212    True  False   \n",
       "166                               Ech1   51798    True  False   \n",
       "262                              Mccc2   78038   False  False   \n",
       "292                               ATP8   17706   False  False   \n",
       "164  Atp5o; LOC100047429; LOC102641678   28080    True  False   \n",
       "17                               Hadha   97212    True  False   \n",
       "117                               Hadh   15107    True  False   \n",
       "50                                  Cs   12974    True  False   \n",
       "311                              Atp5e   67126   False  False   \n",
       "129                            Ndufb11  104130    True   True   \n",
       "15                               Hadha   97212    True  False   \n",
       "18                               Hadha   97212    True  False   \n",
       "44                                Sdha   66945    True  False   \n",
       "274                               Eci2   23986    True  False   \n",
       "49                                  Cs   12974    True  False   \n",
       "145                              Acat1  110446    True  False   \n",
       "47                                  Cs   12974    True  False   \n",
       "62                                Mdh2   17448    True  False   \n",
       "249                              Hadhb  231086   False  False   \n",
       "\n",
       "    Acetylated Residues  DKOvsDFC_FC  S3KOvsS3FL_FC  \n",
       "225                K104   608.826588      76.675257  \n",
       "146                K260   452.538272     117.104532  \n",
       "20                 K289   323.774243      79.883697  \n",
       "7            K411; K414   240.042300       3.405044  \n",
       "250                K189   140.717881      31.524822  \n",
       "293                 K46   117.415371      69.121741  \n",
       "19                 K406   101.754690     103.153493  \n",
       "166                K316    96.442740       9.748235  \n",
       "262                 K70    81.816498      31.088696  \n",
       "292                 K46    65.599156      77.843621  \n",
       "164                 K97    63.171510     133.433794  \n",
       "17                 K350    60.174030      48.228150  \n",
       "117                 K75    59.189974      79.494470  \n",
       "50                  K52    56.079056      27.048233  \n",
       "311                 K44    53.134396      15.759487  \n",
       "129                 K43    50.818118       4.102071  \n",
       "15                 K289    49.041832      19.794004  \n",
       "18                 K259    48.799025     113.996915  \n",
       "44                 K179    45.707945      38.759227  \n",
       "274                 K60    45.241729      36.476639  \n",
       "49                 K103    39.045216      20.494896  \n",
       "145                K260    34.681067      81.371118  \n",
       "47             K49; K52    33.467053       2.805847  \n",
       "62                 K335    28.949806      14.617550  \n",
       "249                K189    28.681793      18.404674  "
      ]
     },
     "execution_count": 38,
     "metadata": {},
     "output_type": "execute_result"
    }
   ],
   "source": [
    "export_cols = ['Accession', 'Name', 'Symbol', 'Gene Symbol', 'Entrez', \n",
    "               'Matrix', 'IMS', 'Acetylated Residues', 'DKOvsDFC_FC', 'S3KOvsS3FL_FC']\n",
    "\n",
    "\n",
    "df[export_cols].head(25)"
   ]
  },
  {
   "cell_type": "code",
   "execution_count": 39,
   "metadata": {},
   "outputs": [],
   "source": [
    "writer = pd.ExcelWriter('processed_files/Exp1_DKOvsSirt3_Top25.xlsx', options={'strings_to_numbers': True})\n",
    "\n",
    "df[export_cols].sort_values('DKOvsDFC_FC', ascending=False).head(25).to_excel(writer, sheet_name='Exp1_Top25_Kac_DKOvsDFC', index=False)\n",
    "df[export_cols].sort_values('S3KOvsS3FL_FC', ascending=False).head(25).to_excel(writer, sheet_name='Exp1_Top25_Kac_S3KOvsS3FL', index=False)\n",
    "\n",
    "writer.save()\n",
    "\n",
    "\n",
    "df[export_cols].sort_values('DKOvsDFC_FC', ascending=False).head(25).to_csv('processed_files/Exp1_Top25_Kac_DKOvsDFC.csv', index=False)\n",
    "df[export_cols].sort_values('S3KOvsS3FL_FC', ascending=False).head(25).to_csv('processed_files/Exp1_Top25_Kac_S3KOvsS3FL.csv', index=False)\n"
   ]
  }
 ],
 "metadata": {
  "kernelspec": {
   "display_name": "Python 3",
   "language": "python",
   "name": "python3"
  },
  "language_info": {
   "codemirror_mode": {
    "name": "ipython",
    "version": 3
   },
   "file_extension": ".py",
   "mimetype": "text/x-python",
   "name": "python",
   "nbconvert_exporter": "python",
   "pygments_lexer": "ipython3",
   "version": "3.7.0"
  },
  "toc": {
   "base_numbering": 1,
   "nav_menu": {},
   "number_sections": true,
   "sideBar": true,
   "skip_h1_title": false,
   "title_cell": "Table of Contents",
   "title_sidebar": "Contents",
   "toc_cell": false,
   "toc_position": {},
   "toc_section_display": true,
   "toc_window_display": false
  },
  "varInspector": {
   "cols": {
    "lenName": 16,
    "lenType": 16,
    "lenVar": 40
   },
   "kernels_config": {
    "python": {
     "delete_cmd_postfix": "",
     "delete_cmd_prefix": "del ",
     "library": "var_list.py",
     "varRefreshCmd": "print(var_dic_list())"
    },
    "r": {
     "delete_cmd_postfix": ") ",
     "delete_cmd_prefix": "rm(",
     "library": "var_list.r",
     "varRefreshCmd": "cat(var_dic_list()) "
    }
   },
   "types_to_exclude": [
    "module",
    "function",
    "builtin_function_or_method",
    "instance",
    "_Feature"
   ],
   "window_display": false
  }
 },
 "nbformat": 4,
 "nbformat_minor": 2
}
